{
  "cells": [
    {
      "cell_type": "code",
      "execution_count": 3,
      "metadata": {
        "colab": {
          "base_uri": "https://localhost:8080/"
        },
        "id": "MLtGKnxWT073",
        "outputId": "1abeeedc-b07e-4eb8-ab74-be44499d0fb4"
      },
      "outputs": [
        {
          "name": "stdout",
          "output_type": "stream",
          "text": [
            "Collecting openai==0.28\n",
            "  Downloading openai-0.28.0-py3-none-any.whl (76 kB)\n",
            "\u001b[2K     \u001b[90m━━━━━━━━━━━━━━━━━━━━━━━━━━━━━━━━━━━━━━━━\u001b[0m \u001b[32m76.5/76.5 kB\u001b[0m \u001b[31m1.9 MB/s\u001b[0m eta \u001b[36m0:00:00\u001b[0m\n",
            "\u001b[?25hRequirement already satisfied: requests>=2.20 in /usr/local/lib/python3.10/dist-packages (from openai==0.28) (2.31.0)\n",
            "Requirement already satisfied: tqdm in /usr/local/lib/python3.10/dist-packages (from openai==0.28) (4.66.1)\n",
            "Requirement already satisfied: aiohttp in /usr/local/lib/python3.10/dist-packages (from openai==0.28) (3.9.1)\n",
            "Requirement already satisfied: charset-normalizer<4,>=2 in /usr/local/lib/python3.10/dist-packages (from requests>=2.20->openai==0.28) (3.3.2)\n",
            "Requirement already satisfied: idna<4,>=2.5 in /usr/local/lib/python3.10/dist-packages (from requests>=2.20->openai==0.28) (3.6)\n",
            "Requirement already satisfied: urllib3<3,>=1.21.1 in /usr/local/lib/python3.10/dist-packages (from requests>=2.20->openai==0.28) (2.0.7)\n",
            "Requirement already satisfied: certifi>=2017.4.17 in /usr/local/lib/python3.10/dist-packages (from requests>=2.20->openai==0.28) (2023.11.17)\n",
            "Requirement already satisfied: attrs>=17.3.0 in /usr/local/lib/python3.10/dist-packages (from aiohttp->openai==0.28) (23.1.0)\n",
            "Requirement already satisfied: multidict<7.0,>=4.5 in /usr/local/lib/python3.10/dist-packages (from aiohttp->openai==0.28) (6.0.4)\n",
            "Requirement already satisfied: yarl<2.0,>=1.0 in /usr/local/lib/python3.10/dist-packages (from aiohttp->openai==0.28) (1.9.3)\n",
            "Requirement already satisfied: frozenlist>=1.1.1 in /usr/local/lib/python3.10/dist-packages (from aiohttp->openai==0.28) (1.4.0)\n",
            "Requirement already satisfied: aiosignal>=1.1.2 in /usr/local/lib/python3.10/dist-packages (from aiohttp->openai==0.28) (1.3.1)\n",
            "Requirement already satisfied: async-timeout<5.0,>=4.0 in /usr/local/lib/python3.10/dist-packages (from aiohttp->openai==0.28) (4.0.3)\n",
            "Installing collected packages: openai\n",
            "\u001b[31mERROR: pip's dependency resolver does not currently take into account all the packages that are installed. This behaviour is the source of the following dependency conflicts.\n",
            "llmx 0.0.15a0 requires cohere, which is not installed.\n",
            "llmx 0.0.15a0 requires tiktoken, which is not installed.\u001b[0m\u001b[31m\n",
            "\u001b[0mSuccessfully installed openai-0.28.0\n"
          ]
        }
      ],
      "source": [
        "\n",
        "#install openai on colab (We are using old version as the new version was released on Nov 8, 2023)\n",
        "!pip install openai==0.28\n"
      ]
    },
    {
      "cell_type": "code",
      "execution_count": 4,
      "metadata": {
        "colab": {
          "base_uri": "https://localhost:8080/"
        },
        "id": "K1IiyT0iT8PZ",
        "outputId": "c3dad4bd-d69d-4fbc-c6d8-05aa6dfdb170"
      },
      "outputs": [
        {
          "name": "stdout",
          "output_type": "stream",
          "text": [
            "\n",
            "\n",
            "The History of the Silicon Valley and How It Literally Changed the World\n",
            "\n",
            "The Silicon Valley is a region in the southern part of the San Francisco Bay Area in Northern California that is home to many of the world’s largest high-tech corporations. The term originally referred to the Santa Clara Valley, which was the site of the first major computer companies, including Fairchild Semiconductor, Intel, and Xerox PARC.\n",
            "\n",
            "In the late 1960s and early 1970s, the Santa Clara Valley was the center of the counterculture movement in the United States. The region was home to the hippie movement as well as the birth of the personal computer. The first personal computers, including the Apple I and the Altair 8800, were developed in the Silicon Valley.\n",
            "\n",
            "The Silicon Valley has been the home of the semiconductor and computer industries since the 1950s. In the 1960s, the region became known for its high-tech companies, such as Hewlett-Packard, Atari, and Apple Computer. The 1980s saw the rise of the personal computer, with companies such as Apple, Commodore, and IBM.\n",
            "\n",
            "The 1990s were a period of tremendous growth for the Silicon Valley. The region became home to many of the world’s largest Internet companies, including Yahoo!, Excite, and Netscape. The dot-com boom of the late 1990s led to a period of unprecedented growth in the Silicon Valley.\n",
            "\n",
            "Today, the Silicon Valley is home to some of the world’s largest technology companies, including Google, Facebook, and Apple. The region is also home to a number of venture capital firms, which provide funding for start-up companies. The Silicon Valley is a global center for innovation and a major driver of the economy.\n"
          ]
        }
      ],
      "source": [
        "# Import the OpenAI API library\n",
        "import openai\n",
        "\n",
        "# Assign your API key to a variable\n",
        "secret_key = 'your api key'\n",
        "\n",
        "# Set the OpenAI API key for authentication\n",
        "openai.api_key = secret_key\n",
        "\n",
        "\n",
        "# Define the prompt for the language model\n",
        "prompt = 'Write an essay about the History of the Silicon Valley and how this place literally changed the world'\n",
        "\n",
        "# Call the OpenAI API with the specified model, prompt, maximum token length, and temperature\n",
        "output = openai.Completion.create(\n",
        "    engine=\"text-davinci-002\",\n",
        "    prompt=prompt,\n",
        "    max_tokens=1000,\n",
        "    temperature=0.5\n",
        ")\n",
        "\n",
        "# Print the generated text\n",
        "print(output.choices[0].text)\n",
        "\n",
        "\n",
        "\n",
        "\n",
        "\n"
      ]
    },
    {
      "cell_type": "code",
      "execution_count": null,
      "metadata": {
        "id": "OCu-tTAtVRKw"
      },
      "outputs": [],
      "source": []
    }
  ],
  "metadata": {
    "colab": {
      "provenance": []
    },
    "kernelspec": {
      "display_name": "Python 3",
      "name": "python3"
    },
    "language_info": {
      "name": "python"
    }
  },
  "nbformat": 4,
  "nbformat_minor": 0
}
