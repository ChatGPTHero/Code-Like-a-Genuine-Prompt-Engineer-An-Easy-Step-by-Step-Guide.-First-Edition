{
  "cells": [
    {
      "cell_type": "code",
      "execution_count": 4,
      "metadata": {
        "colab": {
          "base_uri": "https://localhost:8080/"
        },
        "id": "OCsvG5XwT9nf",
        "outputId": "d171a23b-e8e4-421e-9811-36a554db0698"
      },
      "outputs": [
        {
          "name": "stdout",
          "output_type": "stream",
          "text": [
            "Requirement already satisfied: openai in /usr/local/lib/python3.10/dist-packages (0.28.1)\n",
            "Requirement already satisfied: requests>=2.20 in /usr/local/lib/python3.10/dist-packages (from openai) (2.31.0)\n",
            "Requirement already satisfied: tqdm in /usr/local/lib/python3.10/dist-packages (from openai) (4.66.1)\n",
            "Requirement already satisfied: aiohttp in /usr/local/lib/python3.10/dist-packages (from openai) (3.8.5)\n",
            "Requirement already satisfied: charset-normalizer<4,>=2 in /usr/local/lib/python3.10/dist-packages (from requests>=2.20->openai) (3.2.0)\n",
            "Requirement already satisfied: idna<4,>=2.5 in /usr/local/lib/python3.10/dist-packages (from requests>=2.20->openai) (3.4)\n",
            "Requirement already satisfied: urllib3<3,>=1.21.1 in /usr/local/lib/python3.10/dist-packages (from requests>=2.20->openai) (2.0.4)\n",
            "Requirement already satisfied: certifi>=2017.4.17 in /usr/local/lib/python3.10/dist-packages (from requests>=2.20->openai) (2023.7.22)\n",
            "Requirement already satisfied: attrs>=17.3.0 in /usr/local/lib/python3.10/dist-packages (from aiohttp->openai) (23.1.0)\n",
            "Requirement already satisfied: multidict<7.0,>=4.5 in /usr/local/lib/python3.10/dist-packages (from aiohttp->openai) (6.0.4)\n",
            "Requirement already satisfied: async-timeout<5.0,>=4.0.0a3 in /usr/local/lib/python3.10/dist-packages (from aiohttp->openai) (4.0.3)\n",
            "Requirement already satisfied: yarl<2.0,>=1.0 in /usr/local/lib/python3.10/dist-packages (from aiohttp->openai) (1.9.2)\n",
            "Requirement already satisfied: frozenlist>=1.1.1 in /usr/local/lib/python3.10/dist-packages (from aiohttp->openai) (1.4.0)\n",
            "Requirement already satisfied: aiosignal>=1.1.2 in /usr/local/lib/python3.10/dist-packages (from aiohttp->openai) (1.3.1)\n"
          ]
        }
      ],
      "source": [
        "#install openai on colab\n",
        "!pip install openai\n"
      ]
    },
    {
      "cell_type": "code",
      "execution_count": 5,
      "metadata": {
        "colab": {
          "base_uri": "https://localhost:8080/"
        },
        "id": "wvgitJr0UmSR",
        "outputId": "5944bb34-08cb-4d85-9482-7028bd69f13d"
      },
      "outputs": [
        {
          "name": "stdout",
          "output_type": "stream",
          "text": [
            "\n",
            "\n",
            "The Silicon Valley is a place where technology and innovation are born. This place is responsible for changing the world as we know it. The Valley has been a breeding ground for some of the most groundbreaking technology in history. From the invention of the microchip to the development of the internet, Silicon Valley has been a driving force in many of the world’s most important technological advances.\n",
            "\n",
            "The Silicon Valley was founded in the late 1940s by a group of engineers who were looking for a place to start their own company. They were drawn to the area because of the warm climate and the abundance of resources. The early days of the Valley were tough. The area was mostly rural and there was no infrastructure to support businesses. However, the engineers were determined and they persevered.\n",
            "\n",
            "Over the years, the Silicon Valley has become one of the most important and successful areas in the world. The Valley has played a major role in the development of many of the world’s most important technologies. Some of the most famous companies in the world, such as Google, Intel, and Apple, were founded in the Silicon Valley.\n",
            "\n",
            "The Silicon Valley has had a profound impact on the world economy. The Valley has been responsible for creating many of the world’s most successful companies. These companies have revolutionized the way we live and work. The Valley has also been a major driver of the global economy.\n",
            "\n",
            "The Silicon Valley is a place where innovation and technology are born. This place is responsible for changing the world as we know it. The Valley has been a driving force in many of the world’s most important technological advances. From the invention of the microchip to the development of the internet, Silicon Valley has been a driving force in many of the world’s most important technological advances.\n"
          ]
        }
      ],
      "source": [
        "#Import the OpenAI API library\n",
        "import openai\n",
        "\n",
        "# Assign your API key to a variable\n",
        "secret_key = 'your api key'\n",
        "\n",
        "# Set the OpenAI API key for authentication\n",
        "openai.api_key = secret_key\n",
        "\n",
        "# Define the prompt for the language model\n",
        "prompt = 'Write an essay about the History of the Silicon Valley and how this place literally changed the world'\n",
        "\n",
        "# Call the OpenAI API with the specified model, prompt, maximum token length, and temperature\n",
        "output = openai.Completion.create(\n",
        "    engine=\"text-curie-001\",\n",
        "    prompt=prompt,\n",
        "    max_tokens=1000,\n",
        "    temperature=0.5\n",
        ")\n",
        "\n",
        "# Print the generated text\n",
        "print(output.choices[0].text)\n"
      ]
    },
    {
      "cell_type": "code",
      "execution_count": null,
      "metadata": {
        "id": "UlrPkJPvVF-M"
      },
      "outputs": [],
      "source": []
    }
  ],
  "metadata": {
    "colab": {
      "provenance": []
    },
    "kernelspec": {
      "display_name": "Python 3",
      "name": "python3"
    },
    "language_info": {
      "name": "python"
    }
  },
  "nbformat": 4,
  "nbformat_minor": 0
}
