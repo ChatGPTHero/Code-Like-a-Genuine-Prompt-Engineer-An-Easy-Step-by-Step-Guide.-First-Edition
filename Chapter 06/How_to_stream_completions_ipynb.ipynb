{
  "cells": [
    {
      "cell_type": "code",
      "execution_count": 4,
      "metadata": {
        "colab": {
          "base_uri": "https://localhost:8080/"
        },
        "id": "ErfKo-pSbGEJ",
        "outputId": "1eee1331-9d64-4534-f9b6-50b8ad894aad"
      },
      "outputs": [
        {
          "name": "stdout",
          "output_type": "stream",
          "text": [
            "Requirement already satisfied: openai in /usr/local/lib/python3.10/dist-packages (1.6.1)\n",
            "Requirement already satisfied: anyio<5,>=3.5.0 in /usr/local/lib/python3.10/dist-packages (from openai) (3.7.1)\n",
            "Requirement already satisfied: distro<2,>=1.7.0 in /usr/lib/python3/dist-packages (from openai) (1.7.0)\n",
            "Requirement already satisfied: httpx<1,>=0.23.0 in /usr/local/lib/python3.10/dist-packages (from openai) (0.26.0)\n",
            "Requirement already satisfied: pydantic<3,>=1.9.0 in /usr/local/lib/python3.10/dist-packages (from openai) (1.10.13)\n",
            "Requirement already satisfied: sniffio in /usr/local/lib/python3.10/dist-packages (from openai) (1.3.0)\n",
            "Requirement already satisfied: tqdm>4 in /usr/local/lib/python3.10/dist-packages (from openai) (4.66.1)\n",
            "Requirement already satisfied: typing-extensions<5,>=4.7 in /usr/local/lib/python3.10/dist-packages (from openai) (4.9.0)\n",
            "Requirement already satisfied: idna>=2.8 in /usr/local/lib/python3.10/dist-packages (from anyio<5,>=3.5.0->openai) (3.6)\n",
            "Requirement already satisfied: exceptiongroup in /usr/local/lib/python3.10/dist-packages (from anyio<5,>=3.5.0->openai) (1.2.0)\n",
            "Requirement already satisfied: certifi in /usr/local/lib/python3.10/dist-packages (from httpx<1,>=0.23.0->openai) (2023.11.17)\n",
            "Requirement already satisfied: httpcore==1.* in /usr/local/lib/python3.10/dist-packages (from httpx<1,>=0.23.0->openai) (1.0.2)\n",
            "Requirement already satisfied: h11<0.15,>=0.13 in /usr/local/lib/python3.10/dist-packages (from httpcore==1.*->httpx<1,>=0.23.0->openai) (0.14.0)\n"
          ]
        }
      ],
      "source": [
        "!pip install openai"
      ]
    },
    {
      "cell_type": "code",
      "execution_count": 5,
      "metadata": {
        "id": "XfRIBUSjf-fl"
      },
      "outputs": [],
      "source": [
        "# imports\n",
        "import time  # for measuring time duration of API calls\n",
        "from openai import OpenAI\n",
        "client = OpenAI(api_key = \"you api key\")  # for OpenAI API calls"
      ]
    },
    {
      "cell_type": "code",
      "execution_count": 6,
      "metadata": {
        "colab": {
          "base_uri": "https://localhost:8080/"
        },
        "id": "qBAsH0Dpo6Bx",
        "outputId": "a17480a7-c3a0-482c-fbe3-7109a0703178"
      },
      "outputs": [
        {
          "name": "stdout",
          "output_type": "stream",
          "text": [
            "Full response received 2.83 seconds after request\n",
            "Full response received:\n",
            "ChatCompletion(id='chatcmpl-8ZqJg5sAztG8giBVvRdO0nRtUfENn', choices=[Choice(finish_reason='stop', index=0, logprobs=None, message=ChatCompletionMessage(content='1, 2, 3, 4, 5, 6, 7, 8, 9, 10, 11, 12, 13, 14, 15, 16, 17, 18, 19, 20, 21, 22, 23, 24, 25, 26, 27, 28, 29, 30, 31, 32, 33, 34, 35, 36, 37, 38, 39, 40, 41, 42, 43, 44, 45, 46, 47, 48, 49, 50', role='assistant', function_call=None, tool_calls=None))], created=1703553276, model='gpt-3.5-turbo-0613', object='chat.completion', system_fingerprint=None, usage=CompletionUsage(completion_tokens=148, prompt_tokens=36, total_tokens=184))\n"
          ]
        }
      ],
      "source": [
        "# Example of an OpenAI ChatCompletion request\n",
        "# https://platform.openai.com/docs/guides/chat\n",
        "\n",
        "# record the time before the request is sent\n",
        "start_time = time.time()\n",
        "\n",
        "# send a ChatCompletion request to count to 50\n",
        "completion =  client.chat.completions.create(\n",
        "    model='gpt-3.5-turbo',\n",
        "    messages=[\n",
        "        {'role': 'user', 'content': 'Count to 50, with a comma between each number and no newlines. E.g., 1, 2, 3, ...'}\n",
        "    ],\n",
        "    temperature=0,\n",
        ")\n",
        "# calculate the time it took to receive the response\n",
        "response_time = time.time() - start_time\n",
        "\n",
        "# print the time delay and text received\n",
        "print(f\"Full response received {response_time:.2f} seconds after request\")\n",
        "print(f\"Full response received:\\n{completion}\")\n"
      ]
    },
    {
      "cell_type": "code",
      "execution_count": 7,
      "metadata": {
        "colab": {
          "base_uri": "https://localhost:8080/"
        },
        "id": "gN7SyeO9pYi-",
        "outputId": "da1bbda3-2b44-4440-bee0-d792d58993d6"
      },
      "outputs": [
        {
          "name": "stdout",
          "output_type": "stream",
          "text": [
            "Extracted reply: \n",
            "ChatCompletionMessage(content='1, 2, 3, 4, 5, 6, 7, 8, 9, 10, 11, 12, 13, 14, 15, 16, 17, 18, 19, 20, 21, 22, 23, 24, 25, 26, 27, 28, 29, 30, 31, 32, 33, 34, 35, 36, 37, 38, 39, 40, 41, 42, 43, 44, 45, 46, 47, 48, 49, 50', role='assistant', function_call=None, tool_calls=None)\n",
            "Extracted content: \n",
            "1, 2, 3, 4, 5, 6, 7, 8, 9, 10, 11, 12, 13, 14, 15, 16, 17, 18, 19, 20, 21, 22, 23, 24, 25, 26, 27, 28, 29, 30, 31, 32, 33, 34, 35, 36, 37, 38, 39, 40, 41, 42, 43, 44, 45, 46, 47, 48, 49, 50\n"
          ]
        }
      ],
      "source": [
        "reply = completion.choices[0].message\n",
        "print(f\"Extracted reply: \\n{reply}\")\n",
        "\n",
        "reply_content = completion.choices[0].message.content\n",
        "print(f\"Extracted content: \\n{reply_content}\")\n"
      ]
    },
    {
      "cell_type": "code",
      "execution_count": 8,
      "metadata": {
        "colab": {
          "base_uri": "https://localhost:8080/"
        },
        "id": "RUkqCgqopfPC",
        "outputId": "f5923756-4641-4d5a-c0f2-451b7399f991"
      },
      "outputs": [
        {
          "name": "stdout",
          "output_type": "stream",
          "text": [
            "ChatCompletionChunk(id='chatcmpl-8ZqJnMcKvh16rwyZcLzysjG86sCO6', choices=[Choice(delta=ChoiceDelta(content='', function_call=None, role='assistant', tool_calls=None), finish_reason=None, index=0, logprobs=None)], created=1703553283, model='gpt-3.5-turbo-0613', object='chat.completion.chunk', system_fingerprint=None)\n",
            "\n",
            "****************\n",
            "ChatCompletionChunk(id='chatcmpl-8ZqJnMcKvh16rwyZcLzysjG86sCO6', choices=[Choice(delta=ChoiceDelta(content='2', function_call=None, role=None, tool_calls=None), finish_reason=None, index=0, logprobs=None)], created=1703553283, model='gpt-3.5-turbo-0613', object='chat.completion.chunk', system_fingerprint=None)\n",
            "2\n",
            "****************\n",
            "ChatCompletionChunk(id='chatcmpl-8ZqJnMcKvh16rwyZcLzysjG86sCO6', choices=[Choice(delta=ChoiceDelta(content=None, function_call=None, role=None, tool_calls=None), finish_reason='stop', index=0, logprobs=None)], created=1703553283, model='gpt-3.5-turbo-0613', object='chat.completion.chunk', system_fingerprint=None)\n",
            "None\n",
            "****************\n"
          ]
        }
      ],
      "source": [
        "# Example of an OpenAI ChatCompletion request with stream=True\n",
        "# https://platform.openai.com/docs/guides/chat\n",
        "\n",
        "completion = client.chat.completions.create(\n",
        "    model='gpt-3.5-turbo',\n",
        "    messages=[\n",
        "        {'role': 'user', 'content': \"What's 1+1? Answer in one word.\"}\n",
        "    ],\n",
        "    temperature=0,\n",
        "    stream=True  # this time, we set stream=True\n",
        ")\n",
        "\n",
        "for chunk in completion:\n",
        "    print(chunk)\n",
        "    print(chunk.choices[0].delta.content)\n",
        "    print(\"****************\")"
      ]
    },
    {
      "cell_type": "code",
      "execution_count": 9,
      "metadata": {
        "colab": {
          "base_uri": "https://localhost:8080/"
        },
        "id": "t_v4kge-pqbc",
        "outputId": "bc8bb8c0-812c-4603-9c85-85d65283ff8a"
      },
      "outputs": [
        {
          "name": "stdout",
          "output_type": "stream",
          "text": [
            "Message received 0.89 seconds after request: \n",
            "Message received 0.93 seconds after request: 1\n",
            "Message received 0.93 seconds after request: ,\n",
            "Message received 0.93 seconds after request:  \n",
            "Message received 0.97 seconds after request: 2\n",
            "Message received 0.97 seconds after request: ,\n",
            "Message received 0.97 seconds after request:  \n",
            "Message received 1.01 seconds after request: 3\n",
            "Message received 1.01 seconds after request: ,\n",
            "Message received 1.01 seconds after request:  \n",
            "Message received 1.05 seconds after request: 4\n",
            "Message received 1.05 seconds after request: ,\n",
            "Message received 1.05 seconds after request:  \n",
            "Message received 1.09 seconds after request: 5\n",
            "Message received 1.09 seconds after request: ,\n",
            "Message received 1.09 seconds after request:  \n",
            "Message received 1.13 seconds after request: 6\n",
            "Message received 1.13 seconds after request: ,\n",
            "Message received 1.13 seconds after request:  \n",
            "Message received 1.17 seconds after request: 7\n",
            "Message received 1.17 seconds after request: ,\n",
            "Message received 1.17 seconds after request:  \n",
            "Message received 1.21 seconds after request: 8\n",
            "Message received 1.21 seconds after request: ,\n",
            "Message received 1.21 seconds after request:  \n",
            "Message received 1.25 seconds after request: 9\n",
            "Message received 1.25 seconds after request: ,\n",
            "Message received 1.25 seconds after request:  \n",
            "Message received 1.29 seconds after request: 10\n",
            "Message received 1.29 seconds after request: ,\n",
            "Message received 1.29 seconds after request:  \n",
            "Message received 1.33 seconds after request: 11\n",
            "Message received 1.33 seconds after request: ,\n",
            "Message received 1.33 seconds after request:  \n",
            "Message received 1.37 seconds after request: 12\n",
            "Message received 1.37 seconds after request: ,\n",
            "Message received 1.37 seconds after request:  \n",
            "Message received 1.56 seconds after request: 13\n",
            "Message received 1.56 seconds after request: ,\n",
            "Message received 1.56 seconds after request:  \n",
            "Message received 1.60 seconds after request: 14\n",
            "Message received 1.60 seconds after request: ,\n",
            "Message received 1.60 seconds after request:  \n",
            "Message received 1.64 seconds after request: 15\n",
            "Message received 1.64 seconds after request: ,\n",
            "Message received 1.64 seconds after request:  \n",
            "Message received 1.68 seconds after request: 16\n",
            "Message received 1.68 seconds after request: ,\n",
            "Message received 1.68 seconds after request:  \n",
            "Message received 1.72 seconds after request: 17\n",
            "Message received 1.72 seconds after request: ,\n",
            "Message received 1.72 seconds after request:  \n",
            "Message received 1.77 seconds after request: 18\n",
            "Message received 1.77 seconds after request: ,\n",
            "Message received 1.77 seconds after request:  \n",
            "Message received 1.80 seconds after request: 19\n",
            "Message received 1.80 seconds after request: ,\n",
            "Message received 1.80 seconds after request:  \n",
            "Message received 1.84 seconds after request: 20\n",
            "Message received 1.84 seconds after request: ,\n",
            "Message received 1.84 seconds after request:  \n",
            "Message received 1.88 seconds after request: 21\n",
            "Message received 1.88 seconds after request: ,\n",
            "Message received 1.88 seconds after request:  \n",
            "Message received 1.92 seconds after request: 22\n",
            "Message received 1.92 seconds after request: ,\n",
            "Message received 1.92 seconds after request:  \n",
            "Message received 1.96 seconds after request: 23\n",
            "Message received 1.96 seconds after request: ,\n",
            "Message received 1.96 seconds after request:  \n",
            "Message received 1.99 seconds after request: 24\n",
            "Message received 2.00 seconds after request: ,\n",
            "Message received 2.00 seconds after request:  \n",
            "Message received 2.03 seconds after request: 25\n",
            "Message received 2.03 seconds after request: ,\n",
            "Message received 2.03 seconds after request:  \n",
            "Message received 2.08 seconds after request: 26\n",
            "Message received 2.08 seconds after request: ,\n",
            "Message received 2.08 seconds after request:  \n",
            "Message received 2.11 seconds after request: 27\n",
            "Message received 2.12 seconds after request: ,\n",
            "Message received 2.12 seconds after request:  \n",
            "Message received 2.15 seconds after request: 28\n",
            "Message received 2.15 seconds after request: ,\n",
            "Message received 2.16 seconds after request:  \n",
            "Message received 2.19 seconds after request: 29\n",
            "Message received 2.19 seconds after request: ,\n",
            "Message received 2.19 seconds after request:  \n",
            "Message received 2.19 seconds after request: 30\n",
            "Message received 2.19 seconds after request: ,\n",
            "Message received 2.19 seconds after request:  \n",
            "Message received 2.19 seconds after request: 31\n",
            "Message received 2.19 seconds after request: ,\n",
            "Message received 2.19 seconds after request:  \n",
            "Message received 2.20 seconds after request: 32\n",
            "Message received 2.20 seconds after request: ,\n",
            "Message received 2.20 seconds after request:  \n",
            "Message received 2.20 seconds after request: 33\n",
            "Message received 2.20 seconds after request: ,\n",
            "Message received 2.20 seconds after request:  \n",
            "Message received 2.26 seconds after request: 34\n",
            "Message received 2.26 seconds after request: ,\n",
            "Message received 2.26 seconds after request:  \n",
            "Message received 2.27 seconds after request: 35\n",
            "Message received 2.27 seconds after request: ,\n",
            "Message received 2.28 seconds after request:  \n",
            "Message received 2.48 seconds after request: 36\n",
            "Message received 2.48 seconds after request: ,\n",
            "Message received 2.48 seconds after request:  \n",
            "Message received 2.58 seconds after request: 37\n",
            "Message received 2.58 seconds after request: ,\n",
            "Message received 2.58 seconds after request:  \n",
            "Message received 2.62 seconds after request: 38\n",
            "Message received 2.62 seconds after request: ,\n",
            "Message received 2.62 seconds after request:  \n",
            "Message received 2.66 seconds after request: 39\n",
            "Message received 2.66 seconds after request: ,\n",
            "Message received 2.66 seconds after request:  \n",
            "Message received 2.70 seconds after request: 40\n",
            "Message received 2.70 seconds after request: ,\n",
            "Message received 2.70 seconds after request:  \n",
            "Message received 2.74 seconds after request: 41\n",
            "Message received 2.74 seconds after request: ,\n",
            "Message received 2.74 seconds after request:  \n",
            "Message received 2.78 seconds after request: 42\n",
            "Message received 2.78 seconds after request: ,\n",
            "Message received 2.78 seconds after request:  \n",
            "Message received 2.78 seconds after request: 43\n",
            "Message received 2.78 seconds after request: ,\n",
            "Message received 2.78 seconds after request:  \n",
            "Message received 2.79 seconds after request: 44\n",
            "Message received 2.79 seconds after request: ,\n",
            "Message received 2.79 seconds after request:  \n",
            "Message received 2.79 seconds after request: 45\n",
            "Message received 2.79 seconds after request: ,\n",
            "Message received 2.79 seconds after request:  \n",
            "Message received 2.79 seconds after request: 46\n",
            "Message received 2.79 seconds after request: ,\n",
            "Message received 2.80 seconds after request:  \n",
            "Message received 2.91 seconds after request: 47\n",
            "Message received 2.92 seconds after request: ,\n",
            "Message received 2.92 seconds after request:  \n",
            "Message received 2.92 seconds after request: 48\n",
            "Message received 2.92 seconds after request: ,\n",
            "Message received 2.92 seconds after request:  \n",
            "Message received 2.92 seconds after request: 49\n",
            "Message received 2.92 seconds after request: ,\n",
            "Message received 2.92 seconds after request:  \n",
            "Message received 2.92 seconds after request: 50\n",
            "Message received 2.92 seconds after request: None\n",
            "Full response received 2.92 seconds after request\n",
            "Full conversation received: 1, 2, 3, 4, 5, 6, 7, 8, 9, 10, 11, 12, 13, 14, 15, 16, 17, 18, 19, 20, 21, 22, 23, 24, 25, 26, 27, 28, 29, 30, 31, 32, 33, 34, 35, 36, 37, 38, 39, 40, 41, 42, 43, 44, 45, 46, 47, 48, 49, 50\n"
          ]
        }
      ],
      "source": [
        "# Example of an OpenAI ChatCompletion request with stream=True\n",
        "# https://platform.openai.com/docs/guides/chat\n",
        "\n",
        "# record the time before the request is sent\n",
        "start_time = time.time()\n",
        "\n",
        "# send a ChatCompletion request to count to 50\n",
        "completion = client.chat.completions.create(\n",
        "    model='gpt-3.5-turbo',\n",
        "    messages=[\n",
        "        {'role': 'user', 'content': 'Count to 50, with a comma between each number and no newlines. E.g., 1, 2, 3, ...'}\n",
        "    ],\n",
        "    temperature=0,\n",
        "    stream=True  # again, we set stream=True\n",
        ")\n",
        "# create variables to collect the stream of chunks\n",
        "collected_chunks = []\n",
        "collected_messages = []\n",
        "# iterate through the stream of events\n",
        "for chunk in completion:\n",
        "    chunk_time = time.time() - start_time  # calculate the time delay of the chunk\n",
        "    collected_chunks.append(chunk)  # save the event response\n",
        "    chunk_message = chunk.choices[0].delta.content  # extract the message\n",
        "    collected_messages.append(chunk_message)  # save the message\n",
        "    print(f\"Message received {chunk_time:.2f} seconds after request: {chunk_message}\")  # print the delay and text\n",
        "\n",
        "# print the time delay and text received\n",
        "print(f\"Full response received {chunk_time:.2f} seconds after request\")\n",
        "# clean None in collected_messages\n",
        "collected_messages = [m for m in collected_messages if m is not None]\n",
        "full_reply_content = ''.join([m for m in collected_messages])\n",
        "print(f\"Full conversation received: {full_reply_content}\")\n"
      ]
    },
    {
      "cell_type": "code",
      "execution_count": 10,
      "metadata": {
        "id": "VSt6XSFBpwxJ"
      },
      "outputs": [],
      "source": []
    }
  ],
  "metadata": {
    "colab": {
      "provenance": []
    },
    "kernelspec": {
      "display_name": "Python 3",
      "name": "python3"
    },
    "language_info": {
      "name": "python"
    }
  },
  "nbformat": 4,
  "nbformat_minor": 0
}
