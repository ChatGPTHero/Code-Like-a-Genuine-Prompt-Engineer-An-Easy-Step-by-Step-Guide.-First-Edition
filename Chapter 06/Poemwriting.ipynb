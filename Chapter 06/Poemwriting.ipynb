{
  "cells": [
    {
      "cell_type": "code",
      "execution_count": 2,
      "metadata": {
        "colab": {
          "base_uri": "https://localhost:8080/"
        },
        "id": "s4kHbyPLGA5J",
        "outputId": "a0a0e129-d370-4144-94c7-b5d43fc22a65"
      },
      "outputs": [
        {
          "output_type": "stream",
          "name": "stdout",
          "text": [
            "Requirement already satisfied: openai in /usr/local/lib/python3.10/dist-packages (1.6.1)\n",
            "Requirement already satisfied: anyio<5,>=3.5.0 in /usr/local/lib/python3.10/dist-packages (from openai) (3.7.1)\n",
            "Requirement already satisfied: distro<2,>=1.7.0 in /usr/lib/python3/dist-packages (from openai) (1.7.0)\n",
            "Requirement already satisfied: httpx<1,>=0.23.0 in /usr/local/lib/python3.10/dist-packages (from openai) (0.26.0)\n",
            "Requirement already satisfied: pydantic<3,>=1.9.0 in /usr/local/lib/python3.10/dist-packages (from openai) (1.10.13)\n",
            "Requirement already satisfied: sniffio in /usr/local/lib/python3.10/dist-packages (from openai) (1.3.0)\n",
            "Requirement already satisfied: tqdm>4 in /usr/local/lib/python3.10/dist-packages (from openai) (4.66.1)\n",
            "Requirement already satisfied: typing-extensions<5,>=4.7 in /usr/local/lib/python3.10/dist-packages (from openai) (4.9.0)\n",
            "Requirement already satisfied: idna>=2.8 in /usr/local/lib/python3.10/dist-packages (from anyio<5,>=3.5.0->openai) (3.6)\n",
            "Requirement already satisfied: exceptiongroup in /usr/local/lib/python3.10/dist-packages (from anyio<5,>=3.5.0->openai) (1.2.0)\n",
            "Requirement already satisfied: certifi in /usr/local/lib/python3.10/dist-packages (from httpx<1,>=0.23.0->openai) (2023.11.17)\n",
            "Requirement already satisfied: httpcore==1.* in /usr/local/lib/python3.10/dist-packages (from httpx<1,>=0.23.0->openai) (1.0.2)\n",
            "Requirement already satisfied: h11<0.15,>=0.13 in /usr/local/lib/python3.10/dist-packages (from httpcore==1.*->httpx<1,>=0.23.0->openai) (0.14.0)\n",
            "Requirement already satisfied: typing-extensions in /usr/local/lib/python3.10/dist-packages (4.9.0)\n"
          ]
        }
      ],
      "source": [
        "!pip install openai\n",
        "!pip install typing-extensions"
      ]
    },
    {
      "cell_type": "code",
      "execution_count": 3,
      "metadata": {
        "colab": {
          "base_uri": "https://localhost:8080/"
        },
        "id": "hF_aKIDOGErE",
        "outputId": "e5943e92-0390-4c75-ec49-b01ba718916e"
      },
      "outputs": [
        {
          "output_type": "stream",
          "name": "stdout",
          "text": [
            "\n",
            "\n",
            "In the land of the free, a revolution was born\n",
            "A fight for liberty, a nation torn\n",
            "From the grip of a tyrannical king\n",
            "The people rose up, their voices would sing\n",
            "\n",
            "\"We hold these truths to be self-evident\"\n",
            "The words echoed loud, their message heaven-sent\n",
            "That all men are created equal, endowed with rights\n",
            "Life, liberty, and the pursuit of happiness in sight\n",
            "\n",
            "With quill in hand, they penned their decree\n",
            "A declaration of independence, for all to see\n",
            "No longer would they be under British rule\n",
            "Their destiny in their own hands, a new future to fuel\n",
            "\n",
            "\"We, the people\" stood united as one\n",
            "Against oppression, our fight had just begun\n",
            "No longer would we be subject to unjust laws\n",
            "Our freedom, our birthright, our cause\n",
            "\n",
            "With courage and determination, we declared our stand\n",
            "For a new nation, a new government, a new brand\n",
            "Of democracy, of justice, of equality\n",
            "A nation built on freedom, for all to see\n",
            "\n",
            "And so, on the fourth of July\n",
            "We celebrate our independence, with pride we fly\n",
            "The stars and stripes, our symbol of hope\n",
            "For a nation that continues to grow and cope\n",
            "\n",
            "With the ideals of our founding fathers in our hearts\n",
            "We honor their legacy, as we play our parts\n",
            "In shaping a nation, that stands for what is right\n",
            "A beacon of hope, a shining light\n",
            "\n",
            "So let us remember, on this day of celebration\n",
            "The sacrifices made, for our liberation\n",
            "For in the land of the free, we must never forget\n",
            "The brave souls who fought, for our independence to beget.\n"
          ]
        }
      ],
      "source": [
        "from openai import OpenAI\n",
        "client = OpenAI(\n",
        "    api_key = 'your api key', )\n",
        "\n",
        "# Define the prompt for the language model\n",
        "prompt = 'Write a poem depicting the US declaration of independence'\n",
        "\n",
        "# Call the OpenAI API with the specified model, prompt, maximum token length, and temperature\n",
        "output = client.completions.create(\n",
        "  model=\"gpt-3.5-turbo-instruct\",\n",
        "  prompt=prompt,\n",
        "  max_tokens=1000,\n",
        "  temperature=0.5)\n",
        "\n",
        "# Print the generated text\n",
        "print(output.choices[0].text)\n",
        "\n",
        "\n",
        "\n"
      ]
    },
    {
      "cell_type": "code",
      "execution_count": null,
      "metadata": {
        "id": "xjMrl8C0H1Kz"
      },
      "outputs": [],
      "source": []
    }
  ],
  "metadata": {
    "colab": {
      "provenance": []
    },
    "kernelspec": {
      "display_name": "Python 3",
      "name": "python3"
    },
    "language_info": {
      "name": "python"
    }
  },
  "nbformat": 4,
  "nbformat_minor": 0
}
