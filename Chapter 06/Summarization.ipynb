{
  "cells": [
    {
      "cell_type": "code",
      "execution_count": 1,
      "metadata": {
        "colab": {
          "base_uri": "https://localhost:8080/"
        },
        "id": "Kd7ynyNPrsrj",
        "outputId": "83a81202-65f1-48af-e78d-b0d065965059"
      },
      "outputs": [
        {
          "name": "stdout",
          "output_type": "stream",
          "text": [
            "Requirement already satisfied: openai in /usr/local/lib/python3.10/dist-packages (1.3.8)\n",
            "Requirement already satisfied: anyio<5,>=3.5.0 in /usr/local/lib/python3.10/dist-packages (from openai) (3.7.1)\n",
            "Requirement already satisfied: distro<2,>=1.7.0 in /usr/lib/python3/dist-packages (from openai) (1.7.0)\n",
            "Requirement already satisfied: httpx<1,>=0.23.0 in /usr/local/lib/python3.10/dist-packages (from openai) (0.25.2)\n",
            "Requirement already satisfied: pydantic<3,>=1.9.0 in /usr/local/lib/python3.10/dist-packages (from openai) (1.10.13)\n",
            "Requirement already satisfied: sniffio in /usr/local/lib/python3.10/dist-packages (from openai) (1.3.0)\n",
            "Requirement already satisfied: tqdm>4 in /usr/local/lib/python3.10/dist-packages (from openai) (4.66.1)\n",
            "Requirement already satisfied: typing-extensions<5,>=4.5 in /usr/local/lib/python3.10/dist-packages (from openai) (4.5.0)\n",
            "Requirement already satisfied: idna>=2.8 in /usr/local/lib/python3.10/dist-packages (from anyio<5,>=3.5.0->openai) (3.6)\n",
            "Requirement already satisfied: exceptiongroup in /usr/local/lib/python3.10/dist-packages (from anyio<5,>=3.5.0->openai) (1.2.0)\n",
            "Requirement already satisfied: certifi in /usr/local/lib/python3.10/dist-packages (from httpx<1,>=0.23.0->openai) (2023.11.17)\n",
            "Requirement already satisfied: httpcore==1.* in /usr/local/lib/python3.10/dist-packages (from httpx<1,>=0.23.0->openai) (1.0.2)\n",
            "Requirement already satisfied: h11<0.15,>=0.13 in /usr/local/lib/python3.10/dist-packages (from httpcore==1.*->httpx<1,>=0.23.0->openai) (0.14.0)\n"
          ]
        }
      ],
      "source": [
        "!pip install openai"
      ]
    },
    {
      "cell_type": "code",
      "execution_count": 2,
      "metadata": {
        "colab": {
          "base_uri": "https://localhost:8080/"
        },
        "id": "Y-PzBwWpt_BR",
        "outputId": "35229e37-718b-4890-fdd7-a5ec4f269f32"
      },
      "outputs": [
        {
          "name": "stdout",
          "output_type": "stream",
          "text": [
            "Choice(finish_reason='stop', index=0, message=ChatCompletionMessage(content='Deep Learning works by using artificial neurons, inspired by the neurons in our brain, to recognize patterns in data. These neurons fire off signals when they recognize certain patterns, starting with simple ones and gradually recognizing more complex patterns. When many of these artificial neurons are combined, they form a neural network. The process of the neural network learning to recognize patterns is called Deep Learning. This technology can be applied to various fields such as stock market data analysis, medical image diagnosis, and language understanding.', role='assistant', function_call=None, tool_calls=None))\n"
          ]
        }
      ],
      "source": [
        "from openai import OpenAI\n",
        "client = OpenAI(\n",
        "    api_key = 'your api key',\n",
        ")\n",
        "\n",
        "# This is the function that will send a prompt to the OpenAI API and get a response.\n",
        "def get_completion(prompt, model=\"gpt-3.5-turbo\"):\n",
        "    # 'messages' is a list that contains a dictionary representing the user's message.\n",
        "    messages = [{\"role\": \"user\", \"content\": prompt}]\n",
        "\n",
        "    # This line sends a request to the OpenAI API.\n",
        "    # 'model' specifies which AI model to use.\n",
        "    # 'messages' contains the conversation history.\n",
        "    # 'temperature' influences the randomness of the AI's responses (0 is less random, 1 is more random).\n",
        "    response = client.chat.completions.create(\n",
        "        model=model,\n",
        "        messages=messages,\n",
        "        temperature=0.5,\n",
        "    )\n",
        "\n",
        "    # This line extracts the AI's message from the response and returns it.\n",
        "    return response.choices[0] #.message[\"content\"]\n",
        "\n",
        "# This is the text that we want to summarize.\n",
        "text = \"Grandma! Do you remember when we used to play the game of recognizing shapes when I was a child? \\\n",
        " You would show me a card with a shape and I would tell you if it's a circle, square, triangle and so on. Over time,\\\n",
        "  my brain learned to recognize these shapes no matter their size or color.  Deep Learning works quite similarly.  \\\n",
        "  The building block of Deep Learning is something called a 'neuron' or 'perceptron', inspired by the neurons in our brain.\\\n",
        "   Just like how our neurons fire electrical signals when they recognize a shape, these computer 'neurons' fire off their \\\n",
        "    own signals when they recognize certain patterns in the data they are trained on.  At first, these artificial neurons\\\n",
        "     might only recognize very simple patterns, like a straight line or a curve. This is similar to how I first learned\\\n",
        "      to recognize shapes - I started by recognizing simple ones like a circle or square.  But if you combine many of these \\\n",
        "       artificial neurons together, they can start recognizing more complex patterns, much like how I could eventually \\\n",
        "        recognize more complex shapes like a star or a heart. This network of artificial neurons is called a neural network,\\\n",
        "         and the process of them learning to recognize patterns is what we call Deep Learning. So, in short, Deep Learning is a \\\n",
        "         bit like teaching a computer to recognize shapes, but instead, it might be recognizing patterns in stock market data, \\\n",
        "          diagnosing diseases from medical images, understanding spoken language, and much more!\"\n",
        "\n",
        "# We form a prompt for summarization from the text.\n",
        "prompt = f\"Summarize the main points about how Deep Learning works text: {text} delimited by a newline.\\n\\n\"\n",
        "\n",
        "# We call our function with the summarization prompt and print out the summary.\n",
        "summary = get_completion(prompt)\n",
        "print(summary)\n",
        "\n"
      ]
    },
    {
      "cell_type": "code",
      "execution_count": 2,
      "metadata": {
        "id": "Os2x3bHRuBxX"
      },
      "outputs": [],
      "source": []
    }
  ],
  "metadata": {
    "colab": {
      "provenance": []
    },
    "kernelspec": {
      "display_name": "Python 3",
      "name": "python3"
    },
    "language_info": {
      "name": "python"
    }
  },
  "nbformat": 4,
  "nbformat_minor": 0
}
