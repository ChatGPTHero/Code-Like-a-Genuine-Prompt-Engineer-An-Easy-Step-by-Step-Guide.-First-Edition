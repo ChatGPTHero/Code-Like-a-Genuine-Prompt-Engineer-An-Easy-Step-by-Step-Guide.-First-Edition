{
  "cells": [
    {
      "cell_type": "code",
      "execution_count": 2,
      "metadata": {
        "colab": {
          "base_uri": "https://localhost:8080/"
        },
        "id": "7Xi7Idv8NEPf",
        "outputId": "4235ce7e-4ec8-4866-89ca-1f8d89fb3da4"
      },
      "outputs": [
        {
          "name": "stdout",
          "output_type": "stream",
          "text": [
            "Requirement already satisfied: openai in /usr/local/lib/python3.10/dist-packages (1.6.1)\n",
            "Requirement already satisfied: anyio<5,>=3.5.0 in /usr/local/lib/python3.10/dist-packages (from openai) (3.7.1)\n",
            "Requirement already satisfied: distro<2,>=1.7.0 in /usr/lib/python3/dist-packages (from openai) (1.7.0)\n",
            "Requirement already satisfied: httpx<1,>=0.23.0 in /usr/local/lib/python3.10/dist-packages (from openai) (0.26.0)\n",
            "Requirement already satisfied: pydantic<3,>=1.9.0 in /usr/local/lib/python3.10/dist-packages (from openai) (1.10.13)\n",
            "Requirement already satisfied: sniffio in /usr/local/lib/python3.10/dist-packages (from openai) (1.3.0)\n",
            "Requirement already satisfied: tqdm>4 in /usr/local/lib/python3.10/dist-packages (from openai) (4.66.1)\n",
            "Requirement already satisfied: typing-extensions<5,>=4.7 in /usr/local/lib/python3.10/dist-packages (from openai) (4.9.0)\n",
            "Requirement already satisfied: idna>=2.8 in /usr/local/lib/python3.10/dist-packages (from anyio<5,>=3.5.0->openai) (3.6)\n",
            "Requirement already satisfied: exceptiongroup in /usr/local/lib/python3.10/dist-packages (from anyio<5,>=3.5.0->openai) (1.2.0)\n",
            "Requirement already satisfied: certifi in /usr/local/lib/python3.10/dist-packages (from httpx<1,>=0.23.0->openai) (2023.11.17)\n",
            "Requirement already satisfied: httpcore==1.* in /usr/local/lib/python3.10/dist-packages (from httpx<1,>=0.23.0->openai) (1.0.2)\n",
            "Requirement already satisfied: h11<0.15,>=0.13 in /usr/local/lib/python3.10/dist-packages (from httpcore==1.*->httpx<1,>=0.23.0->openai) (0.14.0)\n"
          ]
        }
      ],
      "source": [
        "!pip install openai\n"
      ]
    },
    {
      "cell_type": "code",
      "execution_count": 3,
      "metadata": {
        "id": "j7RgApZANMij"
      },
      "outputs": [],
      "source": [
        "from openai import OpenAI\n",
        "client = OpenAI(\n",
        "    api_key = 'you api key',\n",
        ")"
      ]
    },
    {
      "cell_type": "code",
      "execution_count": 4,
      "metadata": {
        "colab": {
          "base_uri": "https://localhost:8080/"
        },
        "id": "9PgfGb7QNshf",
        "outputId": "5d1613ae-91d7-4b68-a0a5-3535bf72a1f4"
      },
      "outputs": [
        {
          "name": "stdout",
          "output_type": "stream",
          "text": [
            "\n",
            "\n",
            "The Silicon Valley is a region in the southern part of the San Francisco Bay Area in Northern California. It is home to some of the world's largest technology companies and has become synonymous with innovation, entrepreneurship, and success. The history of the Silicon Valley is a story of how a small agricultural region transformed into a global hub for technology and how it has changed the world in countless ways.\n",
            "\n",
            "The origins of the Silicon Valley can be traced back to the late 19th century when the area was primarily known for its agriculture. The fertile land and mild climate made it an ideal location for farming, and the region was home to many orchards and vineyards. However, the early 20th century saw the emergence of the electronics industry in the area, with the founding of companies like Hewlett-Packard and Varian Associates. These companies laid the foundation for what would become the Silicon Valley.\n",
            "\n",
            "The real catalyst for the growth of the Silicon Valley came in the 1950s and 1960s when the region became a hub for research and development in the field of semiconductors. The invention of the transistor by William Shockley, John Bardeen, and Walter Brattain in 1947 at Bell Labs sparked a race to develop smaller and more powerful electronic devices. This led to the establishment of companies like Fairchild Semiconductor and Intel, which pioneered the development of integrated circuits and microprocessors.\n",
            "\n",
            "The 1970s saw the birth of the personal computer industry, with companies like Apple and Atari setting up shop in the Silicon Valley. The release of the Apple II in 1977 and the IBM PC in 1981 revolutionized the way people worked and communicated, and the Silicon Valley became the center of this technological revolution. The 1980s and 1990s saw the rise of many more technology companies, including Cisco Systems, Oracle, and Adobe, cementing the Silicon Valley's position as the epicenter of the tech world.\n",
            "\n",
            "One of the key factors that contributed to the success of the Silicon Valley was the presence of top-tier universities like Stanford and the University of California, Berkeley. These institutions provided a steady stream of highly skilled and educated graduates, many of whom went on to become entrepreneurs and start their own companies. The Silicon Valley also attracted talent from all over the world, with people flocking to the region to be a part of the tech revolution.\n",
            "\n",
            "The Silicon Valley's impact on the world cannot be overstated. The advancements in technology that have come out of this region have transformed the way we live, work, and communicate. The rise of the internet and the proliferation of smartphones and social media have connected people in ways that were unimaginable just a few decades ago. The Silicon Valley has also played a crucial role in the development of artificial intelligence, biotechnology, and renewable energy, among many other fields.\n",
            "\n",
            "Moreover, the Silicon Valley has had a significant impact on the global economy. The companies based in this region have created millions of jobs and generated billions of dollars in revenue. The success of these companies has also inspired countless others to pursue their entrepreneurial dreams, leading to the growth of startup ecosystems all over the world.\n",
            "\n",
            "In conclusion, the Silicon Valley's history is a testament to the power of innovation and the human spirit. What started as a small agricultural region has become a global powerhouse, driving progress and shaping the world we live in today. The Silicon Valley's story is far from over, and it will continue to be at the forefront of technological advancements, pushing the boundaries of what is possible and changing the world for the better.\n"
          ]
        }
      ],
      "source": [
        "# Define the prompt for the language model\n",
        "prompt = 'Write an essay about the History of the Silicon Valley and how this place literally changed the world'\n",
        "\n",
        "# Call the OpenAI API with the specified model, prompt, maximum token length, and temperature\n",
        "output = client.completions.create(\n",
        "    model=\"gpt-3.5-turbo-instruct\",\n",
        "    prompt=prompt,\n",
        "    max_tokens=1000,\n",
        "    temperature=0.5 )\n",
        "\n",
        "\n",
        "# Print the generated text\n",
        "print(output.choices[0].text)"
      ]
    },
    {
      "cell_type": "code",
      "execution_count": null,
      "metadata": {
        "id": "rUIbO_shN4iN"
      },
      "outputs": [],
      "source": []
    }
  ],
  "metadata": {
    "colab": {
      "provenance": []
    },
    "kernelspec": {
      "display_name": "Python 3",
      "name": "python3"
    },
    "language_info": {
      "name": "python"
    }
  },
  "nbformat": 4,
  "nbformat_minor": 0
}
