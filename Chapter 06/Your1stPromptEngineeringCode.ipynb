{
  "cells": [
    {
      "cell_type": "code",
      "execution_count": 4,
      "metadata": {
        "colab": {
          "base_uri": "https://localhost:8080/"
        },
        "id": "7Xi7Idv8NEPf",
        "outputId": "d8a931ab-bc73-45ac-d813-e7fad74cd9c1"
      },
      "outputs": [
        {
          "name": "stdout",
          "output_type": "stream",
          "text": [
            "Requirement already satisfied: openai in /usr/local/lib/python3.10/dist-packages (1.3.8)\n",
            "Requirement already satisfied: anyio<5,>=3.5.0 in /usr/local/lib/python3.10/dist-packages (from openai) (3.7.1)\n",
            "Requirement already satisfied: distro<2,>=1.7.0 in /usr/lib/python3/dist-packages (from openai) (1.7.0)\n",
            "Requirement already satisfied: httpx<1,>=0.23.0 in /usr/local/lib/python3.10/dist-packages (from openai) (0.25.2)\n",
            "Requirement already satisfied: pydantic<3,>=1.9.0 in /usr/local/lib/python3.10/dist-packages (from openai) (1.10.13)\n",
            "Requirement already satisfied: sniffio in /usr/local/lib/python3.10/dist-packages (from openai) (1.3.0)\n",
            "Requirement already satisfied: tqdm>4 in /usr/local/lib/python3.10/dist-packages (from openai) (4.66.1)\n",
            "Requirement already satisfied: typing-extensions<5,>=4.5 in /usr/local/lib/python3.10/dist-packages (from openai) (4.5.0)\n",
            "Requirement already satisfied: idna>=2.8 in /usr/local/lib/python3.10/dist-packages (from anyio<5,>=3.5.0->openai) (3.6)\n",
            "Requirement already satisfied: exceptiongroup in /usr/local/lib/python3.10/dist-packages (from anyio<5,>=3.5.0->openai) (1.2.0)\n",
            "Requirement already satisfied: certifi in /usr/local/lib/python3.10/dist-packages (from httpx<1,>=0.23.0->openai) (2023.11.17)\n",
            "Requirement already satisfied: httpcore==1.* in /usr/local/lib/python3.10/dist-packages (from httpx<1,>=0.23.0->openai) (1.0.2)\n",
            "Requirement already satisfied: h11<0.15,>=0.13 in /usr/local/lib/python3.10/dist-packages (from httpcore==1.*->httpx<1,>=0.23.0->openai) (0.14.0)\n"
          ]
        }
      ],
      "source": [
        "!pip install openai\n"
      ]
    },
    {
      "cell_type": "code",
      "execution_count": 5,
      "metadata": {
        "id": "j7RgApZANMij"
      },
      "outputs": [],
      "source": [
        "from openai import OpenAI\n",
        "client = OpenAI(\n",
        "    api_key = 'your api key',\n",
        ")"
      ]
    },
    {
      "cell_type": "code",
      "execution_count": 6,
      "metadata": {
        "colab": {
          "base_uri": "https://localhost:8080/"
        },
        "id": "9PgfGb7QNshf",
        "outputId": "e9bd8fa4-cae0-4353-f165-3c3b18c62185"
      },
      "outputs": [
        {
          "name": "stdout",
          "output_type": "stream",
          "text": [
            "\n",
            "\n",
            "The history of the Silicon Valley is one that is intertwined with the history of the computer. This area, located in the Santa Clara Valley in California, is where some of the most important breakthroughs in computer technology have taken place. It is also where many of the world’s most important technology companies have been founded and are headquartered.\n",
            "\n",
            "The term “Silicon Valley” was first coined in 1971 by Don Hoefler, a journalist for the weekly trade newspaper Electronic News. He used the term to describe the concentration of high-tech companies in the Santa Clara Valley. The Santa Clara Valley had already been home to a number of important technology companies, including Hewlett-Packard, Xerox, and Fairchild Semiconductor. But in the 1970s, the Santa Clara Valley became known as the place where personal computers were invented and developed.\n",
            "\n",
            "The first personal computer, the Altair 8800, was developed in 1974 by a company called MITS. It was based on the Intel 8008 microprocessor, which had been developed by Intel Corporation, a company founded in 1968 by two former Fairchild Semiconductor employees, Robert Noyce and Gordon Moore. The Altair 8800 was a success, and it led to the development of other personal computers, such as the Apple I, which was developed by Apple Computer, Inc., a company founded in 1976 by Steve Jobs and Steve Wozniak.\n",
            "\n",
            "The success of the personal computer led to the development of the microprocessor, which is a computer chip that can be used in a wide variety of electronic devices. The microprocessor was invented in 1971 by Intel Corporation. The first microprocessor-based personal computer, the IBM PC, was introduced in 1981.\n",
            "\n",
            "The success of the personal computer and the microprocessor led to the development of the Internet. The Internet is a global network of computers that allows people to communicate with each other and share information. The first Internet connection was made in 1969 between two computers at the University of California, Los Angeles. The Internet became widely available to the public in the 1990s.\n",
            "\n",
            "The Silicon Valley has been the home of many important technology companies, including Google, Facebook, and Apple. These companies have changed the way we live and work. They have also made the Silicon Valley one of the most important places in the world for technology and innovation.\n"
          ]
        }
      ],
      "source": [
        "# Define the prompt for the language model\n",
        "prompt = 'Write an essay about the History of the Silicon Valley and how this place literally changed the world'\n",
        "\n",
        "# Call the OpenAI API with the specified model, prompt, maximum token length, and temperature\n",
        "output = client.completions.create(\n",
        "    model=\"text-davinci-002\",\n",
        "    prompt=prompt,\n",
        "    max_tokens=1000,\n",
        "    temperature=0.5\n",
        ")\n",
        "\n",
        "# Print the generated text\n",
        "print(output.choices[0].text)"
      ]
    },
    {
      "cell_type": "code",
      "execution_count": null,
      "metadata": {
        "id": "rUIbO_shN4iN"
      },
      "outputs": [],
      "source": []
    }
  ],
  "metadata": {
    "colab": {
      "provenance": []
    },
    "kernelspec": {
      "display_name": "Python 3",
      "name": "python3"
    },
    "language_info": {
      "name": "python"
    }
  },
  "nbformat": 4,
  "nbformat_minor": 0
}
