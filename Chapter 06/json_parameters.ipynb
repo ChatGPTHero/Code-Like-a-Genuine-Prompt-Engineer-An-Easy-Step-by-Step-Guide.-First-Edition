{
  "cells": [
    {
      "cell_type": "code",
      "execution_count": 2,
      "metadata": {
        "colab": {
          "base_uri": "https://localhost:8080/"
        },
        "id": "3f-Fw3MuRxj5",
        "outputId": "53d907e9-715e-4d05-d0a5-eb6369687942"
      },
      "outputs": [
        {
          "name": "stdout",
          "output_type": "stream",
          "text": [
            "Requirement already satisfied: openai==0.28 in /usr/local/lib/python3.10/dist-packages (0.28.0)\n",
            "Requirement already satisfied: requests>=2.20 in /usr/local/lib/python3.10/dist-packages (from openai==0.28) (2.31.0)\n",
            "Requirement already satisfied: tqdm in /usr/local/lib/python3.10/dist-packages (from openai==0.28) (4.66.1)\n",
            "Requirement already satisfied: aiohttp in /usr/local/lib/python3.10/dist-packages (from openai==0.28) (3.9.1)\n",
            "Requirement already satisfied: charset-normalizer<4,>=2 in /usr/local/lib/python3.10/dist-packages (from requests>=2.20->openai==0.28) (3.3.2)\n",
            "Requirement already satisfied: idna<4,>=2.5 in /usr/local/lib/python3.10/dist-packages (from requests>=2.20->openai==0.28) (3.6)\n",
            "Requirement already satisfied: urllib3<3,>=1.21.1 in /usr/local/lib/python3.10/dist-packages (from requests>=2.20->openai==0.28) (2.0.7)\n",
            "Requirement already satisfied: certifi>=2017.4.17 in /usr/local/lib/python3.10/dist-packages (from requests>=2.20->openai==0.28) (2023.11.17)\n",
            "Requirement already satisfied: attrs>=17.3.0 in /usr/local/lib/python3.10/dist-packages (from aiohttp->openai==0.28) (23.1.0)\n",
            "Requirement already satisfied: multidict<7.0,>=4.5 in /usr/local/lib/python3.10/dist-packages (from aiohttp->openai==0.28) (6.0.4)\n",
            "Requirement already satisfied: yarl<2.0,>=1.0 in /usr/local/lib/python3.10/dist-packages (from aiohttp->openai==0.28) (1.9.3)\n",
            "Requirement already satisfied: frozenlist>=1.1.1 in /usr/local/lib/python3.10/dist-packages (from aiohttp->openai==0.28) (1.4.0)\n",
            "Requirement already satisfied: aiosignal>=1.1.2 in /usr/local/lib/python3.10/dist-packages (from aiohttp->openai==0.28) (1.3.1)\n",
            "Requirement already satisfied: async-timeout<5.0,>=4.0 in /usr/local/lib/python3.10/dist-packages (from aiohttp->openai==0.28) (4.0.3)\n",
            "\n",
            "\n",
            "Inception follows a team of thieves as they attempt to steal corporate secrets from the mind of a CEO using a technology called dream sharing. The team must navigate a series of dreamscapes, each more complex than the last, while being pursued by an unknown enemy. Along the way, they must confront their own personal issues and doubts about the morality of their mission. In the end, the team must decide whether they will complete their mission or choose their own path.\n"
          ]
        }
      ],
      "source": [
        "#install openai on colab (We are using old version as the new version was released on Nov 8, 2023)\n",
        "!pip install openai==0.28\n",
        "# Import the 'requests' and 'json' modules to make API requests and handle JSON data, respectively\n",
        "import requests\n",
        "import json\n",
        "\n",
        "# Assign your API key to a variable\n",
        "secret_key = 'your api key'\n",
        "\n",
        "# Set the OpenAI API key, model name, prompt, and temperature\n",
        "api_key = secret_key\n",
        "model = \"text-davinci-003\"\n",
        "prompt = \"Summarize the plot of the movie 'Inception' in no more than 5 sentences without revealing the ending\"\n",
        "temperature = 0.5\n",
        "\n",
        "# Send a POST request to the OpenAI API with the specified prompt and temperature\n",
        "# The 'json' parameter in the request payload is a dictionary containing the prompt and other parameters\n",
        "# The 'headers' parameter in the request payload is a dictionary containing the API key and content type\n",
        "response = requests.post('https://api.openai.com/v1/engines/' + model + '/completions',\n",
        "                         json={'prompt': prompt, 'max_tokens': 500, 'temperature': temperature, },\n",
        "                         headers={'Content-Type': 'application/json', 'Authorization': 'Bearer ' + api_key})\n",
        "\n",
        "# Parse the JSON data in the response into a dictionary using the 'json' module\n",
        "data = json.loads(response.text)\n",
        "\n",
        "# Extract the generated text from the 'choices' key in the parsed JSON data\n",
        "generated_text = data['choices'][0]['text']\n",
        "\n",
        "# Print the generated text\n",
        "print(generated_text)"
      ]
    },
    {
      "cell_type": "code",
      "execution_count": null,
      "metadata": {
        "id": "tUOCVEHvTkNQ"
      },
      "outputs": [],
      "source": []
    }
  ],
  "metadata": {
    "colab": {
      "provenance": []
    },
    "kernelspec": {
      "display_name": "Python 3",
      "name": "python3"
    },
    "language_info": {
      "name": "python"
    }
  },
  "nbformat": 4,
  "nbformat_minor": 0
}
