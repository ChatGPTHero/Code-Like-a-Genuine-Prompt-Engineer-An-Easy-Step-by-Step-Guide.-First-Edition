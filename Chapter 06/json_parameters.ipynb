{
  "cells": [
    {
      "cell_type": "code",
      "execution_count": 3,
      "metadata": {
        "colab": {
          "base_uri": "https://localhost:8080/"
        },
        "id": "3f-Fw3MuRxj5",
        "outputId": "4e463710-ba9a-462a-d37b-ea98a0e550bb"
      },
      "outputs": [
        {
          "name": "stdout",
          "output_type": "stream",
          "text": [
            "Requirement already satisfied: openai in /usr/local/lib/python3.10/dist-packages (0.27.8)\n",
            "Requirement already satisfied: requests>=2.20 in /usr/local/lib/python3.10/dist-packages (from openai) (2.27.1)\n",
            "Requirement already satisfied: tqdm in /usr/local/lib/python3.10/dist-packages (from openai) (4.65.0)\n",
            "Requirement already satisfied: aiohttp in /usr/local/lib/python3.10/dist-packages (from openai) (3.8.5)\n",
            "Requirement already satisfied: urllib3<1.27,>=1.21.1 in /usr/local/lib/python3.10/dist-packages (from requests>=2.20->openai) (1.26.16)\n",
            "Requirement already satisfied: certifi>=2017.4.17 in /usr/local/lib/python3.10/dist-packages (from requests>=2.20->openai) (2023.7.22)\n",
            "Requirement already satisfied: charset-normalizer~=2.0.0 in /usr/local/lib/python3.10/dist-packages (from requests>=2.20->openai) (2.0.12)\n",
            "Requirement already satisfied: idna<4,>=2.5 in /usr/local/lib/python3.10/dist-packages (from requests>=2.20->openai) (3.4)\n",
            "Requirement already satisfied: attrs>=17.3.0 in /usr/local/lib/python3.10/dist-packages (from aiohttp->openai) (23.1.0)\n",
            "Requirement already satisfied: multidict<7.0,>=4.5 in /usr/local/lib/python3.10/dist-packages (from aiohttp->openai) (6.0.4)\n",
            "Requirement already satisfied: async-timeout<5.0,>=4.0.0a3 in /usr/local/lib/python3.10/dist-packages (from aiohttp->openai) (4.0.2)\n",
            "Requirement already satisfied: yarl<2.0,>=1.0 in /usr/local/lib/python3.10/dist-packages (from aiohttp->openai) (1.9.2)\n",
            "Requirement already satisfied: frozenlist>=1.1.1 in /usr/local/lib/python3.10/dist-packages (from aiohttp->openai) (1.4.0)\n",
            "Requirement already satisfied: aiosignal>=1.1.2 in /usr/local/lib/python3.10/dist-packages (from aiohttp->openai) (1.3.1)\n",
            "\n",
            "\n",
            "Inception follows Dom Cobb, a professional thief who steals information from people's subconscious by entering their dreams. He is hired by a wealthy businessman to perform the impossible task of planting an idea in someone's mind. To do this, Dom and his team must go into deeper levels of dream sharing, which become increasingly dangerous. Along the way, they must confront their own personal demons and fight to stay one step ahead of an enemy that seems to be able to manipulate their dreams. In the end, Dom must choose between his own happiness and the success of his mission.\n"
          ]
        }
      ],
      "source": [
        "!pip install openai\n",
        "# Import the 'requests' and 'json' modules to make API requests and handle JSON data, respectively\n",
        "import requests\n",
        "import json\n",
        "\n",
        "# Assign your API key to a variable\n",
        "secret_key = 'your api key'\n",
        "\n",
        "# Set the OpenAI API key, model name, prompt, and temperature\n",
        "api_key = \"your api key\"\n",
        "model = \"text-davinci-003\"\n",
        "prompt = \"Summarize the plot of the movie 'Apolo 13' in no more than 5 sentences without revealing the ending\"\n",
        "temperature = 0.5\n",
        "\n",
        "# Send a POST request to the OpenAI API with the specified prompt and temperature\n",
        "# The 'json' parameter in the request payload is a dictionary containing the prompt and other parameters\n",
        "# The 'headers' parameter in the request payload is a dictionary containing the API key and content type\n",
        "response = requests.post('https://api.openai.com/v1/engines/' + model + '/completions',\n",
        "                         json={'prompt': prompt, 'max_tokens': 500, 'temperature': temperature, },\n",
        "                         headers={'Content-Type': 'application/json', 'Authorization': 'Bearer ' + api_key})\n",
        "\n",
        "# Parse the JSON data in the response into a dictionary using the 'json' module\n",
        "data = json.loads(response.text)\n",
        "\n",
        "# Extract the generated text from the 'choices' key in the parsed JSON data\n",
        "generated_text = data['choices'][0]['text']\n",
        "\n",
        "# Print the generated text\n",
        "print(generated_text)"
      ]
    },
    {
      "cell_type": "code",
      "execution_count": 2,
      "metadata": {
        "id": "tUOCVEHvTkNQ"
      },
      "outputs": [],
      "source": []
    }
  ],
  "metadata": {
    "colab": {
      "provenance": []
    },
    "kernelspec": {
      "display_name": "Python 3",
      "name": "python3"
    },
    "language_info": {
      "name": "python"
    }
  },
  "nbformat": 4,
  "nbformat_minor": 0
}
