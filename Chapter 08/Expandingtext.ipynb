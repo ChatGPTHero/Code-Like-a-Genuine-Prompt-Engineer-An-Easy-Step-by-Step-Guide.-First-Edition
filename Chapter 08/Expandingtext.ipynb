{
  "cells": [
    {
      "cell_type": "code",
      "execution_count": 5,
      "metadata": {
        "colab": {
          "base_uri": "https://localhost:8080/"
        },
        "id": "-QAKcpsm-MeL",
        "outputId": "8ee64eba-eaef-462d-fbc2-fda2c2921d60"
      },
      "outputs": [
        {
          "name": "stdout",
          "output_type": "stream",
          "text": [
            "Requirement already satisfied: openai in /usr/local/lib/python3.10/dist-packages (0.27.8)\n",
            "Requirement already satisfied: requests>=2.20 in /usr/local/lib/python3.10/dist-packages (from openai) (2.31.0)\n",
            "Requirement already satisfied: tqdm in /usr/local/lib/python3.10/dist-packages (from openai) (4.66.0)\n",
            "Requirement already satisfied: aiohttp in /usr/local/lib/python3.10/dist-packages (from openai) (3.8.5)\n",
            "Requirement already satisfied: charset-normalizer<4,>=2 in /usr/local/lib/python3.10/dist-packages (from requests>=2.20->openai) (3.2.0)\n",
            "Requirement already satisfied: idna<4,>=2.5 in /usr/local/lib/python3.10/dist-packages (from requests>=2.20->openai) (3.4)\n",
            "Requirement already satisfied: urllib3<3,>=1.21.1 in /usr/local/lib/python3.10/dist-packages (from requests>=2.20->openai) (2.0.4)\n",
            "Requirement already satisfied: certifi>=2017.4.17 in /usr/local/lib/python3.10/dist-packages (from requests>=2.20->openai) (2023.7.22)\n",
            "Requirement already satisfied: attrs>=17.3.0 in /usr/local/lib/python3.10/dist-packages (from aiohttp->openai) (23.1.0)\n",
            "Requirement already satisfied: multidict<7.0,>=4.5 in /usr/local/lib/python3.10/dist-packages (from aiohttp->openai) (6.0.4)\n",
            "Requirement already satisfied: async-timeout<5.0,>=4.0.0a3 in /usr/local/lib/python3.10/dist-packages (from aiohttp->openai) (4.0.2)\n",
            "Requirement already satisfied: yarl<2.0,>=1.0 in /usr/local/lib/python3.10/dist-packages (from aiohttp->openai) (1.9.2)\n",
            "Requirement already satisfied: frozenlist>=1.1.1 in /usr/local/lib/python3.10/dist-packages (from aiohttp->openai) (1.4.0)\n",
            "Requirement already satisfied: aiosignal>=1.1.2 in /usr/local/lib/python3.10/dist-packages (from aiohttp->openai) (1.3.1)\n"
          ]
        }
      ],
      "source": [
        "# import the necessary module\n",
        "!pip install openai\n",
        "import openai\n",
        "\n",
        "# Set the OpenAI API Key\n",
        "openai.api_key = 'your api key'\n",
        "\n"
      ]
    },
    {
      "cell_type": "code",
      "execution_count": 6,
      "metadata": {
        "colab": {
          "base_uri": "https://localhost:8080/"
        },
        "id": "jjsofcqmQy9Y",
        "outputId": "a2efc0cb-0796-4721-f8f7-777b96fa23f0"
      },
      "outputs": [
        {
          "name": "stdout",
          "output_type": "stream",
          "text": [
            "Climate change is having a devastating impact on global biodiversity, and its long-term effects are expected to be even more severe. Rising temperatures, changes in precipitation patterns, and increasing levels of atmospheric carbon dioxide are all having a direct and indirect effect on species and habitats around the world.\n",
            "\n",
            "One of the most immediate effects of climate change on global biodiversity is the increased risk of extinction for many species. As temperatures rise and precipitation patterns change, many species are unable to adapt quickly enough and are at risk of disappearing entirely. In addition, rising sea levels and increased ocean acidification are putting pressure on many marine species, threatening their habitats and food sources.\n",
            "\n",
            "In the long-term, climate change could lead to the loss of entire ecosystems. As species go extinct, their interactions with other species are lost, leading to a cascade of extinctions that could result in the loss of entire habitats. This could have a devastating effect on global biodiversity, as entire species and habitats are wiped out.\n"
          ]
        }
      ],
      "source": [
        "# Define the prompt\n",
        "prompt_text = \"Discuss the long-term effects of climate change on global biodiversity.\"\n",
        "\n",
        "# Use the OpenAI API to generate a response\n",
        "response = openai.Completion.create(\n",
        "  engine=\"text-davinci-003\",  # Use the davinci model\n",
        "  prompt=prompt_text,  # Provide the prompt\n",
        "  temperature=0.5,  # This parameter controls randomness. Lower value (like 0.2) makes the output more deterministic and focused.\n",
        "  max_tokens=200  # Limit the length of the generated text\n",
        ")\n",
        "\n",
        "# Print the response\n",
        "print(response.choices[0].text.strip())\n"
      ]
    },
    {
      "cell_type": "code",
      "execution_count": null,
      "metadata": {
        "id": "jvLeExCcRmxQ"
      },
      "outputs": [],
      "source": []
    }
  ],
  "metadata": {
    "colab": {
      "provenance": []
    },
    "kernelspec": {
      "display_name": "Python 3",
      "name": "python3"
    },
    "language_info": {
      "name": "python"
    }
  },
  "nbformat": 4,
  "nbformat_minor": 0
}
