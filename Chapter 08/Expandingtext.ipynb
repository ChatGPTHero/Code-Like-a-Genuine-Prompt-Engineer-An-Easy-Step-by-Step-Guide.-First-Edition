{
  "cells": [
    {
      "cell_type": "code",
      "execution_count": 3,
      "metadata": {
        "colab": {
          "base_uri": "https://localhost:8080/"
        },
        "id": "-QAKcpsm-MeL",
        "outputId": "ddf757c7-c4d5-4ca9-e11b-d1f3b1818407"
      },
      "outputs": [
        {
          "name": "stdout",
          "output_type": "stream",
          "text": [
            "Requirement already satisfied: openai==0.28 in /usr/local/lib/python3.10/dist-packages (0.28.0)\n",
            "Requirement already satisfied: requests>=2.20 in /usr/local/lib/python3.10/dist-packages (from openai==0.28) (2.31.0)\n",
            "Requirement already satisfied: tqdm in /usr/local/lib/python3.10/dist-packages (from openai==0.28) (4.66.1)\n",
            "Requirement already satisfied: aiohttp in /usr/local/lib/python3.10/dist-packages (from openai==0.28) (3.9.1)\n",
            "Requirement already satisfied: charset-normalizer<4,>=2 in /usr/local/lib/python3.10/dist-packages (from requests>=2.20->openai==0.28) (3.3.2)\n",
            "Requirement already satisfied: idna<4,>=2.5 in /usr/local/lib/python3.10/dist-packages (from requests>=2.20->openai==0.28) (3.6)\n",
            "Requirement already satisfied: urllib3<3,>=1.21.1 in /usr/local/lib/python3.10/dist-packages (from requests>=2.20->openai==0.28) (2.0.7)\n",
            "Requirement already satisfied: certifi>=2017.4.17 in /usr/local/lib/python3.10/dist-packages (from requests>=2.20->openai==0.28) (2023.11.17)\n",
            "Requirement already satisfied: attrs>=17.3.0 in /usr/local/lib/python3.10/dist-packages (from aiohttp->openai==0.28) (23.1.0)\n",
            "Requirement already satisfied: multidict<7.0,>=4.5 in /usr/local/lib/python3.10/dist-packages (from aiohttp->openai==0.28) (6.0.4)\n",
            "Requirement already satisfied: yarl<2.0,>=1.0 in /usr/local/lib/python3.10/dist-packages (from aiohttp->openai==0.28) (1.9.3)\n",
            "Requirement already satisfied: frozenlist>=1.1.1 in /usr/local/lib/python3.10/dist-packages (from aiohttp->openai==0.28) (1.4.0)\n",
            "Requirement already satisfied: aiosignal>=1.1.2 in /usr/local/lib/python3.10/dist-packages (from aiohttp->openai==0.28) (1.3.1)\n",
            "Requirement already satisfied: async-timeout<5.0,>=4.0 in /usr/local/lib/python3.10/dist-packages (from aiohttp->openai==0.28) (4.0.3)\n"
          ]
        }
      ],
      "source": [
        "# import the necessary module\n",
        "!pip install openai==0.28\n",
        "import openai\n",
        "\n",
        "# Set the OpenAI API Key\n",
        "openai.api_key = 'your api key'\n",
        "\n"
      ]
    },
    {
      "cell_type": "code",
      "execution_count": 4,
      "metadata": {
        "colab": {
          "base_uri": "https://localhost:8080/"
        },
        "id": "jjsofcqmQy9Y",
        "outputId": "c1375a89-9ef7-43ff-d79b-89e14b5dfa4b"
      },
      "outputs": [
        {
          "name": "stdout",
          "output_type": "stream",
          "text": [
            "Climate change has had, and will continue to have, a significant impact on global biodiversity. As temperatures rise, habitats are shifting and species are being forced to migrate to survive. This can lead to a decrease in biodiversity, as species are unable to adapt to their new environment or compete with other species for resources. Additionally, extreme weather events, such as floods and droughts, can cause species to become extinct or severely reduce their populations.\n",
            "\n",
            "Climate change can also lead to changes in species interactions. For example, as species migrate to new areas, they may come into contact with species that they have never encountered before, leading to competition for resources and the potential for invasive species to spread and cause harm to native species.\n",
            "\n",
            "Finally, climate change can cause ocean acidification, which can have a significant impact on marine species. As the ocean becomes more acidic, it can reduce the availability of essential nutrients and cause coral bleaching, leading to a decrease in coral reef biodiversity.\n"
          ]
        }
      ],
      "source": [
        "# Define the prompt\n",
        "prompt_text = \"Discuss the long-term effects of climate change on global biodiversity.\"\n",
        "\n",
        "# Use the OpenAI API to generate a response\n",
        "response = openai.Completion.create(\n",
        "  engine=\"text-davinci-003\",  # Use the davinci model\n",
        "  prompt=prompt_text,  # Provide the prompt\n",
        "  temperature=0.5,  # This parameter controls randomness. Lower value (like 0.2) makes the output more deterministic and focused.\n",
        "  max_tokens=200  # Limit the length of the generated text\n",
        ")\n",
        "\n",
        "# Print the response\n",
        "print(response.choices[0].text.strip())\n"
      ]
    },
    {
      "cell_type": "code",
      "execution_count": null,
      "metadata": {
        "id": "jvLeExCcRmxQ"
      },
      "outputs": [],
      "source": []
    }
  ],
  "metadata": {
    "colab": {
      "provenance": []
    },
    "kernelspec": {
      "display_name": "Python 3",
      "name": "python3"
    },
    "language_info": {
      "name": "python"
    }
  },
  "nbformat": 4,
  "nbformat_minor": 0
}
