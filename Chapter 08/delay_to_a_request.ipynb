{
  "cells": [
    {
      "cell_type": "code",
      "execution_count": 2,
      "metadata": {
        "colab": {
          "base_uri": "https://localhost:8080/"
        },
        "id": "dBbR-wuBDMQA",
        "outputId": "a2c8240d-365e-4805-c373-472449f8c21a"
      },
      "outputs": [
        {
          "name": "stdout",
          "output_type": "stream",
          "text": [
            "Requirement already satisfied: openai in /usr/local/lib/python3.10/dist-packages (1.6.1)\n",
            "Requirement already satisfied: anyio<5,>=3.5.0 in /usr/local/lib/python3.10/dist-packages (from openai) (3.7.1)\n",
            "Requirement already satisfied: distro<2,>=1.7.0 in /usr/lib/python3/dist-packages (from openai) (1.7.0)\n",
            "Requirement already satisfied: httpx<1,>=0.23.0 in /usr/local/lib/python3.10/dist-packages (from openai) (0.26.0)\n",
            "Requirement already satisfied: pydantic<3,>=1.9.0 in /usr/local/lib/python3.10/dist-packages (from openai) (1.10.13)\n",
            "Requirement already satisfied: sniffio in /usr/local/lib/python3.10/dist-packages (from openai) (1.3.0)\n",
            "Requirement already satisfied: tqdm>4 in /usr/local/lib/python3.10/dist-packages (from openai) (4.66.1)\n",
            "Requirement already satisfied: typing-extensions<5,>=4.7 in /usr/local/lib/python3.10/dist-packages (from openai) (4.9.0)\n",
            "Requirement already satisfied: idna>=2.8 in /usr/local/lib/python3.10/dist-packages (from anyio<5,>=3.5.0->openai) (3.6)\n",
            "Requirement already satisfied: exceptiongroup in /usr/local/lib/python3.10/dist-packages (from anyio<5,>=3.5.0->openai) (1.2.0)\n",
            "Requirement already satisfied: certifi in /usr/local/lib/python3.10/dist-packages (from httpx<1,>=0.23.0->openai) (2023.11.17)\n",
            "Requirement already satisfied: httpcore==1.* in /usr/local/lib/python3.10/dist-packages (from httpx<1,>=0.23.0->openai) (1.0.2)\n",
            "Requirement already satisfied: h11<0.15,>=0.13 in /usr/local/lib/python3.10/dist-packages (from httpcore==1.*->httpx<1,>=0.23.0->openai) (0.14.0)\n"
          ]
        },
        {
          "data": {
            "text/plain": [
              "Completion(id='cmpl-8ZsF4pXxxbESrV6Voacrmg8N4Av7H', choices=[CompletionChoice(finish_reason='length', index=0, logprobs=None, text=' Colonial Williamsburg was a quaint tourist-trap visited once as a child on the')], created=1703560678, model='gpt-3.5-turbo-instruct', object='text_completion', system_fingerprint=None, usage=CompletionUsage(completion_tokens=16, prompt_tokens=5, total_tokens=21))"
            ]
          },
          "execution_count": 2,
          "metadata": {},
          "output_type": "execute_result"
        }
      ],
      "source": [
        "!pip install openai\n",
        "# imports\n",
        "import time\n",
        "from openai import OpenAI\n",
        "\n",
        "client = OpenAI(\n",
        "    api_key = 'your api key', )\n",
        "\n",
        "# Define a function that adds a delay to a Completion API call\n",
        "def delayed_completion(delay_in_seconds: float = 1, **kwargs):\n",
        "    \"\"\"Delay a completion by a specified amount of time.\"\"\"\n",
        "\n",
        "    # Sleep for the delay\n",
        "    time.sleep(delay_in_seconds)\n",
        "\n",
        "    # Call the Completion API and return the result\n",
        "    return client.completions.create(**kwargs)\n",
        "\n",
        "\n",
        "# Calculate the delay based on your rate limit\n",
        "rate_limit_per_minute = 20\n",
        "delay = 60.0 / rate_limit_per_minute\n",
        "\n",
        "delayed_completion(\n",
        "    delay_in_seconds=delay,\n",
        "    model=\"gpt-3.5-turbo-instruct\",\n",
        "    prompt=\"Once upon a time,\"\n",
        ")\n"
      ]
    },
    {
      "cell_type": "code",
      "execution_count": null,
      "metadata": {
        "id": "rKjZsRQuDnku"
      },
      "outputs": [],
      "source": []
    }
  ],
  "metadata": {
    "colab": {
      "provenance": []
    },
    "kernelspec": {
      "display_name": "Python 3",
      "name": "python3"
    },
    "language_info": {
      "name": "python"
    }
  },
  "nbformat": 4,
  "nbformat_minor": 0
}
