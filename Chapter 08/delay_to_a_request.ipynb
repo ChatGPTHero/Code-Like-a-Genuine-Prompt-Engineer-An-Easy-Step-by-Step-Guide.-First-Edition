{
  "cells": [
    {
      "cell_type": "code",
      "execution_count": 2,
      "metadata": {
        "colab": {
          "base_uri": "https://localhost:8080/"
        },
        "id": "dBbR-wuBDMQA",
        "outputId": "86ed0af9-eb55-43c0-d896-f370f8367681"
      },
      "outputs": [
        {
          "name": "stdout",
          "output_type": "stream",
          "text": [
            "Requirement already satisfied: openai==0.28 in /usr/local/lib/python3.10/dist-packages (0.28.0)\n",
            "Requirement already satisfied: requests>=2.20 in /usr/local/lib/python3.10/dist-packages (from openai==0.28) (2.31.0)\n",
            "Requirement already satisfied: tqdm in /usr/local/lib/python3.10/dist-packages (from openai==0.28) (4.66.1)\n",
            "Requirement already satisfied: aiohttp in /usr/local/lib/python3.10/dist-packages (from openai==0.28) (3.9.1)\n",
            "Requirement already satisfied: charset-normalizer<4,>=2 in /usr/local/lib/python3.10/dist-packages (from requests>=2.20->openai==0.28) (3.3.2)\n",
            "Requirement already satisfied: idna<4,>=2.5 in /usr/local/lib/python3.10/dist-packages (from requests>=2.20->openai==0.28) (3.6)\n",
            "Requirement already satisfied: urllib3<3,>=1.21.1 in /usr/local/lib/python3.10/dist-packages (from requests>=2.20->openai==0.28) (2.0.7)\n",
            "Requirement already satisfied: certifi>=2017.4.17 in /usr/local/lib/python3.10/dist-packages (from requests>=2.20->openai==0.28) (2023.11.17)\n",
            "Requirement already satisfied: attrs>=17.3.0 in /usr/local/lib/python3.10/dist-packages (from aiohttp->openai==0.28) (23.1.0)\n",
            "Requirement already satisfied: multidict<7.0,>=4.5 in /usr/local/lib/python3.10/dist-packages (from aiohttp->openai==0.28) (6.0.4)\n",
            "Requirement already satisfied: yarl<2.0,>=1.0 in /usr/local/lib/python3.10/dist-packages (from aiohttp->openai==0.28) (1.9.3)\n",
            "Requirement already satisfied: frozenlist>=1.1.1 in /usr/local/lib/python3.10/dist-packages (from aiohttp->openai==0.28) (1.4.0)\n",
            "Requirement already satisfied: aiosignal>=1.1.2 in /usr/local/lib/python3.10/dist-packages (from aiohttp->openai==0.28) (1.3.1)\n",
            "Requirement already satisfied: async-timeout<5.0,>=4.0 in /usr/local/lib/python3.10/dist-packages (from aiohttp->openai==0.28) (4.0.3)\n"
          ]
        },
        {
          "data": {
            "text/plain": [
              "<OpenAIObject text_completion id=cmpl-8UUVzcH3ztWChpbduyy8NK1bYgQLz at 0x7c2284712660> JSON: {\n",
              "  \"warning\": \"This model version is deprecated. Migrate before January 4, 2024 to avoid disruption of service. Learn more https://platform.openai.com/docs/deprecations\",\n",
              "  \"id\": \"cmpl-8UUVzcH3ztWChpbduyy8NK1bYgQLz\",\n",
              "  \"object\": \"text_completion\",\n",
              "  \"created\": 1702277831,\n",
              "  \"model\": \"text-davinci-002\",\n",
              "  \"choices\": [\n",
              "    {\n",
              "      \"text\": \" I read a great blog post written by @thekitchenista that was called\",\n",
              "      \"index\": 0,\n",
              "      \"logprobs\": null,\n",
              "      \"finish_reason\": \"length\"\n",
              "    }\n",
              "  ],\n",
              "  \"usage\": {\n",
              "    \"prompt_tokens\": 5,\n",
              "    \"completion_tokens\": 16,\n",
              "    \"total_tokens\": 21\n",
              "  }\n",
              "}"
            ]
          },
          "execution_count": 2,
          "metadata": {},
          "output_type": "execute_result"
        }
      ],
      "source": [
        "!pip install openai==0.28\n",
        "# imports\n",
        "import time\n",
        "import openai\n",
        "\n",
        "# Define a function that adds a delay to a Completion API call\n",
        "def delayed_completion(delay_in_seconds: float = 1, **kwargs):\n",
        "    \"\"\"Delay a completion by a specified amount of time.\"\"\"\n",
        "\n",
        "    # Sleep for the delay\n",
        "    time.sleep(delay_in_seconds)\n",
        "\n",
        "    # Call the Completion API and return the result\n",
        "    return openai.Completion.create(**kwargs)\n",
        "\n",
        "\n",
        "# Calculate the delay based on your rate limit\n",
        "rate_limit_per_minute = 20\n",
        "delay = 60.0 / rate_limit_per_minute\n",
        "\n",
        "delayed_completion(\n",
        "    delay_in_seconds=delay,\n",
        "    model=\"text-davinci-002\",\n",
        "    api_key = \"your api key\",\n",
        "    prompt=\"Once upon a time,\"\n",
        ")\n"
      ]
    },
    {
      "cell_type": "code",
      "execution_count": null,
      "metadata": {
        "id": "rKjZsRQuDnku"
      },
      "outputs": [],
      "source": []
    }
  ],
  "metadata": {
    "colab": {
      "provenance": []
    },
    "kernelspec": {
      "display_name": "Python 3",
      "name": "python3"
    },
    "language_info": {
      "name": "python"
    }
  },
  "nbformat": 4,
  "nbformat_minor": 0
}
