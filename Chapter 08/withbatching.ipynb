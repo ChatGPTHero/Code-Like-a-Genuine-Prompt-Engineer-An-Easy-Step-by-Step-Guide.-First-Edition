{
  "cells": [
    {
      "cell_type": "code",
      "execution_count": 2,
      "metadata": {
        "colab": {
          "base_uri": "https://localhost:8080/"
        },
        "id": "l7E3FtCtEdQj",
        "outputId": "5280d4a2-7374-4977-e375-b3fa94516c31"
      },
      "outputs": [
        {
          "name": "stdout",
          "output_type": "stream",
          "text": [
            "Requirement already satisfied: openai==0.28 in /usr/local/lib/python3.10/dist-packages (0.28.0)\n",
            "Requirement already satisfied: requests>=2.20 in /usr/local/lib/python3.10/dist-packages (from openai==0.28) (2.31.0)\n",
            "Requirement already satisfied: tqdm in /usr/local/lib/python3.10/dist-packages (from openai==0.28) (4.66.1)\n",
            "Requirement already satisfied: aiohttp in /usr/local/lib/python3.10/dist-packages (from openai==0.28) (3.9.1)\n",
            "Requirement already satisfied: charset-normalizer<4,>=2 in /usr/local/lib/python3.10/dist-packages (from requests>=2.20->openai==0.28) (3.3.2)\n",
            "Requirement already satisfied: idna<4,>=2.5 in /usr/local/lib/python3.10/dist-packages (from requests>=2.20->openai==0.28) (3.6)\n",
            "Requirement already satisfied: urllib3<3,>=1.21.1 in /usr/local/lib/python3.10/dist-packages (from requests>=2.20->openai==0.28) (2.0.7)\n",
            "Requirement already satisfied: certifi>=2017.4.17 in /usr/local/lib/python3.10/dist-packages (from requests>=2.20->openai==0.28) (2023.11.17)\n",
            "Requirement already satisfied: attrs>=17.3.0 in /usr/local/lib/python3.10/dist-packages (from aiohttp->openai==0.28) (23.1.0)\n",
            "Requirement already satisfied: multidict<7.0,>=4.5 in /usr/local/lib/python3.10/dist-packages (from aiohttp->openai==0.28) (6.0.4)\n",
            "Requirement already satisfied: yarl<2.0,>=1.0 in /usr/local/lib/python3.10/dist-packages (from aiohttp->openai==0.28) (1.9.3)\n",
            "Requirement already satisfied: frozenlist>=1.1.1 in /usr/local/lib/python3.10/dist-packages (from aiohttp->openai==0.28) (1.4.0)\n",
            "Requirement already satisfied: aiosignal>=1.1.2 in /usr/local/lib/python3.10/dist-packages (from aiohttp->openai==0.28) (1.3.1)\n",
            "Requirement already satisfied: async-timeout<5.0,>=4.0 in /usr/local/lib/python3.10/dist-packages (from aiohttp->openai==0.28) (4.0.3)\n",
            "Once upon a time, when I was all of twelve, it was my birthday. The windows were open at the Sebas\n",
            "Once upon a time, my boyfriend and I were lucky enough to be waited on by an old-timey bartender we instantly\n",
            "Once upon a time, there was a girl named Donna who had everything– a house near you and a job she loved.\n",
            "Once upon a time, the initiates learned not to covet or request housing as gifts or privileges. The initiates learned\n",
            "Once upon a time, there were two blue plumbers who served a wonderful princess who doted over various children and animals.\n",
            "Once upon a time, across the vast sun parched systems were scattered a few remains of previous civilizations. These relics were preserved\n",
            "Once upon a time, 27 years ago this week, Germany beat Brazil 5-2 in the semifinals of the 1988 Mexico Cup\n",
            "Once upon a time, there was a king who had a gorgeous splendid palace and teeming well-stocked kitchen. The\n",
            "Once upon a time, there was a lady name Candeece Burton who was really pretty and popular. But one day her\n",
            "Once upon a time, there was a group of students who would get together in one of their closet projects because their company building\n"
          ]
        }
      ],
      "source": [
        "!pip install openai==0.28\n",
        "import openai  # for making OpenAI API requests\n",
        "\n",
        "\n",
        "num_stories = 10\n",
        "prompts = [\"Once upon a time,\"] * num_stories\n",
        "\n",
        "# batched example, with 10 stories completions per request\n",
        "response = openai.Completion.create(\n",
        "    model=\"curie\",\n",
        "    api_key = \"your api key\",\n",
        "    prompt=prompts,\n",
        "    max_tokens=20,\n",
        ")\n",
        "\n",
        "# match completions to prompts by index\n",
        "stories = [\"\"] * len(prompts)\n",
        "for choice in response.choices:\n",
        "    stories[choice.index] = prompts[choice.index] + choice.text\n",
        "\n",
        "# print stories\n",
        "for story in stories:\n",
        "    print(story)"
      ]
    },
    {
      "cell_type": "code",
      "execution_count": null,
      "metadata": {
        "id": "-v_dcMhCE0Ej"
      },
      "outputs": [],
      "source": []
    }
  ],
  "metadata": {
    "accelerator": "GPU",
    "colab": {
      "gpuType": "T4",
      "machine_shape": "hm",
      "provenance": []
    },
    "kernelspec": {
      "display_name": "Python 3",
      "name": "python3"
    },
    "language_info": {
      "name": "python"
    }
  },
  "nbformat": 4,
  "nbformat_minor": 0
}
