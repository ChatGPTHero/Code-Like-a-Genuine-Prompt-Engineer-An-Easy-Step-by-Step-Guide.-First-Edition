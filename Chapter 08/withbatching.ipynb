{
  "cells": [
    {
      "cell_type": "code",
      "execution_count": 2,
      "metadata": {
        "colab": {
          "base_uri": "https://localhost:8080/"
        },
        "id": "l7E3FtCtEdQj",
        "outputId": "dcc9a26e-dc7e-4515-ef1a-0ea72c5ffe34"
      },
      "outputs": [
        {
          "name": "stdout",
          "output_type": "stream",
          "text": [
            "Requirement already satisfied: openai in /usr/local/lib/python3.10/dist-packages (1.3.9)\n",
            "Requirement already satisfied: anyio<5,>=3.5.0 in /usr/local/lib/python3.10/dist-packages (from openai) (3.7.1)\n",
            "Requirement already satisfied: distro<2,>=1.7.0 in /usr/lib/python3/dist-packages (from openai) (1.7.0)\n",
            "Requirement already satisfied: httpx<1,>=0.23.0 in /usr/local/lib/python3.10/dist-packages (from openai) (0.25.2)\n",
            "Requirement already satisfied: pydantic<3,>=1.9.0 in /usr/local/lib/python3.10/dist-packages (from openai) (1.10.13)\n",
            "Requirement already satisfied: sniffio in /usr/local/lib/python3.10/dist-packages (from openai) (1.3.0)\n",
            "Requirement already satisfied: tqdm>4 in /usr/local/lib/python3.10/dist-packages (from openai) (4.66.1)\n",
            "Requirement already satisfied: typing-extensions<5,>=4.5 in /usr/local/lib/python3.10/dist-packages (from openai) (4.5.0)\n",
            "Requirement already satisfied: idna>=2.8 in /usr/local/lib/python3.10/dist-packages (from anyio<5,>=3.5.0->openai) (3.6)\n",
            "Requirement already satisfied: exceptiongroup in /usr/local/lib/python3.10/dist-packages (from anyio<5,>=3.5.0->openai) (1.2.0)\n",
            "Requirement already satisfied: certifi in /usr/local/lib/python3.10/dist-packages (from httpx<1,>=0.23.0->openai) (2023.11.17)\n",
            "Requirement already satisfied: httpcore==1.* in /usr/local/lib/python3.10/dist-packages (from httpx<1,>=0.23.0->openai) (1.0.2)\n",
            "Requirement already satisfied: h11<0.15,>=0.13 in /usr/local/lib/python3.10/dist-packages (from httpcore==1.*->httpx<1,>=0.23.0->openai) (0.14.0)\n",
            "Once upon a time, I was a novice. I had heard about these fantastic surfing camps, where you could learn how to\n",
            "Once upon a time, we celebrated this holiday outdoors with our family, friends, or just the family pets. Nowadays,\n",
            "Once upon a time, there was a man who was glutton drunk, and he was floating down-river with his arms\n",
            "Once upon a time, JPEG (pronounced \"jay-peg\") was a great format. It gave up lossless compression\n",
            "Once upon a time, a pilot designed a set of flight simulation scenery while learning how to fly. The terrain was mostly barren\n",
            "Once upon a time, if you mentioned “literary fiction,” someone would have leapt to his feet, pointed\n",
            "Once upon a time, there was a man of considerable wealth. His total wealth at the time was said to be ten m\n",
            "Once upon a time, alcohol and tobacco were considered a major carcinogen, and they are today as well. A billion people\n",
            "Once upon a time, there was a fierce great wolf named Hnal'shag who ruled a horde. Thus,\n",
            "Once upon a time, that last had been me. I'd had a job that enabled me to do 'big' things\n"
          ]
        }
      ],
      "source": [
        "!pip install openai\n",
        "from openai import OpenAI\n",
        "\n",
        "client = OpenAI(\n",
        "    api_key = 'your api key', )\n",
        "\n",
        "\n",
        "\n",
        "num_stories = 10\n",
        "prompts = [\"Once upon a time,\"] * num_stories\n",
        "\n",
        "# batched example, with 10 stories completions per request\n",
        "response = client.completions.create(\n",
        "    model=\"curie\",\n",
        "    prompt=prompts,\n",
        "    max_tokens=20,\n",
        ")\n",
        "\n",
        "# match completions to prompts by index\n",
        "stories = [\"\"] * len(prompts)\n",
        "for choice in response.choices:\n",
        "    stories[choice.index] = prompts[choice.index] + choice.text\n",
        "\n",
        "# print stories\n",
        "for story in stories:\n",
        "    print(story)"
      ]
    },
    {
      "cell_type": "code",
      "execution_count": null,
      "metadata": {
        "id": "-v_dcMhCE0Ej"
      },
      "outputs": [],
      "source": []
    }
  ],
  "metadata": {
    "accelerator": "GPU",
    "colab": {
      "gpuType": "T4",
      "machine_shape": "hm",
      "provenance": []
    },
    "kernelspec": {
      "display_name": "Python 3",
      "name": "python3"
    },
    "language_info": {
      "name": "python"
    }
  },
  "nbformat": 4,
  "nbformat_minor": 0
}
