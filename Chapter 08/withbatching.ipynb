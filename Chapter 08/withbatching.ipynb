{
  "cells": [
    {
      "cell_type": "code",
      "execution_count": 3,
      "metadata": {
        "colab": {
          "base_uri": "https://localhost:8080/"
        },
        "id": "l7E3FtCtEdQj",
        "outputId": "49924ebe-8233-41c2-8369-526005adba74"
      },
      "outputs": [
        {
          "name": "stdout",
          "output_type": "stream",
          "text": [
            "Requirement already satisfied: openai in /usr/local/lib/python3.10/dist-packages (1.6.1)\n",
            "Requirement already satisfied: anyio<5,>=3.5.0 in /usr/local/lib/python3.10/dist-packages (from openai) (3.7.1)\n",
            "Requirement already satisfied: distro<2,>=1.7.0 in /usr/lib/python3/dist-packages (from openai) (1.7.0)\n",
            "Requirement already satisfied: httpx<1,>=0.23.0 in /usr/local/lib/python3.10/dist-packages (from openai) (0.26.0)\n",
            "Requirement already satisfied: pydantic<3,>=1.9.0 in /usr/local/lib/python3.10/dist-packages (from openai) (1.10.13)\n",
            "Requirement already satisfied: sniffio in /usr/local/lib/python3.10/dist-packages (from openai) (1.3.0)\n",
            "Requirement already satisfied: tqdm>4 in /usr/local/lib/python3.10/dist-packages (from openai) (4.66.1)\n",
            "Requirement already satisfied: typing-extensions<5,>=4.7 in /usr/local/lib/python3.10/dist-packages (from openai) (4.9.0)\n",
            "Requirement already satisfied: idna>=2.8 in /usr/local/lib/python3.10/dist-packages (from anyio<5,>=3.5.0->openai) (3.6)\n",
            "Requirement already satisfied: exceptiongroup in /usr/local/lib/python3.10/dist-packages (from anyio<5,>=3.5.0->openai) (1.2.0)\n",
            "Requirement already satisfied: certifi in /usr/local/lib/python3.10/dist-packages (from httpx<1,>=0.23.0->openai) (2023.11.17)\n",
            "Requirement already satisfied: httpcore==1.* in /usr/local/lib/python3.10/dist-packages (from httpx<1,>=0.23.0->openai) (1.0.2)\n",
            "Requirement already satisfied: h11<0.15,>=0.13 in /usr/local/lib/python3.10/dist-packages (from httpcore==1.*->httpx<1,>=0.23.0->openai) (0.14.0)\n",
            "Once upon a time, there was only the AOL instant messenger, before Twitter and Tweetdeck existed and Facebook was exclusive to university\n",
            "Once upon a time, users would download an app, and within it, they could start purchasing products or services. But thanks\n",
            "Once upon a time, there was a researcher named Andy, who had been working on a new invention for many years. It\n",
            "Once upon a time, not so very long ago, a great Architect built a wedding ring inside of a small egg. She\n",
            "Once upon a time, I wanted to kill myself. I was miserable, hopeless and tired of living.\n",
            "\n",
            "I had been struggling\n",
            "Once upon a time, a fairy tale project 'Elysium: Colin is an innovative and imaginative adaptation of the world famous\n",
            "Once upon a time, I told Jamie Strachan, I ain't nobody's homeboy.\n",
            "\n",
            "Jamie Strachan shrugged\n",
            "Once upon a time, there was a lovely Princess who lived in a kingdom far away. She was the most beautiful Princess in\n",
            "Once upon a time, artists, musicians, and playwrights thrived under the patronage of wealthy benefactors. Beethoven\n",
            "Once upon a time, two wealthy men arrived at the same inn. Both were traveling on business and decided to stay at the\n"
          ]
        }
      ],
      "source": [
        "!pip install openai\n",
        "from openai import OpenAI\n",
        "\n",
        "client = OpenAI(\n",
        "    api_key = ' your api key', )\n",
        "\n",
        "\n",
        "\n",
        "num_stories = 10\n",
        "prompts = [\"Once upon a time,\"] * num_stories\n",
        "\n",
        "# batched example, with 10 stories completions per request\n",
        "response = client.completions.create(\n",
        "    model=\"gpt-3.5-turbo-instruct\",\n",
        "    prompt=prompts,\n",
        "    max_tokens=20,\n",
        ")\n",
        "\n",
        "# match completions to prompts by index\n",
        "stories = [\"\"] * len(prompts)\n",
        "for choice in response.choices:\n",
        "    stories[choice.index] = prompts[choice.index] + choice.text\n",
        "\n",
        "# print stories\n",
        "for story in stories:\n",
        "    print(story)"
      ]
    },
    {
      "cell_type": "code",
      "execution_count": null,
      "metadata": {
        "id": "-v_dcMhCE0Ej"
      },
      "outputs": [],
      "source": []
    }
  ],
  "metadata": {
    "accelerator": "GPU",
    "colab": {
      "gpuType": "T4",
      "machine_shape": "hm",
      "provenance": []
    },
    "kernelspec": {
      "display_name": "Python 3",
      "name": "python3"
    },
    "language_info": {
      "name": "python"
    }
  },
  "nbformat": 4,
  "nbformat_minor": 0
}
