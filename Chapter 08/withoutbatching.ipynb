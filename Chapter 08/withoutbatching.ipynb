{
  "cells": [
    {
      "cell_type": "code",
      "execution_count": 5,
      "metadata": {
        "colab": {
          "base_uri": "https://localhost:8080/"
        },
        "id": "EiBnDiSFD9gp",
        "outputId": "7dd77c70-90c9-4590-ee21-6829f5b4d69a"
      },
      "outputs": [
        {
          "name": "stdout",
          "output_type": "stream",
          "text": [
            "Requirement already satisfied: openai in /usr/local/lib/python3.10/dist-packages (1.6.1)\n",
            "Requirement already satisfied: anyio<5,>=3.5.0 in /usr/local/lib/python3.10/dist-packages (from openai) (3.7.1)\n",
            "Requirement already satisfied: distro<2,>=1.7.0 in /usr/lib/python3/dist-packages (from openai) (1.7.0)\n",
            "Requirement already satisfied: httpx<1,>=0.23.0 in /usr/local/lib/python3.10/dist-packages (from openai) (0.26.0)\n",
            "Requirement already satisfied: pydantic<3,>=1.9.0 in /usr/local/lib/python3.10/dist-packages (from openai) (1.10.13)\n",
            "Requirement already satisfied: sniffio in /usr/local/lib/python3.10/dist-packages (from openai) (1.3.0)\n",
            "Requirement already satisfied: tqdm>4 in /usr/local/lib/python3.10/dist-packages (from openai) (4.66.1)\n",
            "Requirement already satisfied: typing-extensions<5,>=4.7 in /usr/local/lib/python3.10/dist-packages (from openai) (4.9.0)\n",
            "Requirement already satisfied: idna>=2.8 in /usr/local/lib/python3.10/dist-packages (from anyio<5,>=3.5.0->openai) (3.6)\n",
            "Requirement already satisfied: exceptiongroup in /usr/local/lib/python3.10/dist-packages (from anyio<5,>=3.5.0->openai) (1.2.0)\n",
            "Requirement already satisfied: certifi in /usr/local/lib/python3.10/dist-packages (from httpx<1,>=0.23.0->openai) (2023.11.17)\n",
            "Requirement already satisfied: httpcore==1.* in /usr/local/lib/python3.10/dist-packages (from httpx<1,>=0.23.0->openai) (1.0.2)\n",
            "Requirement already satisfied: h11<0.15,>=0.13 in /usr/local/lib/python3.10/dist-packages (from httpcore==1.*->httpx<1,>=0.23.0->openai) (0.14.0)\n",
            "Once upon a time, the gods fated there would be a world where a mighty warrior would rise and bring balance to the\n",
            "Once upon a time, when the Café Wars were raging on across the land and coffee houses vied for supremacy over one another\n",
            "Once upon a time, there was a grand old kingdom at the edge of the sea. It was ruled by a just and\n",
            "Once upon a time, Roy had had the power to manipulate Earth, and with pride and joy had he used it to do\n",
            "Once upon a time, I was an artist.\n",
            "\n",
            "I spent my days lost in the creative process, exploring new techniques and pushing\n",
            "Once upon a time, I thought I didn't like using\n",
            "\n",
            "Ipsy.\n",
            "\n",
            "There were a few things that I thought made\n",
            "Once upon a time, there was a Postcard I.A. looked forward to reading (during #writemotivation\n",
            "Once upon a time, in a village that stood along the banks of the Nile River, the villagers knew about magic. Their\n",
            "Once upon a time, I had a corky. Her name was sweetie, and she was my furry best friend.\n",
            "Once upon a time, in the middle of the dense forest, there was a small village called Green Village. The villagers lived\n"
          ]
        }
      ],
      "source": [
        "!pip install openai\n",
        "from openai import OpenAI   # for making OpenAI API requests\n",
        "num_stories = 10\n",
        "prompt = \"Once upon a time,\"\n",
        "\n",
        "client = OpenAI(\n",
        "    api_key = 'your api key', )\n",
        "\n",
        "# serial example, with one story completion per request\n",
        "for _ in range(num_stories):\n",
        "    response = client.completions.create(\n",
        "  model=\"gpt-3.5-turbo-instruct\",\n",
        "  prompt=prompt,\n",
        "  max_tokens=20  )\n",
        "\n",
        "    # print story\n",
        "    print(prompt + response.choices[0].text)\n"
      ]
    },
    {
      "cell_type": "code",
      "execution_count": null,
      "metadata": {
        "id": "oZ31QyYK-Tgw"
      },
      "outputs": [],
      "source": []
    }
  ],
  "metadata": {
    "colab": {
      "provenance": []
    },
    "kernelspec": {
      "display_name": "Python 3",
      "name": "python3"
    },
    "language_info": {
      "name": "python"
    }
  },
  "nbformat": 4,
  "nbformat_minor": 0
}
