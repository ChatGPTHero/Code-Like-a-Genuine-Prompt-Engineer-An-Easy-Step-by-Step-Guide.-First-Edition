{
  "cells": [
    {
      "cell_type": "code",
      "execution_count": 2,
      "metadata": {
        "colab": {
          "base_uri": "https://localhost:8080/"
        },
        "id": "EiBnDiSFD9gp",
        "outputId": "242ff2c0-5c78-428f-f992-278251d0fbb1"
      },
      "outputs": [
        {
          "name": "stdout",
          "output_type": "stream",
          "text": [
            "Requirement already satisfied: openai in /usr/local/lib/python3.10/dist-packages (1.3.9)\n",
            "Requirement already satisfied: anyio<5,>=3.5.0 in /usr/local/lib/python3.10/dist-packages (from openai) (3.7.1)\n",
            "Requirement already satisfied: distro<2,>=1.7.0 in /usr/lib/python3/dist-packages (from openai) (1.7.0)\n",
            "Requirement already satisfied: httpx<1,>=0.23.0 in /usr/local/lib/python3.10/dist-packages (from openai) (0.25.2)\n",
            "Requirement already satisfied: pydantic<3,>=1.9.0 in /usr/local/lib/python3.10/dist-packages (from openai) (1.10.13)\n",
            "Requirement already satisfied: sniffio in /usr/local/lib/python3.10/dist-packages (from openai) (1.3.0)\n",
            "Requirement already satisfied: tqdm>4 in /usr/local/lib/python3.10/dist-packages (from openai) (4.66.1)\n",
            "Requirement already satisfied: typing-extensions<5,>=4.5 in /usr/local/lib/python3.10/dist-packages (from openai) (4.5.0)\n",
            "Requirement already satisfied: idna>=2.8 in /usr/local/lib/python3.10/dist-packages (from anyio<5,>=3.5.0->openai) (3.6)\n",
            "Requirement already satisfied: exceptiongroup in /usr/local/lib/python3.10/dist-packages (from anyio<5,>=3.5.0->openai) (1.2.0)\n",
            "Requirement already satisfied: certifi in /usr/local/lib/python3.10/dist-packages (from httpx<1,>=0.23.0->openai) (2023.11.17)\n",
            "Requirement already satisfied: httpcore==1.* in /usr/local/lib/python3.10/dist-packages (from httpx<1,>=0.23.0->openai) (1.0.2)\n",
            "Requirement already satisfied: h11<0.15,>=0.13 in /usr/local/lib/python3.10/dist-packages (from httpcore==1.*->httpx<1,>=0.23.0->openai) (0.14.0)\n",
            "Once upon a time, condoms were made of rubber. They were dismal failures because rubber was so porous that the drop in pressure\n",
            "Once upon a time, there was a rebellious animator named Whilce who came up with the idea of challenging the confines\n",
            "Once upon a time, three girls got their first jobs as advice columnists: fat people, stupid women and... black people\n",
            "Once upon a time, a long time ago, on a strange and mountainous island he lived once upon a time, there lived\n",
            "Once upon a time, for Elsa was a normal child, and when she woke from her sleep it was to stare at her\n",
            "Once upon a time, in Seychelles, in the little village of Mahé, down on the southern tip of\n",
            "Once upon a time, when men were violent and the world was counting on them to fix everything, she had thought, This\n",
            "Once upon a time, the faces of these same servants were discreetly unobtrusive. They maintained their anonymity and adherence to\n",
            "Once upon a time, one of the more controversial interpretations of Victor Castaneda’s “The Teachings of\n",
            "Once upon a time, there was a girl who always wanted to learn.\n",
            "\n",
            "\n",
            "\n",
            "She continued reading the books, she\n"
          ]
        }
      ],
      "source": [
        "!pip install openai\n",
        "from openai import OpenAI   # for making OpenAI API requests\n",
        "num_stories = 10\n",
        "prompt = \"Once upon a time,\"\n",
        "\n",
        "client = OpenAI(\n",
        "    api_key = 'your api key', )\n",
        "\n",
        "# serial example, with one story completion per request\n",
        "for _ in range(num_stories):\n",
        "    response = client.completions.create(\n",
        "        model=\"curie\",\n",
        "        prompt=prompt,\n",
        "        max_tokens=20,\n",
        "    )\n",
        "\n",
        "    # print story\n",
        "    print(prompt + response.choices[0].text)\n"
      ]
    },
    {
      "cell_type": "code",
      "execution_count": null,
      "metadata": {
        "id": "9uChJTzrENvU"
      },
      "outputs": [],
      "source": []
    }
  ],
  "metadata": {
    "colab": {
      "provenance": []
    },
    "kernelspec": {
      "display_name": "Python 3",
      "name": "python3"
    },
    "language_info": {
      "name": "python"
    }
  },
  "nbformat": 4,
  "nbformat_minor": 0
}
