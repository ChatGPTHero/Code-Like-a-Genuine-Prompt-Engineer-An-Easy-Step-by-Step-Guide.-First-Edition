{
  "cells": [
    {
      "cell_type": "code",
      "execution_count": 1,
      "metadata": {
        "colab": {
          "base_uri": "https://localhost:8080/"
        },
        "id": "7nb-op1oeoE8",
        "outputId": "4bacf67e-d8b8-4317-90e2-f872c3247620"
      },
      "outputs": [
        {
          "name": "stdout",
          "output_type": "stream",
          "text": [
            "Requirement already satisfied: scipy in /usr/local/lib/python3.10/dist-packages (1.11.2)\n",
            "Requirement already satisfied: numpy<1.28.0,>=1.21.6 in /usr/local/lib/python3.10/dist-packages (from scipy) (1.23.5)\n",
            "Requirement already satisfied: tenacity in /usr/local/lib/python3.10/dist-packages (8.2.3)\n",
            "Collecting tiktoken\n",
            "  Downloading tiktoken-0.5.1-cp310-cp310-manylinux_2_17_x86_64.manylinux2014_x86_64.whl (2.0 MB)\n",
            "\u001b[2K     \u001b[90m━━━━━━━━━━━━━━━━━━━━━━━━━━━━━━━━━━━━━━━━\u001b[0m \u001b[32m2.0/2.0 MB\u001b[0m \u001b[31m21.9 MB/s\u001b[0m eta \u001b[36m0:00:00\u001b[0m\n",
            "\u001b[?25hRequirement already satisfied: regex>=2022.1.18 in /usr/local/lib/python3.10/dist-packages (from tiktoken) (2023.6.3)\n",
            "Requirement already satisfied: requests>=2.26.0 in /usr/local/lib/python3.10/dist-packages (from tiktoken) (2.31.0)\n",
            "Requirement already satisfied: charset-normalizer<4,>=2 in /usr/local/lib/python3.10/dist-packages (from requests>=2.26.0->tiktoken) (3.2.0)\n",
            "Requirement already satisfied: idna<4,>=2.5 in /usr/local/lib/python3.10/dist-packages (from requests>=2.26.0->tiktoken) (3.4)\n",
            "Requirement already satisfied: urllib3<3,>=1.21.1 in /usr/local/lib/python3.10/dist-packages (from requests>=2.26.0->tiktoken) (2.0.4)\n",
            "Requirement already satisfied: certifi>=2017.4.17 in /usr/local/lib/python3.10/dist-packages (from requests>=2.26.0->tiktoken) (2023.7.22)\n",
            "Installing collected packages: tiktoken\n",
            "Successfully installed tiktoken-0.5.1\n",
            "Requirement already satisfied: termcolor in /usr/local/lib/python3.10/dist-packages (2.3.0)\n",
            "Collecting openai\n",
            "  Downloading openai-0.28.1-py3-none-any.whl (76 kB)\n",
            "\u001b[2K     \u001b[90m━━━━━━━━━━━━━━━━━━━━━━━━━━━━━━━━━━━━━━━━\u001b[0m \u001b[32m77.0/77.0 kB\u001b[0m \u001b[31m1.8 MB/s\u001b[0m eta \u001b[36m0:00:00\u001b[0m\n",
            "\u001b[?25hRequirement already satisfied: requests>=2.20 in /usr/local/lib/python3.10/dist-packages (from openai) (2.31.0)\n",
            "Requirement already satisfied: tqdm in /usr/local/lib/python3.10/dist-packages (from openai) (4.66.1)\n",
            "Requirement already satisfied: aiohttp in /usr/local/lib/python3.10/dist-packages (from openai) (3.8.5)\n",
            "Requirement already satisfied: charset-normalizer<4,>=2 in /usr/local/lib/python3.10/dist-packages (from requests>=2.20->openai) (3.2.0)\n",
            "Requirement already satisfied: idna<4,>=2.5 in /usr/local/lib/python3.10/dist-packages (from requests>=2.20->openai) (3.4)\n",
            "Requirement already satisfied: urllib3<3,>=1.21.1 in /usr/local/lib/python3.10/dist-packages (from requests>=2.20->openai) (2.0.4)\n",
            "Requirement already satisfied: certifi>=2017.4.17 in /usr/local/lib/python3.10/dist-packages (from requests>=2.20->openai) (2023.7.22)\n",
            "Requirement already satisfied: attrs>=17.3.0 in /usr/local/lib/python3.10/dist-packages (from aiohttp->openai) (23.1.0)\n",
            "Requirement already satisfied: multidict<7.0,>=4.5 in /usr/local/lib/python3.10/dist-packages (from aiohttp->openai) (6.0.4)\n",
            "Requirement already satisfied: async-timeout<5.0,>=4.0.0a3 in /usr/local/lib/python3.10/dist-packages (from aiohttp->openai) (4.0.3)\n",
            "Requirement already satisfied: yarl<2.0,>=1.0 in /usr/local/lib/python3.10/dist-packages (from aiohttp->openai) (1.9.2)\n",
            "Requirement already satisfied: frozenlist>=1.1.1 in /usr/local/lib/python3.10/dist-packages (from aiohttp->openai) (1.4.0)\n",
            "Requirement already satisfied: aiosignal>=1.1.2 in /usr/local/lib/python3.10/dist-packages (from aiohttp->openai) (1.3.1)\n",
            "Installing collected packages: openai\n",
            "Successfully installed openai-0.28.1\n",
            "Requirement already satisfied: requests in /usr/local/lib/python3.10/dist-packages (2.31.0)\n",
            "Requirement already satisfied: charset-normalizer<4,>=2 in /usr/local/lib/python3.10/dist-packages (from requests) (3.2.0)\n",
            "Requirement already satisfied: idna<4,>=2.5 in /usr/local/lib/python3.10/dist-packages (from requests) (3.4)\n",
            "Requirement already satisfied: urllib3<3,>=1.21.1 in /usr/local/lib/python3.10/dist-packages (from requests) (2.0.4)\n",
            "Requirement already satisfied: certifi>=2017.4.17 in /usr/local/lib/python3.10/dist-packages (from requests) (2023.7.22)\n"
          ]
        }
      ],
      "source": [
        "!pip install scipy\n",
        "!pip install tenacity\n",
        "!pip install tiktoken\n",
        "!pip install termcolor\n",
        "!pip install openai\n",
        "!pip install requests"
      ]
    },
    {
      "cell_type": "code",
      "execution_count": 2,
      "metadata": {
        "id": "Hn5i1t1Set8S"
      },
      "outputs": [],
      "source": [
        "import openai\n",
        "import os\n",
        "openai.api_key  = 'your api key'"
      ]
    },
    {
      "cell_type": "code",
      "execution_count": 3,
      "metadata": {
        "id": "SeecLmCDe4eX"
      },
      "outputs": [],
      "source": [
        "import json\n",
        "import openai\n",
        "import requests\n",
        "from tenacity import retry, wait_random_exponential, stop_after_attempt\n",
        "from termcolor import colored\n",
        "\n",
        "GPT_MODEL = \"gpt-3.5-turbo-0613\""
      ]
    },
    {
      "cell_type": "code",
      "execution_count": 4,
      "metadata": {
        "id": "niuFKJ-GfCOB"
      },
      "outputs": [],
      "source": [
        "@retry(wait=wait_random_exponential(min=1, max=40), stop=stop_after_attempt(3))\n",
        "def chat_completion_request(messages, functions=None, function_call=None, model=GPT_MODEL):\n",
        "    headers = {\n",
        "        \"Content-Type\": \"application/json\",\n",
        "        \"Authorization\": \"Bearer \" + openai.api_key,\n",
        "    }\n",
        "    json_data = {\"model\": model, \"messages\": messages}\n",
        "    if functions is not None:\n",
        "        json_data.update({\"functions\": functions})\n",
        "    if function_call is not None:\n",
        "        json_data.update({\"function_call\": function_call})\n",
        "    try:\n",
        "        response = requests.post(\n",
        "            \"https://api.openai.com/v1/chat/completions\",\n",
        "            headers=headers,\n",
        "            json=json_data,\n",
        "        )\n",
        "        return response\n",
        "    except Exception as e:\n",
        "        print(\"Unable to generate ChatCompletion response\")\n",
        "        print(f\"Exception: {e}\")\n",
        "        return e"
      ]
    },
    {
      "cell_type": "code",
      "execution_count": 5,
      "metadata": {
        "id": "cCNIaW1vfGpC"
      },
      "outputs": [],
      "source": [
        "def pretty_print_conversation(messages):\n",
        "    role_to_color = {\n",
        "        \"system\": \"red\",\n",
        "        \"user\": \"green\",\n",
        "        \"assistant\": \"blue\",\n",
        "        \"function\": \"magenta\",\n",
        "    }\n",
        "    formatted_messages = []\n",
        "    for message in messages:\n",
        "        if message[\"role\"] == \"system\":\n",
        "            formatted_messages.append(f\"system: {message['content']}\\n\")\n",
        "        elif message[\"role\"] == \"user\":\n",
        "            formatted_messages.append(f\"user: {message['content']}\\n\")\n",
        "        elif message[\"role\"] == \"assistant\" and message.get(\"function_call\"):\n",
        "            formatted_messages.append(f\"assistant: {message['function_call']}\\n\")\n",
        "        elif message[\"role\"] == \"assistant\" and not message.get(\"function_call\"):\n",
        "            formatted_messages.append(f\"assistant: {message['content']}\\n\")\n",
        "        elif message[\"role\"] == \"function\":\n",
        "            formatted_messages.append(f\"function ({message['name']}): {message['content']}\\n\")\n",
        "    for formatted_message in formatted_messages:\n",
        "        print(\n",
        "            colored(\n",
        "                formatted_message,\n",
        "                role_to_color[messages[formatted_messages.index(formatted_message)][\"role\"]],\n",
        "            )\n",
        "        )"
      ]
    },
    {
      "cell_type": "code",
      "execution_count": 6,
      "metadata": {
        "id": "seLdWiQqfK9R"
      },
      "outputs": [],
      "source": [
        "functions = [\n",
        "    {\n",
        "        \"name\": \"get_current_weather\",\n",
        "        \"description\": \"Get the current weather\",\n",
        "        \"parameters\": {\n",
        "            \"type\": \"object\",\n",
        "            \"properties\": {\n",
        "                \"location\": {\n",
        "                    \"type\": \"string\",\n",
        "                    \"description\": \"The city and state, e.g. San Francisco, CA\",\n",
        "                },\n",
        "                \"format\": {\n",
        "                    \"type\": \"string\",\n",
        "                    \"enum\": [\"celsius\", \"fahrenheit\"],\n",
        "                    \"description\": \"The temperature unit to use. Infer this from the users location.\",\n",
        "                },\n",
        "            },\n",
        "            \"required\": [\"location\", \"format\"],\n",
        "        },\n",
        "    },\n",
        "    {\n",
        "        \"name\": \"get_n_day_weather_forecast\",\n",
        "        \"description\": \"Get an N-day weather forecast\",\n",
        "        \"parameters\": {\n",
        "            \"type\": \"object\",\n",
        "            \"properties\": {\n",
        "                \"location\": {\n",
        "                    \"type\": \"string\",\n",
        "                    \"description\": \"The city and state, e.g. San Francisco, CA\",\n",
        "                },\n",
        "                \"format\": {\n",
        "                    \"type\": \"string\",\n",
        "                    \"enum\": [\"celsius\", \"fahrenheit\"],\n",
        "                    \"description\": \"The temperature unit to use. Infer this from the users location.\",\n",
        "                },\n",
        "                \"num_days\": {\n",
        "                    \"type\": \"integer\",\n",
        "                    \"description\": \"The number of days to forecast\",\n",
        "                }\n",
        "            },\n",
        "            \"required\": [\"location\", \"format\", \"num_days\"]\n",
        "        },\n",
        "    },\n",
        "]"
      ]
    },
    {
      "cell_type": "code",
      "execution_count": 7,
      "metadata": {
        "colab": {
          "base_uri": "https://localhost:8080/"
        },
        "id": "VHM9DbEnfSes",
        "outputId": "0c117aeb-29ce-4627-dae8-f2fe8fc8abf7"
      },
      "outputs": [
        {
          "data": {
            "text/plain": [
              "{'role': 'assistant',\n",
              " 'content': None,\n",
              " 'function_call': {'name': 'get_current_weather',\n",
              "  'arguments': '{\\n  \"location\": \"current\",\\n  \"format\": \"celsius\"\\n}'}}"
            ]
          },
          "execution_count": 7,
          "metadata": {},
          "output_type": "execute_result"
        }
      ],
      "source": [
        "messages = []\n",
        "messages.append({\"role\": \"system\", \"content\": \"Don't make assumptions about what values to plug into functions. Ask for clarification if a user request is ambiguous.\"})\n",
        "messages.append({\"role\": \"user\", \"content\": \"What's the weather like today\"})\n",
        "chat_response = chat_completion_request(\n",
        "    messages, functions=functions\n",
        ")\n",
        "assistant_message = chat_response.json()[\"choices\"][0][\"message\"]\n",
        "messages.append(assistant_message)\n",
        "assistant_message"
      ]
    },
    {
      "cell_type": "code",
      "execution_count": 8,
      "metadata": {
        "colab": {
          "base_uri": "https://localhost:8080/"
        },
        "id": "9wBmNpNlfXWH",
        "outputId": "64394094-b69c-4205-8a07-f88aed6f81a1"
      },
      "outputs": [
        {
          "data": {
            "text/plain": [
              "{'role': 'assistant',\n",
              " 'content': None,\n",
              " 'function_call': {'name': 'get_current_weather',\n",
              "  'arguments': '{\\n  \"location\": \"Glasgow, Scotland\",\\n  \"format\": \"celsius\"\\n}'}}"
            ]
          },
          "execution_count": 8,
          "metadata": {},
          "output_type": "execute_result"
        }
      ],
      "source": [
        "messages.append({\"role\": \"user\", \"content\": \"I'm in Glasgow, Scotland.\"})\n",
        "chat_response = chat_completion_request(\n",
        "    messages, functions=functions\n",
        ")\n",
        "assistant_message = chat_response.json()[\"choices\"][0][\"message\"]\n",
        "messages.append(assistant_message)\n",
        "assistant_message"
      ]
    },
    {
      "cell_type": "code",
      "execution_count": 9,
      "metadata": {
        "colab": {
          "base_uri": "https://localhost:8080/"
        },
        "id": "Frt7CmAxfmBu",
        "outputId": "3f7d6065-e249-491f-9967-d794da0e7f80"
      },
      "outputs": [
        {
          "data": {
            "text/plain": [
              "{'role': 'assistant',\n",
              " 'content': 'Sure, I can help you with that. Just let me know the number of days you want the weather forecast for.'}"
            ]
          },
          "execution_count": 9,
          "metadata": {},
          "output_type": "execute_result"
        }
      ],
      "source": [
        "messages = []\n",
        "messages.append({\"role\": \"system\", \"content\": \"Don't make assumptions about what values to plug into functions. Ask for clarification if a user request is ambiguous.\"})\n",
        "messages.append({\"role\": \"user\", \"content\": \"what is the weather going to be like in Glasgow, Scotland over the next x days\"})\n",
        "chat_response = chat_completion_request(\n",
        "    messages, functions=functions\n",
        ")\n",
        "assistant_message = chat_response.json()[\"choices\"][0][\"message\"]\n",
        "messages.append(assistant_message)\n",
        "assistant_message"
      ]
    },
    {
      "cell_type": "code",
      "execution_count": 10,
      "metadata": {
        "colab": {
          "base_uri": "https://localhost:8080/"
        },
        "id": "bsAWr39Mfu9X",
        "outputId": "49570bf7-d80b-4f46-f1b3-c52ce411500d"
      },
      "outputs": [
        {
          "data": {
            "text/plain": [
              "{'index': 0,\n",
              " 'message': {'role': 'assistant',\n",
              "  'content': None,\n",
              "  'function_call': {'name': 'get_n_day_weather_forecast',\n",
              "   'arguments': '{\\n  \"location\": \"Glasgow, Scotland\",\\n  \"format\": \"celsius\",\\n  \"num_days\": 5\\n}'}},\n",
              " 'finish_reason': 'function_call'}"
            ]
          },
          "execution_count": 10,
          "metadata": {},
          "output_type": "execute_result"
        }
      ],
      "source": [
        "messages.append({\"role\": \"user\", \"content\": \"5 days\"})\n",
        "chat_response = chat_completion_request(\n",
        "    messages, functions=functions\n",
        ")\n",
        "chat_response.json()[\"choices\"][0]"
      ]
    },
    {
      "cell_type": "code",
      "execution_count": 11,
      "metadata": {
        "colab": {
          "base_uri": "https://localhost:8080/"
        },
        "id": "7iloIVhqf1X7",
        "outputId": "5dc2902a-e28a-4a35-c2ac-d9b7c30b02e3"
      },
      "outputs": [
        {
          "data": {
            "text/plain": [
              "{'role': 'assistant',\n",
              " 'content': None,\n",
              " 'function_call': {'name': 'get_n_day_weather_forecast',\n",
              "  'arguments': '{\\n  \"location\": \"Toronto, Canada\",\\n  \"format\": \"celsius\",\\n  \"num_days\": 1\\n}'}}"
            ]
          },
          "execution_count": 11,
          "metadata": {},
          "output_type": "execute_result"
        }
      ],
      "source": [
        "# in this cell we force the model to use get_n_day_weather_forecast\n",
        "messages = []\n",
        "messages.append({\"role\": \"system\", \"content\": \"Don't make assumptions about what values to plug into functions. Ask for clarification if a user request is ambiguous.\"})\n",
        "messages.append({\"role\": \"user\", \"content\": \"Give me a weather report for Toronto, Canada.\"})\n",
        "chat_response = chat_completion_request(\n",
        "    messages, functions=functions, function_call={\"name\": \"get_n_day_weather_forecast\"}\n",
        ")\n",
        "chat_response.json()[\"choices\"][0][\"message\"]"
      ]
    },
    {
      "cell_type": "code",
      "execution_count": 12,
      "metadata": {
        "colab": {
          "base_uri": "https://localhost:8080/"
        },
        "id": "qKpYp_o-bQnO",
        "outputId": "bacd7c12-a993-4b87-cbb7-9ae06022568e"
      },
      "outputs": [
        {
          "data": {
            "text/plain": [
              "{'role': 'assistant',\n",
              " 'content': None,\n",
              " 'function_call': {'name': 'get_current_weather',\n",
              "  'arguments': '{\\n  \"location\": \"Toronto, Canada\",\\n  \"format\": \"celsius\"\\n}'}}"
            ]
          },
          "execution_count": 12,
          "metadata": {},
          "output_type": "execute_result"
        }
      ],
      "source": [
        "# if we don't force the model to use get_n_day_weather_forecast it may not\n",
        "messages = []\n",
        "messages.append({\"role\": \"system\", \"content\": \"Don't make assumptions about what values to plug into functions. Ask for clarification if a user request is ambiguous.\"})\n",
        "messages.append({\"role\": \"user\", \"content\": \"Give me a weather report for Toronto, Canada.\"})\n",
        "chat_response = chat_completion_request(\n",
        "    messages, functions=functions\n",
        ")\n",
        "chat_response.json()[\"choices\"][0][\"message\"]"
      ]
    },
    {
      "cell_type": "code",
      "execution_count": 13,
      "metadata": {
        "colab": {
          "base_uri": "https://localhost:8080/"
        },
        "id": "5CMER8huf9WL",
        "outputId": "e3055607-a8ba-4e77-d2d8-dc88ef94cff0"
      },
      "outputs": [
        {
          "data": {
            "text/plain": [
              "{'role': 'assistant',\n",
              " 'content': '{ \"location\": \"Toronto, Canada\", \"format\": \"celsius\" }'}"
            ]
          },
          "execution_count": 13,
          "metadata": {},
          "output_type": "execute_result"
        }
      ],
      "source": [
        "messages = []\n",
        "messages.append({\"role\": \"system\", \"content\": \"Don't make assumptions about what values to plug into functions. Ask for clarification if a user request is ambiguous.\"})\n",
        "messages.append({\"role\": \"user\", \"content\": \"Give me the current weather (use Celcius) for Toronto, Canada.\"})\n",
        "chat_response = chat_completion_request(\n",
        "    messages, functions=functions, function_call=\"none\"\n",
        ")\n",
        "chat_response.json()[\"choices\"][0][\"message\"]"
      ]
    },
    {
      "cell_type": "code",
      "execution_count": 14,
      "metadata": {
        "id": "gwlzTAsfgCDB"
      },
      "outputs": [],
      "source": [
        "!mkdir data\n"
      ]
    },
    {
      "cell_type": "code",
      "execution_count": 18,
      "metadata": {
        "colab": {
          "base_uri": "https://localhost:8080/"
        },
        "id": "DBodwf0FAgEz",
        "outputId": "ca5cea87-bec9-4e99-ea37-7380d250566b"
      },
      "outputs": [
        {
          "name": "stdout",
          "output_type": "stream",
          "text": [
            "Requirement already satisfied: pandas in /usr/local/lib/python3.10/dist-packages (1.5.3)\n",
            "Requirement already satisfied: python-dateutil>=2.8.1 in /usr/local/lib/python3.10/dist-packages (from pandas) (2.8.2)\n",
            "Requirement already satisfied: pytz>=2020.1 in /usr/local/lib/python3.10/dist-packages (from pandas) (2023.3.post1)\n",
            "Requirement already satisfied: numpy>=1.21.0 in /usr/local/lib/python3.10/dist-packages (from pandas) (1.23.5)\n",
            "Requirement already satisfied: six>=1.5 in /usr/local/lib/python3.10/dist-packages (from python-dateutil>=2.8.1->pandas) (1.16.0)\n",
            "Opened database successfully\n"
          ]
        }
      ],
      "source": [
        "!pip install pandas\n",
        "import pandas as pd\n",
        "import sqlite3\n",
        "\n",
        "\n",
        "conn = sqlite3.connect(\"data/chinook.db\")\n",
        "print(\"Opened database successfully\")\n"
      ]
    },
    {
      "cell_type": "code",
      "execution_count": 19,
      "metadata": {
        "colab": {
          "base_uri": "https://localhost:8080/",
          "height": 457
        },
        "id": "5oKIQvWnBMM8",
        "outputId": "a602e450-457c-436c-afe0-66eb9fc83516"
      },
      "outputs": [
        {
          "data": {
            "text/html": [
              "\n",
              "  <div id=\"df-89b8ef57-84bb-4e59-b3aa-26d808fb8d6f\" class=\"colab-df-container\">\n",
              "    <div>\n",
              "<style scoped>\n",
              "    .dataframe tbody tr th:only-of-type {\n",
              "        vertical-align: middle;\n",
              "    }\n",
              "\n",
              "    .dataframe tbody tr th {\n",
              "        vertical-align: top;\n",
              "    }\n",
              "\n",
              "    .dataframe thead th {\n",
              "        text-align: right;\n",
              "    }\n",
              "</style>\n",
              "<table border=\"1\" class=\"dataframe\">\n",
              "  <thead>\n",
              "    <tr style=\"text-align: right;\">\n",
              "      <th></th>\n",
              "      <th>type</th>\n",
              "      <th>name</th>\n",
              "      <th>tbl_name</th>\n",
              "      <th>rootpage</th>\n",
              "      <th>sql</th>\n",
              "    </tr>\n",
              "  </thead>\n",
              "  <tbody>\n",
              "    <tr>\n",
              "      <th>0</th>\n",
              "      <td>table</td>\n",
              "      <td>albums</td>\n",
              "      <td>albums</td>\n",
              "      <td>2</td>\n",
              "      <td>CREATE TABLE \"albums\"\\r\\n(\\r\\n    [AlbumId] IN...</td>\n",
              "    </tr>\n",
              "    <tr>\n",
              "      <th>1</th>\n",
              "      <td>table</td>\n",
              "      <td>sqlite_sequence</td>\n",
              "      <td>sqlite_sequence</td>\n",
              "      <td>3</td>\n",
              "      <td>CREATE TABLE sqlite_sequence(name,seq)</td>\n",
              "    </tr>\n",
              "    <tr>\n",
              "      <th>2</th>\n",
              "      <td>table</td>\n",
              "      <td>artists</td>\n",
              "      <td>artists</td>\n",
              "      <td>4</td>\n",
              "      <td>CREATE TABLE \"artists\"\\r\\n(\\r\\n    [ArtistId] ...</td>\n",
              "    </tr>\n",
              "    <tr>\n",
              "      <th>3</th>\n",
              "      <td>table</td>\n",
              "      <td>customers</td>\n",
              "      <td>customers</td>\n",
              "      <td>5</td>\n",
              "      <td>CREATE TABLE \"customers\"\\r\\n(\\r\\n    [Customer...</td>\n",
              "    </tr>\n",
              "    <tr>\n",
              "      <th>4</th>\n",
              "      <td>table</td>\n",
              "      <td>employees</td>\n",
              "      <td>employees</td>\n",
              "      <td>8</td>\n",
              "      <td>CREATE TABLE \"employees\"\\r\\n(\\r\\n    [Employee...</td>\n",
              "    </tr>\n",
              "    <tr>\n",
              "      <th>5</th>\n",
              "      <td>table</td>\n",
              "      <td>genres</td>\n",
              "      <td>genres</td>\n",
              "      <td>10</td>\n",
              "      <td>CREATE TABLE \"genres\"\\r\\n(\\r\\n    [GenreId] IN...</td>\n",
              "    </tr>\n",
              "    <tr>\n",
              "      <th>6</th>\n",
              "      <td>table</td>\n",
              "      <td>invoices</td>\n",
              "      <td>invoices</td>\n",
              "      <td>11</td>\n",
              "      <td>CREATE TABLE \"invoices\"\\r\\n(\\r\\n    [InvoiceId...</td>\n",
              "    </tr>\n",
              "    <tr>\n",
              "      <th>7</th>\n",
              "      <td>table</td>\n",
              "      <td>invoice_items</td>\n",
              "      <td>invoice_items</td>\n",
              "      <td>13</td>\n",
              "      <td>CREATE TABLE \"invoice_items\"\\r\\n(\\r\\n    [Invo...</td>\n",
              "    </tr>\n",
              "    <tr>\n",
              "      <th>8</th>\n",
              "      <td>table</td>\n",
              "      <td>media_types</td>\n",
              "      <td>media_types</td>\n",
              "      <td>15</td>\n",
              "      <td>CREATE TABLE \"media_types\"\\r\\n(\\r\\n    [MediaT...</td>\n",
              "    </tr>\n",
              "    <tr>\n",
              "      <th>9</th>\n",
              "      <td>table</td>\n",
              "      <td>playlists</td>\n",
              "      <td>playlists</td>\n",
              "      <td>16</td>\n",
              "      <td>CREATE TABLE \"playlists\"\\r\\n(\\r\\n    [Playlist...</td>\n",
              "    </tr>\n",
              "    <tr>\n",
              "      <th>10</th>\n",
              "      <td>table</td>\n",
              "      <td>playlist_track</td>\n",
              "      <td>playlist_track</td>\n",
              "      <td>17</td>\n",
              "      <td>CREATE TABLE \"playlist_track\"\\r\\n(\\r\\n    [Pla...</td>\n",
              "    </tr>\n",
              "    <tr>\n",
              "      <th>11</th>\n",
              "      <td>table</td>\n",
              "      <td>tracks</td>\n",
              "      <td>tracks</td>\n",
              "      <td>20</td>\n",
              "      <td>CREATE TABLE \"tracks\"\\r\\n(\\r\\n    [TrackId] IN...</td>\n",
              "    </tr>\n",
              "    <tr>\n",
              "      <th>12</th>\n",
              "      <td>table</td>\n",
              "      <td>sqlite_stat1</td>\n",
              "      <td>sqlite_stat1</td>\n",
              "      <td>864</td>\n",
              "      <td>CREATE TABLE sqlite_stat1(tbl,idx,stat)</td>\n",
              "    </tr>\n",
              "  </tbody>\n",
              "</table>\n",
              "</div>\n",
              "    <div class=\"colab-df-buttons\">\n",
              "\n",
              "  <div class=\"colab-df-container\">\n",
              "    <button class=\"colab-df-convert\" onclick=\"convertToInteractive('df-89b8ef57-84bb-4e59-b3aa-26d808fb8d6f')\"\n",
              "            title=\"Convert this dataframe to an interactive table.\"\n",
              "            style=\"display:none;\">\n",
              "\n",
              "  <svg xmlns=\"http://www.w3.org/2000/svg\" height=\"24px\" viewBox=\"0 -960 960 960\">\n",
              "    <path d=\"M120-120v-720h720v720H120Zm60-500h600v-160H180v160Zm220 220h160v-160H400v160Zm0 220h160v-160H400v160ZM180-400h160v-160H180v160Zm440 0h160v-160H620v160ZM180-180h160v-160H180v160Zm440 0h160v-160H620v160Z\"/>\n",
              "  </svg>\n",
              "    </button>\n",
              "\n",
              "  <style>\n",
              "    .colab-df-container {\n",
              "      display:flex;\n",
              "      gap: 12px;\n",
              "    }\n",
              "\n",
              "    .colab-df-convert {\n",
              "      background-color: #E8F0FE;\n",
              "      border: none;\n",
              "      border-radius: 50%;\n",
              "      cursor: pointer;\n",
              "      display: none;\n",
              "      fill: #1967D2;\n",
              "      height: 32px;\n",
              "      padding: 0 0 0 0;\n",
              "      width: 32px;\n",
              "    }\n",
              "\n",
              "    .colab-df-convert:hover {\n",
              "      background-color: #E2EBFA;\n",
              "      box-shadow: 0px 1px 2px rgba(60, 64, 67, 0.3), 0px 1px 3px 1px rgba(60, 64, 67, 0.15);\n",
              "      fill: #174EA6;\n",
              "    }\n",
              "\n",
              "    .colab-df-buttons div {\n",
              "      margin-bottom: 4px;\n",
              "    }\n",
              "\n",
              "    [theme=dark] .colab-df-convert {\n",
              "      background-color: #3B4455;\n",
              "      fill: #D2E3FC;\n",
              "    }\n",
              "\n",
              "    [theme=dark] .colab-df-convert:hover {\n",
              "      background-color: #434B5C;\n",
              "      box-shadow: 0px 1px 3px 1px rgba(0, 0, 0, 0.15);\n",
              "      filter: drop-shadow(0px 1px 2px rgba(0, 0, 0, 0.3));\n",
              "      fill: #FFFFFF;\n",
              "    }\n",
              "  </style>\n",
              "\n",
              "    <script>\n",
              "      const buttonEl =\n",
              "        document.querySelector('#df-89b8ef57-84bb-4e59-b3aa-26d808fb8d6f button.colab-df-convert');\n",
              "      buttonEl.style.display =\n",
              "        google.colab.kernel.accessAllowed ? 'block' : 'none';\n",
              "\n",
              "      async function convertToInteractive(key) {\n",
              "        const element = document.querySelector('#df-89b8ef57-84bb-4e59-b3aa-26d808fb8d6f');\n",
              "        const dataTable =\n",
              "          await google.colab.kernel.invokeFunction('convertToInteractive',\n",
              "                                                    [key], {});\n",
              "        if (!dataTable) return;\n",
              "\n",
              "        const docLinkHtml = 'Like what you see? Visit the ' +\n",
              "          '<a target=\"_blank\" href=https://colab.research.google.com/notebooks/data_table.ipynb>data table notebook</a>'\n",
              "          + ' to learn more about interactive tables.';\n",
              "        element.innerHTML = '';\n",
              "        dataTable['output_type'] = 'display_data';\n",
              "        await google.colab.output.renderOutput(dataTable, element);\n",
              "        const docLink = document.createElement('div');\n",
              "        docLink.innerHTML = docLinkHtml;\n",
              "        element.appendChild(docLink);\n",
              "      }\n",
              "    </script>\n",
              "  </div>\n",
              "\n",
              "\n",
              "<div id=\"df-93c4b5f4-f197-46cc-ab4c-01b3db6ab47b\">\n",
              "  <button class=\"colab-df-quickchart\" onclick=\"quickchart('df-93c4b5f4-f197-46cc-ab4c-01b3db6ab47b')\"\n",
              "            title=\"Suggest charts.\"\n",
              "            style=\"display:none;\">\n",
              "\n",
              "<svg xmlns=\"http://www.w3.org/2000/svg\" height=\"24px\"viewBox=\"0 0 24 24\"\n",
              "     width=\"24px\">\n",
              "    <g>\n",
              "        <path d=\"M19 3H5c-1.1 0-2 .9-2 2v14c0 1.1.9 2 2 2h14c1.1 0 2-.9 2-2V5c0-1.1-.9-2-2-2zM9 17H7v-7h2v7zm4 0h-2V7h2v10zm4 0h-2v-4h2v4z\"/>\n",
              "    </g>\n",
              "</svg>\n",
              "  </button>\n",
              "\n",
              "<style>\n",
              "  .colab-df-quickchart {\n",
              "      --bg-color: #E8F0FE;\n",
              "      --fill-color: #1967D2;\n",
              "      --hover-bg-color: #E2EBFA;\n",
              "      --hover-fill-color: #174EA6;\n",
              "      --disabled-fill-color: #AAA;\n",
              "      --disabled-bg-color: #DDD;\n",
              "  }\n",
              "\n",
              "  [theme=dark] .colab-df-quickchart {\n",
              "      --bg-color: #3B4455;\n",
              "      --fill-color: #D2E3FC;\n",
              "      --hover-bg-color: #434B5C;\n",
              "      --hover-fill-color: #FFFFFF;\n",
              "      --disabled-bg-color: #3B4455;\n",
              "      --disabled-fill-color: #666;\n",
              "  }\n",
              "\n",
              "  .colab-df-quickchart {\n",
              "    background-color: var(--bg-color);\n",
              "    border: none;\n",
              "    border-radius: 50%;\n",
              "    cursor: pointer;\n",
              "    display: none;\n",
              "    fill: var(--fill-color);\n",
              "    height: 32px;\n",
              "    padding: 0;\n",
              "    width: 32px;\n",
              "  }\n",
              "\n",
              "  .colab-df-quickchart:hover {\n",
              "    background-color: var(--hover-bg-color);\n",
              "    box-shadow: 0 1px 2px rgba(60, 64, 67, 0.3), 0 1px 3px 1px rgba(60, 64, 67, 0.15);\n",
              "    fill: var(--button-hover-fill-color);\n",
              "  }\n",
              "\n",
              "  .colab-df-quickchart-complete:disabled,\n",
              "  .colab-df-quickchart-complete:disabled:hover {\n",
              "    background-color: var(--disabled-bg-color);\n",
              "    fill: var(--disabled-fill-color);\n",
              "    box-shadow: none;\n",
              "  }\n",
              "\n",
              "  .colab-df-spinner {\n",
              "    border: 2px solid var(--fill-color);\n",
              "    border-color: transparent;\n",
              "    border-bottom-color: var(--fill-color);\n",
              "    animation:\n",
              "      spin 1s steps(1) infinite;\n",
              "  }\n",
              "\n",
              "  @keyframes spin {\n",
              "    0% {\n",
              "      border-color: transparent;\n",
              "      border-bottom-color: var(--fill-color);\n",
              "      border-left-color: var(--fill-color);\n",
              "    }\n",
              "    20% {\n",
              "      border-color: transparent;\n",
              "      border-left-color: var(--fill-color);\n",
              "      border-top-color: var(--fill-color);\n",
              "    }\n",
              "    30% {\n",
              "      border-color: transparent;\n",
              "      border-left-color: var(--fill-color);\n",
              "      border-top-color: var(--fill-color);\n",
              "      border-right-color: var(--fill-color);\n",
              "    }\n",
              "    40% {\n",
              "      border-color: transparent;\n",
              "      border-right-color: var(--fill-color);\n",
              "      border-top-color: var(--fill-color);\n",
              "    }\n",
              "    60% {\n",
              "      border-color: transparent;\n",
              "      border-right-color: var(--fill-color);\n",
              "    }\n",
              "    80% {\n",
              "      border-color: transparent;\n",
              "      border-right-color: var(--fill-color);\n",
              "      border-bottom-color: var(--fill-color);\n",
              "    }\n",
              "    90% {\n",
              "      border-color: transparent;\n",
              "      border-bottom-color: var(--fill-color);\n",
              "    }\n",
              "  }\n",
              "</style>\n",
              "\n",
              "  <script>\n",
              "    async function quickchart(key) {\n",
              "      const quickchartButtonEl =\n",
              "        document.querySelector('#' + key + ' button');\n",
              "      quickchartButtonEl.disabled = true;  // To prevent multiple clicks.\n",
              "      quickchartButtonEl.classList.add('colab-df-spinner');\n",
              "      try {\n",
              "        const charts = await google.colab.kernel.invokeFunction(\n",
              "            'suggestCharts', [key], {});\n",
              "      } catch (error) {\n",
              "        console.error('Error during call to suggestCharts:', error);\n",
              "      }\n",
              "      quickchartButtonEl.classList.remove('colab-df-spinner');\n",
              "      quickchartButtonEl.classList.add('colab-df-quickchart-complete');\n",
              "    }\n",
              "    (() => {\n",
              "      let quickchartButtonEl =\n",
              "        document.querySelector('#df-93c4b5f4-f197-46cc-ab4c-01b3db6ab47b button');\n",
              "      quickchartButtonEl.style.display =\n",
              "        google.colab.kernel.accessAllowed ? 'block' : 'none';\n",
              "    })();\n",
              "  </script>\n",
              "</div>\n",
              "    </div>\n",
              "  </div>\n"
            ],
            "text/plain": [
              "     type             name         tbl_name  rootpage  \\\n",
              "0   table           albums           albums         2   \n",
              "1   table  sqlite_sequence  sqlite_sequence         3   \n",
              "2   table          artists          artists         4   \n",
              "3   table        customers        customers         5   \n",
              "4   table        employees        employees         8   \n",
              "5   table           genres           genres        10   \n",
              "6   table         invoices         invoices        11   \n",
              "7   table    invoice_items    invoice_items        13   \n",
              "8   table      media_types      media_types        15   \n",
              "9   table        playlists        playlists        16   \n",
              "10  table   playlist_track   playlist_track        17   \n",
              "11  table           tracks           tracks        20   \n",
              "12  table     sqlite_stat1     sqlite_stat1       864   \n",
              "\n",
              "                                                  sql  \n",
              "0   CREATE TABLE \"albums\"\\r\\n(\\r\\n    [AlbumId] IN...  \n",
              "1              CREATE TABLE sqlite_sequence(name,seq)  \n",
              "2   CREATE TABLE \"artists\"\\r\\n(\\r\\n    [ArtistId] ...  \n",
              "3   CREATE TABLE \"customers\"\\r\\n(\\r\\n    [Customer...  \n",
              "4   CREATE TABLE \"employees\"\\r\\n(\\r\\n    [Employee...  \n",
              "5   CREATE TABLE \"genres\"\\r\\n(\\r\\n    [GenreId] IN...  \n",
              "6   CREATE TABLE \"invoices\"\\r\\n(\\r\\n    [InvoiceId...  \n",
              "7   CREATE TABLE \"invoice_items\"\\r\\n(\\r\\n    [Invo...  \n",
              "8   CREATE TABLE \"media_types\"\\r\\n(\\r\\n    [MediaT...  \n",
              "9   CREATE TABLE \"playlists\"\\r\\n(\\r\\n    [Playlist...  \n",
              "10  CREATE TABLE \"playlist_track\"\\r\\n(\\r\\n    [Pla...  \n",
              "11  CREATE TABLE \"tracks\"\\r\\n(\\r\\n    [TrackId] IN...  \n",
              "12            CREATE TABLE sqlite_stat1(tbl,idx,stat)  "
            ]
          },
          "execution_count": 19,
          "metadata": {},
          "output_type": "execute_result"
        }
      ],
      "source": [
        "c = conn.cursor()\n",
        "def sq(str,con=conn):\n",
        "    return pd.read_sql('''{}'''.format(str), con)\n",
        "\n",
        "tables = sq(\n",
        "    '''select *\n",
        "    from sqlite_master\n",
        "    where type='table';'''\n",
        "    ,conn)\n",
        "tables"
      ]
    },
    {
      "cell_type": "markdown",
      "metadata": {
        "id": "0MIqh4yH86iK"
      },
      "source": []
    },
    {
      "cell_type": "code",
      "execution_count": 20,
      "metadata": {
        "id": "XHW4wDVPgIpv"
      },
      "outputs": [],
      "source": [
        "def get_table_names(conn):\n",
        "    \"\"\"Return a list of table names.\"\"\"\n",
        "    table_names = []\n",
        "    tables = conn.execute(\"SELECT name FROM sqlite_master WHERE type='table';\")\n",
        "    for table in tables.fetchall():\n",
        "        table_names.append(table[0])\n",
        "    return table_names\n",
        "\n",
        "\n",
        "def get_column_names(conn, table_name):\n",
        "    \"\"\"Return a list of column names.\"\"\"\n",
        "    column_names = []\n",
        "    columns = conn.execute(f\"PRAGMA table_info('{table_name}');\").fetchall()\n",
        "    for col in columns:\n",
        "        column_names.append(col[1])\n",
        "    return column_names\n",
        "\n",
        "\n",
        "def get_database_info(conn):\n",
        "    \"\"\"Return a list of dicts containing the table name and columns for each table in the database.\"\"\"\n",
        "    table_dicts = []\n",
        "    for table_name in get_table_names(conn):\n",
        "        columns_names = get_column_names(conn, table_name)\n",
        "        table_dicts.append({\"table_name\": table_name, \"column_names\": columns_names})\n",
        "    return table_dicts\n",
        "\n"
      ]
    },
    {
      "cell_type": "code",
      "execution_count": 21,
      "metadata": {
        "id": "sXecNNvSgYuc"
      },
      "outputs": [],
      "source": [
        "database_schema_dict = get_database_info(conn)\n",
        "database_schema_string = \"\\n\".join(\n",
        "    [\n",
        "        f\"Table: {table['table_name']}\\nColumns: {', '.join(table['column_names'])}\"\n",
        "        for table in database_schema_dict\n",
        "    ]\n",
        ")"
      ]
    },
    {
      "cell_type": "code",
      "execution_count": 23,
      "metadata": {
        "id": "o6_BhNaHgdjX"
      },
      "outputs": [],
      "source": [
        "functions = [\n",
        "    {\n",
        "        \"name\": \"ask_database\",\n",
        "        \"description\": \"Use this function to answer user questions about music. Output should be a fully formed SQL query.\",\n",
        "        \"parameters\": {\n",
        "            \"type\": \"object\",\n",
        "            \"properties\": {\n",
        "                \"query\": {\n",
        "                    \"type\": \"string\",\n",
        "                    \"description\": f\"\"\"\n",
        "                            SQL query extracting info to answer the user's question.\n",
        "                            SQL should be written using this database schema:\n",
        "                            {database_schema_string}\n",
        "                            The query should be returned in plain text, not in JSON.\n",
        "                            \"\"\",\n",
        "                }\n",
        "            },\n",
        "            \"required\": [\"query\"],\n",
        "        },\n",
        "    }\n",
        "]"
      ]
    },
    {
      "cell_type": "code",
      "execution_count": 25,
      "metadata": {
        "id": "HX4iZNg6giCA"
      },
      "outputs": [],
      "source": [
        "def ask_database(conn, query):\n",
        "    \"\"\"Function to query SQLite database with a provided SQL query.\"\"\"\n",
        "    try:\n",
        "        results = str(conn.execute(query).fetchall())\n",
        "    except Exception as e:\n",
        "        results = f\"query failed with error: {e}\"\n",
        "    return results\n",
        "\n",
        "def execute_function_call(message):\n",
        "    if message[\"function_call\"][\"name\"] == \"ask_database\":\n",
        "        query = json.loads(message[\"function_call\"][\"arguments\"])[\"query\"]\n",
        "        results = ask_database(conn, query)\n",
        "    else:\n",
        "        results = f\"Error: function {message['function_call']['name']} does not exist\"\n",
        "    return results"
      ]
    },
    {
      "cell_type": "code",
      "execution_count": 26,
      "metadata": {
        "colab": {
          "base_uri": "https://localhost:8080/"
        },
        "id": "ufGukFCW1_o3",
        "outputId": "7cb18d39-66c4-4e2e-e173-120b34e96cd6"
      },
      "outputs": [
        {
          "name": "stdout",
          "output_type": "stream",
          "text": [
            "system: Answer user questions by generating SQL queries against the Chinook Music Database.\n",
            "\n",
            "user: Hi, who are the top 5 artists by number of tracks?\n",
            "\n",
            "assistant: {'name': 'ask_database', 'arguments': '{\\n  \"query\": \"SELECT artists.Name, COUNT(tracks.TrackId) AS TrackCount FROM artists JOIN albums ON artists.ArtistId = albums.ArtistId JOIN tracks ON albums.AlbumId = tracks.AlbumId GROUP BY artists.ArtistId ORDER BY TrackCount DESC LIMIT 5;\"\\n}'}\n",
            "\n",
            "function (ask_database): [('Iron Maiden', 213), ('U2', 135), ('Led Zeppelin', 114), ('Metallica', 112), ('Deep Purple', 92)]\n",
            "\n"
          ]
        }
      ],
      "source": [
        "messages = []\n",
        "messages.append({\"role\": \"system\", \"content\": \"Answer user questions by generating SQL queries against the Chinook Music Database.\"})\n",
        "messages.append({\"role\": \"user\", \"content\": \"Hi, who are the top 5 artists by number of tracks?\"})\n",
        "chat_response = chat_completion_request(messages, functions)\n",
        "assistant_message = chat_response.json()[\"choices\"][0][\"message\"]\n",
        "messages.append(assistant_message)\n",
        "if assistant_message.get(\"function_call\"):\n",
        "    results = execute_function_call(assistant_message)\n",
        "    messages.append({\"role\": \"function\", \"name\": assistant_message[\"function_call\"][\"name\"], \"content\": results})\n",
        "pretty_print_conversation(messages)"
      ]
    },
    {
      "cell_type": "code",
      "execution_count": 27,
      "metadata": {
        "colab": {
          "base_uri": "https://localhost:8080/"
        },
        "id": "lbAsu-8N23mV",
        "outputId": "d28b9a09-9d02-42b9-bdaf-88edfa5deaf0"
      },
      "outputs": [
        {
          "name": "stdout",
          "output_type": "stream",
          "text": [
            "system: Answer user questions by generating SQL queries against the Chinook Music Database.\n",
            "\n",
            "user: Hi, who are the top 5 artists by number of tracks?\n",
            "\n",
            "assistant: {'name': 'ask_database', 'arguments': '{\\n  \"query\": \"SELECT artists.Name, COUNT(tracks.TrackId) AS TrackCount FROM artists JOIN albums ON artists.ArtistId = albums.ArtistId JOIN tracks ON albums.AlbumId = tracks.AlbumId GROUP BY artists.ArtistId ORDER BY TrackCount DESC LIMIT 5;\"\\n}'}\n",
            "\n",
            "function (ask_database): [('Iron Maiden', 213), ('U2', 135), ('Led Zeppelin', 114), ('Metallica', 112), ('Deep Purple', 92)]\n",
            "\n",
            "user: What is the name of the album with the most tracks?\n",
            "\n",
            "assistant: {'name': 'ask_database', 'arguments': '{\\n  \"query\": \"SELECT albums.Title, COUNT(tracks.TrackId) AS TrackCount FROM albums JOIN tracks ON albums.AlbumId = tracks.AlbumId GROUP BY albums.AlbumId ORDER BY TrackCount DESC LIMIT 1;\"\\n}'}\n",
            "\n",
            "function (ask_database): [('Greatest Hits', 57)]\n",
            "\n"
          ]
        }
      ],
      "source": [
        "messages.append({\"role\": \"user\", \"content\": \"What is the name of the album with the most tracks?\"})\n",
        "chat_response = chat_completion_request(messages, functions)\n",
        "assistant_message = chat_response.json()[\"choices\"][0][\"message\"]\n",
        "messages.append(assistant_message)\n",
        "if assistant_message.get(\"function_call\"):\n",
        "    results = execute_function_call(assistant_message)\n",
        "    messages.append({\"role\": \"function\", \"content\": results, \"name\": assistant_message[\"function_call\"][\"name\"]})\n",
        "pretty_print_conversation(messages)"
      ]
    },
    {
      "cell_type": "code",
      "execution_count": 29,
      "metadata": {
        "colab": {
          "base_uri": "https://localhost:8080/"
        },
        "id": "Kr_dAYGj5PVa",
        "outputId": "3e09955e-61c8-4417-f0b9-55d1da4a446f"
      },
      "outputs": [
        {
          "name": "stdout",
          "output_type": "stream",
          "text": [
            "system: Answer user questions by generating SQL queries against the Chinook Music Database.\n",
            "\n",
            "user: Hi, who are the top 5 artists by number of tracks?\n",
            "\n",
            "assistant: {'name': 'ask_database', 'arguments': '{\\n  \"query\": \"SELECT artists.Name, COUNT(tracks.TrackId) AS TrackCount FROM artists JOIN albums ON artists.ArtistId = albums.ArtistId JOIN tracks ON albums.AlbumId = tracks.AlbumId GROUP BY artists.ArtistId ORDER BY TrackCount DESC LIMIT 5;\"\\n}'}\n",
            "\n",
            "function (ask_database): [('Iron Maiden', 213), ('U2', 135), ('Led Zeppelin', 114), ('Metallica', 112), ('Deep Purple', 92)]\n",
            "\n",
            "user: What is the name of the album with the most tracks?\n",
            "\n",
            "assistant: {'name': 'ask_database', 'arguments': '{\\n  \"query\": \"SELECT albums.Title, COUNT(tracks.TrackId) AS TrackCount FROM albums JOIN tracks ON albums.AlbumId = tracks.AlbumId GROUP BY albums.AlbumId ORDER BY TrackCount DESC LIMIT 1;\"\\n}'}\n",
            "\n",
            "function (ask_database): [('Greatest Hits', 57)]\n",
            "\n",
            "user: What is the name of the heighest paid invoice?\n",
            "\n",
            "assistant: {'name': 'ask_database', 'arguments': '{\\n  \"query\": \"SELECT invoices.InvoiceId, invoices.Total FROM invoices ORDER BY invoices.Total DESC LIMIT 1;\"\\n}'}\n",
            "\n",
            "function (ask_database): [(404, 25.86)]\n",
            "\n",
            "user: What is the amount of the heighest paid invoice?\n",
            "\n",
            "assistant: The amount of the highest paid invoice is $25.86.\n",
            "\n"
          ]
        }
      ],
      "source": [
        "messages.append({\"role\": \"user\", \"content\": \"What is the amount of the heighest paid invoice?\"})\n",
        "chat_response = chat_completion_request(messages, functions)\n",
        "assistant_message = chat_response.json()[\"choices\"][0][\"message\"]\n",
        "messages.append(assistant_message)\n",
        "if assistant_message.get(\"function_call\"):\n",
        "    results = execute_function_call(assistant_message)\n",
        "    messages.append({\"role\": \"function\", \"content\": results, \"name\": assistant_message[\"function_call\"][\"name\"]})\n",
        "pretty_print_conversation(messages)"
      ]
    },
    {
      "cell_type": "code",
      "execution_count": null,
      "metadata": {
        "id": "XSkzDyUuN3dY"
      },
      "outputs": [],
      "source": []
    }
  ],
  "metadata": {
    "colab": {
      "provenance": []
    },
    "kernelspec": {
      "display_name": "Python 3",
      "name": "python3"
    },
    "language_info": {
      "name": "python"
    }
  },
  "nbformat": 4,
  "nbformat_minor": 0
}
