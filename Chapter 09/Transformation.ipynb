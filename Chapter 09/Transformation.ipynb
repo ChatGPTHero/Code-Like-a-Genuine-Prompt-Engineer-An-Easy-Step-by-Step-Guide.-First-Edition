{
  "cells": [
    {
      "cell_type": "code",
      "execution_count": 2,
      "metadata": {
        "colab": {
          "base_uri": "https://localhost:8080/"
        },
        "id": "FPSl3GIC0Ocd",
        "outputId": "30d5be28-742f-46d3-ad46-4f20797b302f"
      },
      "outputs": [
        {
          "output_type": "stream",
          "name": "stdout",
          "text": [
            "Requirement already satisfied: openai in /usr/local/lib/python3.10/dist-packages (1.6.1)\n",
            "Requirement already satisfied: anyio<5,>=3.5.0 in /usr/local/lib/python3.10/dist-packages (from openai) (3.7.1)\n",
            "Requirement already satisfied: distro<2,>=1.7.0 in /usr/lib/python3/dist-packages (from openai) (1.7.0)\n",
            "Requirement already satisfied: httpx<1,>=0.23.0 in /usr/local/lib/python3.10/dist-packages (from openai) (0.26.0)\n",
            "Requirement already satisfied: pydantic<3,>=1.9.0 in /usr/local/lib/python3.10/dist-packages (from openai) (1.10.13)\n",
            "Requirement already satisfied: sniffio in /usr/local/lib/python3.10/dist-packages (from openai) (1.3.0)\n",
            "Requirement already satisfied: tqdm>4 in /usr/local/lib/python3.10/dist-packages (from openai) (4.66.1)\n",
            "Requirement already satisfied: typing-extensions<5,>=4.7 in /usr/local/lib/python3.10/dist-packages (from openai) (4.9.0)\n",
            "Requirement already satisfied: idna>=2.8 in /usr/local/lib/python3.10/dist-packages (from anyio<5,>=3.5.0->openai) (3.6)\n",
            "Requirement already satisfied: exceptiongroup in /usr/local/lib/python3.10/dist-packages (from anyio<5,>=3.5.0->openai) (1.2.0)\n",
            "Requirement already satisfied: certifi in /usr/local/lib/python3.10/dist-packages (from httpx<1,>=0.23.0->openai) (2023.11.17)\n",
            "Requirement already satisfied: httpcore==1.* in /usr/local/lib/python3.10/dist-packages (from httpx<1,>=0.23.0->openai) (1.0.2)\n",
            "Requirement already satisfied: h11<0.15,>=0.13 in /usr/local/lib/python3.10/dist-packages (from httpcore==1.*->httpx<1,>=0.23.0->openai) (0.14.0)\n"
          ]
        }
      ],
      "source": [
        "!pip install openai\n"
      ]
    },
    {
      "cell_type": "code",
      "execution_count": 4,
      "metadata": {
        "colab": {
          "base_uri": "https://localhost:8080/"
        },
        "id": "QFXvCrL70bLC",
        "outputId": "fcc5528b-a085-45b4-b5c0-e1536379423d"
      },
      "outputs": [
        {
          "output_type": "stream",
          "name": "stdout",
          "text": [
            "Dans une interview largement discutée avec The New York Times, Hinton a déclaré que l'intelligence générative pourrait propager des informations erronées et, éventuellement, menacer l'humanité.\n"
          ]
        }
      ],
      "source": [
        "from openai import OpenAI\n",
        "\n",
        "# Replace 'your-api-key' with your actual OpenAI API key\n",
        "\n",
        "client = OpenAI(\n",
        "    api_key = 'your api key', )\n",
        "\n",
        "def get_completion(prompt, model=\"gpt-3.5-turbo\"):\n",
        "    messages = [{\"role\": \"user\", \"content\": prompt}]\n",
        "    response = client.chat.completions.create(\n",
        "        model=model,\n",
        "        messages=messages,\n",
        "        temperature=0.5,\n",
        "    )\n",
        "    return response.choices[0].message.content\n",
        "\n",
        "# Translation task\n",
        "prompt = \"Translate the following English text to French: 'In a widely discussed interview with The New York Times, Hinton said generative intelligence\\\n",
        " could spread misinformation and, eventually, threaten humanity. '\"\n",
        "translation = get_completion(prompt)\n",
        "print(translation)\n"
      ]
    },
    {
      "cell_type": "code",
      "execution_count": 5,
      "metadata": {
        "colab": {
          "base_uri": "https://localhost:8080/"
        },
        "id": "yiWzpkmZ1DMn",
        "outputId": "d5a0a2f8-bab6-47e0-c8ac-80b32e9b454d"
      },
      "outputs": [
        {
          "output_type": "stream",
          "name": "stdout",
          "text": [
            "\"न्यूयॉर्क टाइम्स के साथ हुए एक व्यापक चर्चित साक्षात्कार में हिंटन ने कहा कि उत्पादक बुद्धिमता भ्रमण कर सकती है और अंततः मानवता को खतरा पहुंचा सकती है।\"\n"
          ]
        }
      ],
      "source": [
        " # Translation into Hindi\n",
        "prompt = \"Translate the following English text to Hindi: 'In a widely discussed interview with The New York Times, Hinton said generative intelligence\\\n",
        " could spread misinformation and, eventually, threaten humanity. '\"\n",
        "translation = get_completion(prompt)\n",
        "print(translation)\n"
      ]
    },
    {
      "cell_type": "code",
      "execution_count": 6,
      "metadata": {
        "colab": {
          "base_uri": "https://localhost:8080/"
        },
        "id": "n635fC3OwACE",
        "outputId": "ad5fa8d7-c72d-4a5e-ad60-4c304d42e621"
      },
      "outputs": [
        {
          "output_type": "stream",
          "name": "stdout",
          "text": [
            "{\n",
            "  \"movies\": [\n",
            "    {\n",
            "      \"year\": \"1994\",\n",
            "      \"name\": \"Pulp Fiction\",\n",
            "      \"actors\": [\"John Travolta\", \"Samuel L. Jackson\", \"Uma Thurman\"]\n",
            "    },\n",
            "    {\n",
            "      \"year\": \"1972\",\n",
            "      \"name\": \"The Godfather\",\n",
            "      \"actors\": [\"Marlon Brando\", \"Al Pacino\", \"James Caan\"]\n",
            "    },\n",
            "    {\n",
            "      \"year\": \"2008\",\n",
            "      \"name\": \"The Dark Knight\",\n",
            "      \"actors\": [\"Christian Bale\", \"Heath Ledger\", \"Aaron Eckhart\"]\n",
            "    },\n",
            "    {\n",
            "      \"year\": \"1999\",\n",
            "      \"name\": \"Fight Club\",\n",
            "      \"actors\": [\"Brad Pitt\", \"Edward Norton\", \"Helena Bonham Carter\"]\n",
            "    },\n",
            "    {\n",
            "      \"year\": \"1993\",\n",
            "      \"name\": \"Schindler's List\",\n",
            "      \"actors\": [\"Liam Neeson\", \"Ben Kingsley\", \"Ralph Fiennes\"]\n",
            "    },\n",
            "    {\n",
            "      \"year\": \"1977\",\n",
            "      \"name\": \"Star Wars\",\n",
            "      \"actors\": [\"Mark Hamill\", \"Harrison Ford\", \"Carrie Fisher\"]\n",
            "    },\n",
            "    {\n",
            "      \"year\": \"1990\",\n",
            "      \"name\": \"Goodfellas\",\n",
            "      \"actors\": [\"Robert De Niro\", \"Ray Liotta\", \"Joe Pesci\"]\n",
            "    },\n",
            "    {\n",
            "      \"year\": \"2001\",\n",
            "      \"name\": \"The Lord of the Rings: The Fellowship of the Ring\",\n",
            "      \"actors\": [\"Elijah Wood\", \"Ian McKellen\", \"Viggo Mortensen\"]\n",
            "    },\n",
            "    {\n",
            "      \"year\": \"1994\",\n",
            "      \"name\": \"Forrest Gump\",\n",
            "      \"actors\": [\"Tom Hanks\", \"Robin Wright\", \"Gary Sinise\"]\n",
            "    },\n",
            "    {\n",
            "      \"year\": \"1991\",\n",
            "      \"name\": \"The Silence of the Lambs\",\n",
            "      \"actors\": [\"Jodie Foster\", \"Anthony Hopkins\", \"Scott Glenn\"]\n",
            "    }\n",
            "  ]\n",
            "}\n"
          ]
        }
      ],
      "source": [
        " # Create a dictionary in json\n",
        "prompt = \"Create a dictionary in json with top ten Hollywood movies with year, name and main actors name\"\n",
        "movie_list = get_completion(prompt)\n",
        "print(movie_list)"
      ]
    },
    {
      "cell_type": "code",
      "execution_count": 7,
      "metadata": {
        "colab": {
          "base_uri": "https://localhost:8080/"
        },
        "id": "u7XnC3lfrtUX",
        "outputId": "858d9f36-c63d-4b14-ffdb-b11318c90e14"
      },
      "outputs": [
        {
          "output_type": "stream",
          "name": "stdout",
          "text": [
            "<!DOCTYPE html>\n",
            "<html>\n",
            "<head>\n",
            "  <title>Movies</title>\n",
            "</head>\n",
            "<body>\n",
            "  <h1>Movies</h1>\n",
            "  <table>\n",
            "    <tr>\n",
            "      <th>Year</th>\n",
            "      <th>Name</th>\n",
            "      <th>Actors</th>\n",
            "    </tr>\n",
            "    <tr>\n",
            "      <td>1994</td>\n",
            "      <td>Pulp Fiction</td>\n",
            "      <td>John Travolta, Samuel L. Jackson, Uma Thurman</td>\n",
            "    </tr>\n",
            "    <tr>\n",
            "      <td>1972</td>\n",
            "      <td>The Godfather</td>\n",
            "      <td>Marlon Brando, Al Pacino, James Caan</td>\n",
            "    </tr>\n",
            "    <tr>\n",
            "      <td>2008</td>\n",
            "      <td>The Dark Knight</td>\n",
            "      <td>Christian Bale, Heath Ledger, Aaron Eckhart</td>\n",
            "    </tr>\n",
            "    <tr>\n",
            "      <td>1993</td>\n",
            "      <td>Schindler's List</td>\n",
            "      <td>Liam Neeson, Ralph Fiennes, Ben Kingsley</td>\n",
            "    </tr>\n",
            "    <tr>\n",
            "      <td>1999</td>\n",
            "      <td>Fight Club</td>\n",
            "      <td>Brad Pitt, Edward Norton, Helena Bonham Carter</td>\n",
            "    </tr>\n",
            "    <tr>\n",
            "      <td>1977</td>\n",
            "      <td>Star Wars: Episode IV - A New Hope</td>\n",
            "      <td>Mark Hamill, Harrison Ford, Carrie Fisher</td>\n",
            "    </tr>\n",
            "    <tr>\n",
            "      <td>1991</td>\n",
            "      <td>The Silence of the Lambs</td>\n",
            "      <td>Jodie Foster, Anthony Hopkins, Scott Glenn</td>\n",
            "    </tr>\n",
            "    <tr>\n",
            "      <td>1994</td>\n",
            "      <td>Forrest Gump</td>\n",
            "      <td>Tom Hanks, Robin Wright, Gary Sinise</td>\n",
            "    </tr>\n",
            "    <tr>\n",
            "      <td>2003</td>\n",
            "      <td>The Lord of the Rings: The Return of the King</td>\n",
            "      <td>Elijah Wood, Viggo Mortensen, Ian McKellen</td>\n",
            "    </tr>\n",
            "    <tr>\n",
            "      <td>1980</td>\n",
            "      <td>The Empire Strikes Back</td>\n",
            "      <td>Mark Hamill, Harrison Ford, Carrie Fisher</td>\n",
            "    </tr>\n",
            "  </table>\n",
            "</body>\n",
            "</html>\n"
          ]
        }
      ],
      "source": [
        "# Transform to HTML\n",
        "prompt = \"\"\"Transform the following json dictionary to HTML  page {\n",
        "  \"movies\": [\n",
        "    {\n",
        "      \"year\": 1994,\n",
        "      \"name\": \"Pulp Fiction\",\n",
        "      \"actors\": [\"John Travolta\", \"Samuel L. Jackson\", \"Uma Thurman\"]\n",
        "    },\n",
        "    {\n",
        "      \"year\": 1972,\n",
        "      \"name\": \"The Godfather\",\n",
        "      \"actors\": [\"Marlon Brando\", \"Al Pacino\", \"James Caan\"]\n",
        "    },\n",
        "    {\n",
        "      \"year\": 2008,\n",
        "      \"name\": \"The Dark Knight\",\n",
        "      \"actors\": [\"Christian Bale\", \"Heath Ledger\", \"Aaron Eckhart\"]\n",
        "    },\n",
        "    {\n",
        "      \"year\": 1993,\n",
        "      \"name\": \"Schindler's List\",\n",
        "      \"actors\": [\"Liam Neeson\", \"Ralph Fiennes\", \"Ben Kingsley\"]\n",
        "    },\n",
        "    {\n",
        "      \"year\": 1999,\n",
        "      \"name\": \"Fight Club\",\n",
        "      \"actors\": [\"Brad Pitt\", \"Edward Norton\", \"Helena Bonham Carter\"]\n",
        "    },\n",
        "    {\n",
        "      \"year\": 1977,\n",
        "      \"name\": \"Star Wars: Episode IV - A New Hope\",\n",
        "      \"actors\": [\"Mark Hamill\", \"Harrison Ford\", \"Carrie Fisher\"]\n",
        "    },\n",
        "    {\n",
        "      \"year\": 1991,\n",
        "      \"name\": \"The Silence of the Lambs\",\n",
        "      \"actors\": [\"Jodie Foster\", \"Anthony Hopkins\", \"Scott Glenn\"]\n",
        "    },\n",
        "    {\n",
        "      \"year\": 1994,\n",
        "      \"name\": \"Forrest Gump\",\n",
        "      \"actors\": [\"Tom Hanks\", \"Robin Wright\", \"Gary Sinise\"]\n",
        "    },\n",
        "    {\n",
        "      \"year\": 2003,\n",
        "      \"name\": \"The Lord of the Rings: The Return of the King\",\n",
        "      \"actors\": [\"Elijah Wood\", \"Viggo Mortensen\", \"Ian McKellen\"]\n",
        "    },\n",
        "    {\n",
        "      \"year\": 1980,\n",
        "      \"name\": \"The Empire Strikes Back\",\n",
        "      \"actors\": [\"Mark Hamill\", \"Harrison Ford\", \"Carrie Fisher\"]\n",
        "    }\n",
        "  ]\n",
        "}\"\"\"\n",
        "translation = get_completion(prompt)\n",
        "print(translation)"
      ]
    },
    {
      "cell_type": "code",
      "execution_count": null,
      "metadata": {
        "id": "aO58cxChG64p"
      },
      "outputs": [],
      "source": []
    }
  ],
  "metadata": {
    "colab": {
      "provenance": []
    },
    "kernelspec": {
      "display_name": "Python 3",
      "name": "python3"
    },
    "language_info": {
      "name": "python"
    }
  },
  "nbformat": 4,
  "nbformat_minor": 0
}