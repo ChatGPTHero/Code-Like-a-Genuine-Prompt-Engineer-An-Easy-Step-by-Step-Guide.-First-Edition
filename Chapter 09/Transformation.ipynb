{
  "cells": [
    {
      "cell_type": "code",
      "execution_count": 1,
      "metadata": {
        "colab": {
          "base_uri": "https://localhost:8080/"
        },
        "id": "FPSl3GIC0Ocd",
        "outputId": "9655e892-4904-4c32-877a-366cd3a28438"
      },
      "outputs": [
        {
          "name": "stdout",
          "output_type": "stream",
          "text": [
            "Collecting openai\n",
            "  Downloading openai-1.3.9-py3-none-any.whl (221 kB)\n",
            "\u001b[2K     \u001b[90m━━━━━━━━━━━━━━━━━━━━━━━━━━━━━━━━━━━━━━━━\u001b[0m \u001b[32m221.4/221.4 kB\u001b[0m \u001b[31m2.9 MB/s\u001b[0m eta \u001b[36m0:00:00\u001b[0m\n",
            "\u001b[?25hRequirement already satisfied: anyio<5,>=3.5.0 in /usr/local/lib/python3.10/dist-packages (from openai) (3.7.1)\n",
            "Requirement already satisfied: distro<2,>=1.7.0 in /usr/lib/python3/dist-packages (from openai) (1.7.0)\n",
            "Collecting httpx<1,>=0.23.0 (from openai)\n",
            "  Downloading httpx-0.25.2-py3-none-any.whl (74 kB)\n",
            "\u001b[2K     \u001b[90m━━━━━━━━━━━━━━━━━━━━━━━━━━━━━━━━━━━━━━━━\u001b[0m \u001b[32m75.0/75.0 kB\u001b[0m \u001b[31m7.9 MB/s\u001b[0m eta \u001b[36m0:00:00\u001b[0m\n",
            "\u001b[?25hRequirement already satisfied: pydantic<3,>=1.9.0 in /usr/local/lib/python3.10/dist-packages (from openai) (1.10.13)\n",
            "Requirement already satisfied: sniffio in /usr/local/lib/python3.10/dist-packages (from openai) (1.3.0)\n",
            "Requirement already satisfied: tqdm>4 in /usr/local/lib/python3.10/dist-packages (from openai) (4.66.1)\n",
            "Requirement already satisfied: typing-extensions<5,>=4.5 in /usr/local/lib/python3.10/dist-packages (from openai) (4.5.0)\n",
            "Requirement already satisfied: idna>=2.8 in /usr/local/lib/python3.10/dist-packages (from anyio<5,>=3.5.0->openai) (3.6)\n",
            "Requirement already satisfied: exceptiongroup in /usr/local/lib/python3.10/dist-packages (from anyio<5,>=3.5.0->openai) (1.2.0)\n",
            "Requirement already satisfied: certifi in /usr/local/lib/python3.10/dist-packages (from httpx<1,>=0.23.0->openai) (2023.11.17)\n",
            "Collecting httpcore==1.* (from httpx<1,>=0.23.0->openai)\n",
            "  Downloading httpcore-1.0.2-py3-none-any.whl (76 kB)\n",
            "\u001b[2K     \u001b[90m━━━━━━━━━━━━━━━━━━━━━━━━━━━━━━━━━━━━━━━━\u001b[0m \u001b[32m76.9/76.9 kB\u001b[0m \u001b[31m4.6 MB/s\u001b[0m eta \u001b[36m0:00:00\u001b[0m\n",
            "\u001b[?25hCollecting h11<0.15,>=0.13 (from httpcore==1.*->httpx<1,>=0.23.0->openai)\n",
            "  Downloading h11-0.14.0-py3-none-any.whl (58 kB)\n",
            "\u001b[2K     \u001b[90m━━━━━━━━━━━━━━━━━━━━━━━━━━━━━━━━━━━━━━━━\u001b[0m \u001b[32m58.3/58.3 kB\u001b[0m \u001b[31m4.5 MB/s\u001b[0m eta \u001b[36m0:00:00\u001b[0m\n",
            "\u001b[?25hInstalling collected packages: h11, httpcore, httpx, openai\n",
            "\u001b[31mERROR: pip's dependency resolver does not currently take into account all the packages that are installed. This behaviour is the source of the following dependency conflicts.\n",
            "llmx 0.0.15a0 requires cohere, which is not installed.\n",
            "llmx 0.0.15a0 requires tiktoken, which is not installed.\u001b[0m\u001b[31m\n",
            "\u001b[0mSuccessfully installed h11-0.14.0 httpcore-1.0.2 httpx-0.25.2 openai-1.3.9\n"
          ]
        }
      ],
      "source": [
        "!pip install openai\n"
      ]
    },
    {
      "cell_type": "code",
      "execution_count": 3,
      "metadata": {
        "colab": {
          "base_uri": "https://localhost:8080/"
        },
        "id": "QFXvCrL70bLC",
        "outputId": "d98d96f6-2e44-4f18-e36c-d843e04987b7"
      },
      "outputs": [
        {
          "name": "stdout",
          "output_type": "stream",
          "text": [
            "Lors d'une interview largement discutée avec The New York Times, Hinton a déclaré que l'intelligence générative pouvait propager des informations erronées et, éventuellement, menacer l'humanité.\n"
          ]
        }
      ],
      "source": [
        "from openai import OpenAI\n",
        "\n",
        "# Replace 'your-api-key' with your actual OpenAI API key\n",
        "\n",
        "client = OpenAI(\n",
        "    api_key = 'your api key', )\n",
        "\n",
        "def get_completion(prompt, model=\"gpt-3.5-turbo\"):\n",
        "    messages = [{\"role\": \"user\", \"content\": prompt}]\n",
        "    response = client.chat.completions.create(\n",
        "        model=model,\n",
        "        messages=messages,\n",
        "        temperature=0.5,\n",
        "    )\n",
        "    return response.choices[0].message.content\n",
        "\n",
        "# Translation task\n",
        "prompt = \"Translate the following English text to French: 'In a widely discussed interview with The New York Times, Hinton said generative intelligence\\\n",
        " could spread misinformation and, eventually, threaten humanity. '\"\n",
        "translation = get_completion(prompt)\n",
        "print(translation)\n"
      ]
    },
    {
      "cell_type": "code",
      "execution_count": 4,
      "metadata": {
        "colab": {
          "base_uri": "https://localhost:8080/"
        },
        "id": "yiWzpkmZ1DMn",
        "outputId": "f4ca9902-7dfa-4614-91cf-a4e032f8a560"
      },
      "outputs": [
        {
          "name": "stdout",
          "output_type": "stream",
          "text": [
            "द न्यू यॉर्क टाइम्स के साथ एक व्यापक चर्चित साक्षात्कार में, हिंटन ने कहा कि उत्पादक बुद्धिमत्ता भ्रमवित्ता फैला सकती है और अंततः मानवता को धमका सकती है।\n"
          ]
        }
      ],
      "source": [
        " # Translation into Hindi\n",
        "prompt = \"Translate the following English text to Hindi: 'In a widely discussed interview with The New York Times, Hinton said generative intelligence\\\n",
        " could spread misinformation and, eventually, threaten humanity. '\"\n",
        "translation = get_completion(prompt)\n",
        "print(translation)\n"
      ]
    },
    {
      "cell_type": "code",
      "execution_count": 5,
      "metadata": {
        "colab": {
          "base_uri": "https://localhost:8080/"
        },
        "id": "n635fC3OwACE",
        "outputId": "bf43a13f-cfa8-4bd0-efa9-05c48468c452"
      },
      "outputs": [
        {
          "name": "stdout",
          "output_type": "stream",
          "text": [
            "{\n",
            "  \"movies\": [\n",
            "    {\n",
            "      \"year\": 1994,\n",
            "      \"name\": \"Pulp Fiction\",\n",
            "      \"actors\": [\"John Travolta\", \"Samuel L. Jackson\", \"Uma Thurman\"]\n",
            "    },\n",
            "    {\n",
            "      \"year\": 1972,\n",
            "      \"name\": \"The Godfather\",\n",
            "      \"actors\": [\"Marlon Brando\", \"Al Pacino\", \"James Caan\"]\n",
            "    },\n",
            "    {\n",
            "      \"year\": 2008,\n",
            "      \"name\": \"The Dark Knight\",\n",
            "      \"actors\": [\"Christian Bale\", \"Heath Ledger\", \"Aaron Eckhart\"]\n",
            "    },\n",
            "    {\n",
            "      \"year\": 1993,\n",
            "      \"name\": \"Schindler's List\",\n",
            "      \"actors\": [\"Liam Neeson\", \"Ben Kingsley\", \"Ralph Fiennes\"]\n",
            "    },\n",
            "    {\n",
            "      \"year\": 1999,\n",
            "      \"name\": \"Fight Club\",\n",
            "      \"actors\": [\"Brad Pitt\", \"Edward Norton\", \"Helena Bonham Carter\"]\n",
            "    },\n",
            "    {\n",
            "      \"year\": 1977,\n",
            "      \"name\": \"Star Wars: Episode IV - A New Hope\",\n",
            "      \"actors\": [\"Mark Hamill\", \"Harrison Ford\", \"Carrie Fisher\"]\n",
            "    },\n",
            "    {\n",
            "      \"year\": 1994,\n",
            "      \"name\": \"Forrest Gump\",\n",
            "      \"actors\": [\"Tom Hanks\", \"Robin Wright\", \"Gary Sinise\"]\n",
            "    },\n",
            "    {\n",
            "      \"year\": 1990,\n",
            "      \"name\": \"Goodfellas\",\n",
            "      \"actors\": [\"Robert De Niro\", \"Ray Liotta\", \"Joe Pesci\"]\n",
            "    },\n",
            "    {\n",
            "      \"year\": 1995,\n",
            "      \"name\": \"Seven\",\n",
            "      \"actors\": [\"Brad Pitt\", \"Morgan Freeman\", \"Kevin Spacey\"]\n",
            "    },\n",
            "    {\n",
            "      \"year\": 1991,\n",
            "      \"name\": \"The Silence of the Lambs\",\n",
            "      \"actors\": [\"Jodie Foster\", \"Anthony Hopkins\", \"Scott Glenn\"]\n",
            "    }\n",
            "  ]\n",
            "}\n"
          ]
        }
      ],
      "source": [
        " # Create a dictionary in json\n",
        "prompt = \"Create a dictionary in json with top ten Hollywood movies with year, name and main actors name\"\n",
        "movie_list = get_completion(prompt)\n",
        "print(movie_list)"
      ]
    },
    {
      "cell_type": "code",
      "execution_count": 6,
      "metadata": {
        "colab": {
          "base_uri": "https://localhost:8080/"
        },
        "id": "u7XnC3lfrtUX",
        "outputId": "790b1a8c-ab1d-4505-d72a-810c0fe42497"
      },
      "outputs": [
        {
          "name": "stdout",
          "output_type": "stream",
          "text": [
            "<!DOCTYPE html>\n",
            "<html>\n",
            "<head>\n",
            "  <title>Movies</title>\n",
            "</head>\n",
            "<body>\n",
            "  <h1>Movies</h1>\n",
            "  <ul>\n",
            "    <li>\n",
            "      <h2>Pulp Fiction (1994)</h2>\n",
            "      <p>Actors: John Travolta, Samuel L. Jackson, Uma Thurman</p>\n",
            "    </li>\n",
            "    <li>\n",
            "      <h2>The Godfather (1972)</h2>\n",
            "      <p>Actors: Marlon Brando, Al Pacino, James Caan</p>\n",
            "    </li>\n",
            "    <li>\n",
            "      <h2>The Dark Knight (2008)</h2>\n",
            "      <p>Actors: Christian Bale, Heath Ledger, Aaron Eckhart</p>\n",
            "    </li>\n",
            "    <li>\n",
            "      <h2>Schindler's List (1993)</h2>\n",
            "      <p>Actors: Liam Neeson, Ralph Fiennes, Ben Kingsley</p>\n",
            "    </li>\n",
            "    <li>\n",
            "      <h2>Fight Club (1999)</h2>\n",
            "      <p>Actors: Brad Pitt, Edward Norton, Helena Bonham Carter</p>\n",
            "    </li>\n",
            "    <li>\n",
            "      <h2>Star Wars: Episode IV - A New Hope (1977)</h2>\n",
            "      <p>Actors: Mark Hamill, Harrison Ford, Carrie Fisher</p>\n",
            "    </li>\n",
            "    <li>\n",
            "      <h2>The Silence of the Lambs (1991)</h2>\n",
            "      <p>Actors: Jodie Foster, Anthony Hopkins, Scott Glenn</p>\n",
            "    </li>\n",
            "    <li>\n",
            "      <h2>Forrest Gump (1994)</h2>\n",
            "      <p>Actors: Tom Hanks, Robin Wright, Gary Sinise</p>\n",
            "    </li>\n",
            "    <li>\n",
            "      <h2>The Lord of the Rings: The Return of the King (2003)</h2>\n",
            "      <p>Actors: Elijah Wood, Viggo Mortensen, Ian McKellen</p>\n",
            "    </li>\n",
            "    <li>\n",
            "      <h2>The Empire Strikes Back (1980)</h2>\n",
            "      <p>Actors: Mark Hamill, Harrison Ford, Carrie Fisher</p>\n",
            "    </li>\n",
            "  </ul>\n",
            "</body>\n",
            "</html>\n"
          ]
        }
      ],
      "source": [
        "# Transform to HTML\n",
        "prompt = \"\"\"Transform the following json dictionary to HTML  page {\n",
        "  \"movies\": [\n",
        "    {\n",
        "      \"year\": 1994,\n",
        "      \"name\": \"Pulp Fiction\",\n",
        "      \"actors\": [\"John Travolta\", \"Samuel L. Jackson\", \"Uma Thurman\"]\n",
        "    },\n",
        "    {\n",
        "      \"year\": 1972,\n",
        "      \"name\": \"The Godfather\",\n",
        "      \"actors\": [\"Marlon Brando\", \"Al Pacino\", \"James Caan\"]\n",
        "    },\n",
        "    {\n",
        "      \"year\": 2008,\n",
        "      \"name\": \"The Dark Knight\",\n",
        "      \"actors\": [\"Christian Bale\", \"Heath Ledger\", \"Aaron Eckhart\"]\n",
        "    },\n",
        "    {\n",
        "      \"year\": 1993,\n",
        "      \"name\": \"Schindler's List\",\n",
        "      \"actors\": [\"Liam Neeson\", \"Ralph Fiennes\", \"Ben Kingsley\"]\n",
        "    },\n",
        "    {\n",
        "      \"year\": 1999,\n",
        "      \"name\": \"Fight Club\",\n",
        "      \"actors\": [\"Brad Pitt\", \"Edward Norton\", \"Helena Bonham Carter\"]\n",
        "    },\n",
        "    {\n",
        "      \"year\": 1977,\n",
        "      \"name\": \"Star Wars: Episode IV - A New Hope\",\n",
        "      \"actors\": [\"Mark Hamill\", \"Harrison Ford\", \"Carrie Fisher\"]\n",
        "    },\n",
        "    {\n",
        "      \"year\": 1991,\n",
        "      \"name\": \"The Silence of the Lambs\",\n",
        "      \"actors\": [\"Jodie Foster\", \"Anthony Hopkins\", \"Scott Glenn\"]\n",
        "    },\n",
        "    {\n",
        "      \"year\": 1994,\n",
        "      \"name\": \"Forrest Gump\",\n",
        "      \"actors\": [\"Tom Hanks\", \"Robin Wright\", \"Gary Sinise\"]\n",
        "    },\n",
        "    {\n",
        "      \"year\": 2003,\n",
        "      \"name\": \"The Lord of the Rings: The Return of the King\",\n",
        "      \"actors\": [\"Elijah Wood\", \"Viggo Mortensen\", \"Ian McKellen\"]\n",
        "    },\n",
        "    {\n",
        "      \"year\": 1980,\n",
        "      \"name\": \"The Empire Strikes Back\",\n",
        "      \"actors\": [\"Mark Hamill\", \"Harrison Ford\", \"Carrie Fisher\"]\n",
        "    }\n",
        "  ]\n",
        "}\"\"\"\n",
        "translation = get_completion(prompt)\n",
        "print(translation)"
      ]
    },
    {
      "cell_type": "code",
      "execution_count": null,
      "metadata": {
        "id": "aO58cxChG64p"
      },
      "outputs": [],
      "source": []
    }
  ],
  "metadata": {
    "colab": {
      "provenance": []
    },
    "kernelspec": {
      "display_name": "Python 3",
      "name": "python3"
    },
    "language_info": {
      "name": "python"
    }
  },
  "nbformat": 4,
  "nbformat_minor": 0
}
