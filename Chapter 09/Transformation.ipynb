{
  "cells": [
    {
      "cell_type": "code",
      "execution_count": 1,
      "metadata": {
        "colab": {
          "base_uri": "https://localhost:8080/"
        },
        "id": "FPSl3GIC0Ocd",
        "outputId": "9378fd95-7746-4157-8e5a-b24bd04980cc"
      },
      "outputs": [
        {
          "name": "stdout",
          "output_type": "stream",
          "text": [
            "Collecting openai==0.28\n",
            "  Downloading openai-0.28.0-py3-none-any.whl (76 kB)\n",
            "\u001b[2K     \u001b[90m━━━━━━━━━━━━━━━━━━━━━━━━━━━━━━━━━━━━━━━━\u001b[0m \u001b[32m76.5/76.5 kB\u001b[0m \u001b[31m951.1 kB/s\u001b[0m eta \u001b[36m0:00:00\u001b[0m\n",
            "\u001b[?25hRequirement already satisfied: requests>=2.20 in /usr/local/lib/python3.10/dist-packages (from openai==0.28) (2.31.0)\n",
            "Requirement already satisfied: tqdm in /usr/local/lib/python3.10/dist-packages (from openai==0.28) (4.66.1)\n",
            "Requirement already satisfied: aiohttp in /usr/local/lib/python3.10/dist-packages (from openai==0.28) (3.9.1)\n",
            "Requirement already satisfied: charset-normalizer<4,>=2 in /usr/local/lib/python3.10/dist-packages (from requests>=2.20->openai==0.28) (3.3.2)\n",
            "Requirement already satisfied: idna<4,>=2.5 in /usr/local/lib/python3.10/dist-packages (from requests>=2.20->openai==0.28) (3.6)\n",
            "Requirement already satisfied: urllib3<3,>=1.21.1 in /usr/local/lib/python3.10/dist-packages (from requests>=2.20->openai==0.28) (2.0.7)\n",
            "Requirement already satisfied: certifi>=2017.4.17 in /usr/local/lib/python3.10/dist-packages (from requests>=2.20->openai==0.28) (2023.11.17)\n",
            "Requirement already satisfied: attrs>=17.3.0 in /usr/local/lib/python3.10/dist-packages (from aiohttp->openai==0.28) (23.1.0)\n",
            "Requirement already satisfied: multidict<7.0,>=4.5 in /usr/local/lib/python3.10/dist-packages (from aiohttp->openai==0.28) (6.0.4)\n",
            "Requirement already satisfied: yarl<2.0,>=1.0 in /usr/local/lib/python3.10/dist-packages (from aiohttp->openai==0.28) (1.9.3)\n",
            "Requirement already satisfied: frozenlist>=1.1.1 in /usr/local/lib/python3.10/dist-packages (from aiohttp->openai==0.28) (1.4.0)\n",
            "Requirement already satisfied: aiosignal>=1.1.2 in /usr/local/lib/python3.10/dist-packages (from aiohttp->openai==0.28) (1.3.1)\n",
            "Requirement already satisfied: async-timeout<5.0,>=4.0 in /usr/local/lib/python3.10/dist-packages (from aiohttp->openai==0.28) (4.0.3)\n",
            "Installing collected packages: openai\n",
            "\u001b[31mERROR: pip's dependency resolver does not currently take into account all the packages that are installed. This behaviour is the source of the following dependency conflicts.\n",
            "llmx 0.0.15a0 requires cohere, which is not installed.\n",
            "llmx 0.0.15a0 requires tiktoken, which is not installed.\u001b[0m\u001b[31m\n",
            "\u001b[0mSuccessfully installed openai-0.28.0\n"
          ]
        }
      ],
      "source": [
        "!pip install openai==0.28\n"
      ]
    },
    {
      "cell_type": "code",
      "execution_count": 3,
      "metadata": {
        "colab": {
          "base_uri": "https://localhost:8080/"
        },
        "id": "QFXvCrL70bLC",
        "outputId": "94814ced-f190-4351-82f3-92b9c42c3b62"
      },
      "outputs": [
        {
          "name": "stdout",
          "output_type": "stream",
          "text": [
            "Dans une interview largement discutée avec The New York Times, Hinton a déclaré que l'intelligence générative pourrait propager des informations erronées et, éventuellement, menacer l'humanité.\n"
          ]
        }
      ],
      "source": [
        "import openai\n",
        "\n",
        "# Replace 'your-api-key' with your actual OpenAI API key\n",
        "openai.api_key = 'your api key'\n",
        "\n",
        "def get_completion(prompt, model=\"gpt-3.5-turbo\"):\n",
        "    messages = [{\"role\": \"user\", \"content\": prompt}]\n",
        "    response = openai.ChatCompletion.create(\n",
        "        model=model,\n",
        "        messages=messages,\n",
        "        temperature=0.5,\n",
        "    )\n",
        "    return response.choices[0].message[\"content\"]\n",
        "\n",
        "# Translation task\n",
        "prompt = \"Translate the following English text to French: 'In a widely discussed interview with The New York Times, Hinton said generative intelligence\\\n",
        " could spread misinformation and, eventually, threaten humanity. '\"\n",
        "translation = get_completion(prompt)\n",
        "print(translation)\n"
      ]
    },
    {
      "cell_type": "code",
      "execution_count": null,
      "metadata": {
        "colab": {
          "base_uri": "https://localhost:8080/"
        },
        "id": "yiWzpkmZ1DMn",
        "outputId": "1d096323-bfdf-4ce2-e6b8-18b8faab8d5e"
      },
      "outputs": [
        {
          "name": "stdout",
          "output_type": "stream",
          "text": [
            "'न्यूयॉर्क टाइम्स के साथ एक व्यापक चर्चा के दौरान, हिंटन ने कहा कि प्रजनन बुद्धिमत्ता भ्रमण कर सकती है और अंततः मानवता को खतरा पहुंचा सकती है।'\n"
          ]
        }
      ],
      "source": [
        " # Translation into Hindi\n",
        "prompt = \"Translate the following English text to Hindi: 'In a widely discussed interview with The New York Times, Hinton said generative intelligence\\\n",
        " could spread misinformation and, eventually, threaten humanity. '\"\n",
        "translation = get_completion(prompt)\n",
        "print(translation)\n"
      ]
    },
    {
      "cell_type": "code",
      "execution_count": 4,
      "metadata": {
        "colab": {
          "base_uri": "https://localhost:8080/"
        },
        "id": "n635fC3OwACE",
        "outputId": "88d5ca8c-ae0d-4a5f-ac01-afa7aa0dc4ba"
      },
      "outputs": [
        {
          "name": "stdout",
          "output_type": "stream",
          "text": [
            "{\n",
            "  \"movies\": [\n",
            "    {\n",
            "      \"year\": 1994,\n",
            "      \"name\": \"Pulp Fiction\",\n",
            "      \"actors\": [\"John Travolta\", \"Samuel L. Jackson\", \"Uma Thurman\"]\n",
            "    },\n",
            "    {\n",
            "      \"year\": 1972,\n",
            "      \"name\": \"The Godfather\",\n",
            "      \"actors\": [\"Marlon Brando\", \"Al Pacino\", \"James Caan\"]\n",
            "    },\n",
            "    {\n",
            "      \"year\": 2008,\n",
            "      \"name\": \"The Dark Knight\",\n",
            "      \"actors\": [\"Christian Bale\", \"Heath Ledger\", \"Aaron Eckhart\"]\n",
            "    },\n",
            "    {\n",
            "      \"year\": 1993,\n",
            "      \"name\": \"Schindler's List\",\n",
            "      \"actors\": [\"Liam Neeson\", \"Ben Kingsley\", \"Ralph Fiennes\"]\n",
            "    },\n",
            "    {\n",
            "      \"year\": 1977,\n",
            "      \"name\": \"Star Wars: Episode IV - A New Hope\",\n",
            "      \"actors\": [\"Mark Hamill\", \"Harrison Ford\", \"Carrie Fisher\"]\n",
            "    },\n",
            "    {\n",
            "      \"year\": 1999,\n",
            "      \"name\": \"Fight Club\",\n",
            "      \"actors\": [\"Brad Pitt\", \"Edward Norton\", \"Helena Bonham Carter\"]\n",
            "    },\n",
            "    {\n",
            "      \"year\": 1990,\n",
            "      \"name\": \"Goodfellas\",\n",
            "      \"actors\": [\"Robert De Niro\", \"Ray Liotta\", \"Joe Pesci\"]\n",
            "    },\n",
            "    {\n",
            "      \"year\": 2010,\n",
            "      \"name\": \"Inception\",\n",
            "      \"actors\": [\"Leonardo DiCaprio\", \"Joseph Gordon-Levitt\", \"Ellen Page\"]\n",
            "    },\n",
            "    {\n",
            "      \"year\": 1999,\n",
            "      \"name\": \"The Matrix\",\n",
            "      \"actors\": [\"Keanu Reeves\", \"Laurence Fishburne\", \"Carrie-Anne Moss\"]\n",
            "    },\n",
            "    {\n",
            "      \"year\": 2001,\n",
            "      \"name\": \"The Lord of the Rings: The Fellowship of the Ring\",\n",
            "      \"actors\": [\"Elijah Wood\", \"Ian McKellen\", \"Viggo Mortensen\"]\n",
            "    }\n",
            "  ]\n",
            "}\n"
          ]
        }
      ],
      "source": [
        " # Create a dictionary in json\n",
        "prompt = \"Create a dictionary in json with top ten Hollywood movies with year, name and main actors name\"\n",
        "movie_list = get_completion(prompt)\n",
        "print(movie_list)"
      ]
    },
    {
      "cell_type": "code",
      "execution_count": 5,
      "metadata": {
        "colab": {
          "base_uri": "https://localhost:8080/"
        },
        "id": "u7XnC3lfrtUX",
        "outputId": "0832fc94-e863-41ff-e88b-16059411c5ee"
      },
      "outputs": [
        {
          "name": "stdout",
          "output_type": "stream",
          "text": [
            "<!DOCTYPE html>\n",
            "<html>\n",
            "<head>\n",
            "  <title>Movies</title>\n",
            "</head>\n",
            "<body>\n",
            "\n",
            "  <h1>Movies</h1>\n",
            "\n",
            "  <table>\n",
            "    <tr>\n",
            "      <th>Year</th>\n",
            "      <th>Name</th>\n",
            "      <th>Actors</th>\n",
            "    </tr>\n",
            "    <tr>\n",
            "      <td>1994</td>\n",
            "      <td>Pulp Fiction</td>\n",
            "      <td>John Travolta, Samuel L. Jackson, Uma Thurman</td>\n",
            "    </tr>\n",
            "    <tr>\n",
            "      <td>1972</td>\n",
            "      <td>The Godfather</td>\n",
            "      <td>Marlon Brando, Al Pacino, James Caan</td>\n",
            "    </tr>\n",
            "    <tr>\n",
            "      <td>2008</td>\n",
            "      <td>The Dark Knight</td>\n",
            "      <td>Christian Bale, Heath Ledger, Aaron Eckhart</td>\n",
            "    </tr>\n",
            "    <tr>\n",
            "      <td>1993</td>\n",
            "      <td>Schindler's List</td>\n",
            "      <td>Liam Neeson, Ralph Fiennes, Ben Kingsley</td>\n",
            "    </tr>\n",
            "    <tr>\n",
            "      <td>1999</td>\n",
            "      <td>Fight Club</td>\n",
            "      <td>Brad Pitt, Edward Norton, Helena Bonham Carter</td>\n",
            "    </tr>\n",
            "    <tr>\n",
            "      <td>1977</td>\n",
            "      <td>Star Wars: Episode IV - A New Hope</td>\n",
            "      <td>Mark Hamill, Harrison Ford, Carrie Fisher</td>\n",
            "    </tr>\n",
            "    <tr>\n",
            "      <td>1991</td>\n",
            "      <td>The Silence of the Lambs</td>\n",
            "      <td>Jodie Foster, Anthony Hopkins, Scott Glenn</td>\n",
            "    </tr>\n",
            "    <tr>\n",
            "      <td>1994</td>\n",
            "      <td>Forrest Gump</td>\n",
            "      <td>Tom Hanks, Robin Wright, Gary Sinise</td>\n",
            "    </tr>\n",
            "    <tr>\n",
            "      <td>2003</td>\n",
            "      <td>The Lord of the Rings: The Return of the King</td>\n",
            "      <td>Elijah Wood, Viggo Mortensen, Ian McKellen</td>\n",
            "    </tr>\n",
            "    <tr>\n",
            "      <td>1980</td>\n",
            "      <td>The Empire Strikes Back</td>\n",
            "      <td>Mark Hamill, Harrison Ford, Carrie Fisher</td>\n",
            "    </tr>\n",
            "  </table>\n",
            "\n",
            "</body>\n",
            "</html>\n"
          ]
        }
      ],
      "source": [
        "# Transform to HTML\n",
        "prompt = \"\"\"Transform the following json dictionary to HTML  page {\n",
        "  \"movies\": [\n",
        "    {\n",
        "      \"year\": 1994,\n",
        "      \"name\": \"Pulp Fiction\",\n",
        "      \"actors\": [\"John Travolta\", \"Samuel L. Jackson\", \"Uma Thurman\"]\n",
        "    },\n",
        "    {\n",
        "      \"year\": 1972,\n",
        "      \"name\": \"The Godfather\",\n",
        "      \"actors\": [\"Marlon Brando\", \"Al Pacino\", \"James Caan\"]\n",
        "    },\n",
        "    {\n",
        "      \"year\": 2008,\n",
        "      \"name\": \"The Dark Knight\",\n",
        "      \"actors\": [\"Christian Bale\", \"Heath Ledger\", \"Aaron Eckhart\"]\n",
        "    },\n",
        "    {\n",
        "      \"year\": 1993,\n",
        "      \"name\": \"Schindler's List\",\n",
        "      \"actors\": [\"Liam Neeson\", \"Ralph Fiennes\", \"Ben Kingsley\"]\n",
        "    },\n",
        "    {\n",
        "      \"year\": 1999,\n",
        "      \"name\": \"Fight Club\",\n",
        "      \"actors\": [\"Brad Pitt\", \"Edward Norton\", \"Helena Bonham Carter\"]\n",
        "    },\n",
        "    {\n",
        "      \"year\": 1977,\n",
        "      \"name\": \"Star Wars: Episode IV - A New Hope\",\n",
        "      \"actors\": [\"Mark Hamill\", \"Harrison Ford\", \"Carrie Fisher\"]\n",
        "    },\n",
        "    {\n",
        "      \"year\": 1991,\n",
        "      \"name\": \"The Silence of the Lambs\",\n",
        "      \"actors\": [\"Jodie Foster\", \"Anthony Hopkins\", \"Scott Glenn\"]\n",
        "    },\n",
        "    {\n",
        "      \"year\": 1994,\n",
        "      \"name\": \"Forrest Gump\",\n",
        "      \"actors\": [\"Tom Hanks\", \"Robin Wright\", \"Gary Sinise\"]\n",
        "    },\n",
        "    {\n",
        "      \"year\": 2003,\n",
        "      \"name\": \"The Lord of the Rings: The Return of the King\",\n",
        "      \"actors\": [\"Elijah Wood\", \"Viggo Mortensen\", \"Ian McKellen\"]\n",
        "    },\n",
        "    {\n",
        "      \"year\": 1980,\n",
        "      \"name\": \"The Empire Strikes Back\",\n",
        "      \"actors\": [\"Mark Hamill\", \"Harrison Ford\", \"Carrie Fisher\"]\n",
        "    }\n",
        "  ]\n",
        "}\"\"\"\n",
        "translation = get_completion(prompt)\n",
        "print(translation)"
      ]
    }
  ],
  "metadata": {
    "colab": {
      "provenance": []
    },
    "kernelspec": {
      "display_name": "Python 3",
      "name": "python3"
    },
    "language_info": {
      "name": "python"
    }
  },
  "nbformat": 4,
  "nbformat_minor": 0
}
