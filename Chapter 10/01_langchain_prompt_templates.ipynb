{
  "cells": [
    {
      "cell_type": "code",
      "execution_count": 2,
      "metadata": {
        "colab": {
          "base_uri": "https://localhost:8080/"
        },
        "id": "b_Fw7-xAk6Yv",
        "outputId": "f4c5fb4c-8199-4a96-ee13-ae6fe85c2a14"
      },
      "outputs": [
        {
          "output_type": "stream",
          "name": "stdout",
          "text": [
            "Requirement already satisfied: langchain in /usr/local/lib/python3.10/dist-packages (0.0.352)\n",
            "Requirement already satisfied: openai in /usr/local/lib/python3.10/dist-packages (1.6.1)\n",
            "Requirement already satisfied: PyYAML>=5.3 in /usr/local/lib/python3.10/dist-packages (from langchain) (6.0.1)\n",
            "Requirement already satisfied: SQLAlchemy<3,>=1.4 in /usr/local/lib/python3.10/dist-packages (from langchain) (2.0.23)\n",
            "Requirement already satisfied: aiohttp<4.0.0,>=3.8.3 in /usr/local/lib/python3.10/dist-packages (from langchain) (3.9.1)\n",
            "Requirement already satisfied: async-timeout<5.0.0,>=4.0.0 in /usr/local/lib/python3.10/dist-packages (from langchain) (4.0.3)\n",
            "Requirement already satisfied: dataclasses-json<0.7,>=0.5.7 in /usr/local/lib/python3.10/dist-packages (from langchain) (0.6.3)\n",
            "Requirement already satisfied: jsonpatch<2.0,>=1.33 in /usr/local/lib/python3.10/dist-packages (from langchain) (1.33)\n",
            "Requirement already satisfied: langchain-community<0.1,>=0.0.2 in /usr/local/lib/python3.10/dist-packages (from langchain) (0.0.6)\n",
            "Requirement already satisfied: langchain-core<0.2,>=0.1 in /usr/local/lib/python3.10/dist-packages (from langchain) (0.1.3)\n",
            "Requirement already satisfied: langsmith<0.1.0,>=0.0.70 in /usr/local/lib/python3.10/dist-packages (from langchain) (0.0.75)\n",
            "Requirement already satisfied: numpy<2,>=1 in /usr/local/lib/python3.10/dist-packages (from langchain) (1.23.5)\n",
            "Requirement already satisfied: pydantic<3,>=1 in /usr/local/lib/python3.10/dist-packages (from langchain) (1.10.13)\n",
            "Requirement already satisfied: requests<3,>=2 in /usr/local/lib/python3.10/dist-packages (from langchain) (2.31.0)\n",
            "Requirement already satisfied: tenacity<9.0.0,>=8.1.0 in /usr/local/lib/python3.10/dist-packages (from langchain) (8.2.3)\n",
            "Requirement already satisfied: anyio<5,>=3.5.0 in /usr/local/lib/python3.10/dist-packages (from openai) (3.7.1)\n",
            "Requirement already satisfied: distro<2,>=1.7.0 in /usr/lib/python3/dist-packages (from openai) (1.7.0)\n",
            "Requirement already satisfied: httpx<1,>=0.23.0 in /usr/local/lib/python3.10/dist-packages (from openai) (0.26.0)\n",
            "Requirement already satisfied: sniffio in /usr/local/lib/python3.10/dist-packages (from openai) (1.3.0)\n",
            "Requirement already satisfied: tqdm>4 in /usr/local/lib/python3.10/dist-packages (from openai) (4.66.1)\n",
            "Requirement already satisfied: typing-extensions<5,>=4.7 in /usr/local/lib/python3.10/dist-packages (from openai) (4.9.0)\n",
            "Requirement already satisfied: attrs>=17.3.0 in /usr/local/lib/python3.10/dist-packages (from aiohttp<4.0.0,>=3.8.3->langchain) (23.1.0)\n",
            "Requirement already satisfied: multidict<7.0,>=4.5 in /usr/local/lib/python3.10/dist-packages (from aiohttp<4.0.0,>=3.8.3->langchain) (6.0.4)\n",
            "Requirement already satisfied: yarl<2.0,>=1.0 in /usr/local/lib/python3.10/dist-packages (from aiohttp<4.0.0,>=3.8.3->langchain) (1.9.4)\n",
            "Requirement already satisfied: frozenlist>=1.1.1 in /usr/local/lib/python3.10/dist-packages (from aiohttp<4.0.0,>=3.8.3->langchain) (1.4.1)\n",
            "Requirement already satisfied: aiosignal>=1.1.2 in /usr/local/lib/python3.10/dist-packages (from aiohttp<4.0.0,>=3.8.3->langchain) (1.3.1)\n",
            "Requirement already satisfied: idna>=2.8 in /usr/local/lib/python3.10/dist-packages (from anyio<5,>=3.5.0->openai) (3.6)\n",
            "Requirement already satisfied: exceptiongroup in /usr/local/lib/python3.10/dist-packages (from anyio<5,>=3.5.0->openai) (1.2.0)\n",
            "Requirement already satisfied: marshmallow<4.0.0,>=3.18.0 in /usr/local/lib/python3.10/dist-packages (from dataclasses-json<0.7,>=0.5.7->langchain) (3.20.1)\n",
            "Requirement already satisfied: typing-inspect<1,>=0.4.0 in /usr/local/lib/python3.10/dist-packages (from dataclasses-json<0.7,>=0.5.7->langchain) (0.9.0)\n",
            "Requirement already satisfied: certifi in /usr/local/lib/python3.10/dist-packages (from httpx<1,>=0.23.0->openai) (2023.11.17)\n",
            "Requirement already satisfied: httpcore==1.* in /usr/local/lib/python3.10/dist-packages (from httpx<1,>=0.23.0->openai) (1.0.2)\n",
            "Requirement already satisfied: h11<0.15,>=0.13 in /usr/local/lib/python3.10/dist-packages (from httpcore==1.*->httpx<1,>=0.23.0->openai) (0.14.0)\n",
            "Requirement already satisfied: jsonpointer>=1.9 in /usr/local/lib/python3.10/dist-packages (from jsonpatch<2.0,>=1.33->langchain) (2.4)\n",
            "Requirement already satisfied: packaging<24.0,>=23.2 in /usr/local/lib/python3.10/dist-packages (from langchain-core<0.2,>=0.1->langchain) (23.2)\n",
            "Requirement already satisfied: charset-normalizer<4,>=2 in /usr/local/lib/python3.10/dist-packages (from requests<3,>=2->langchain) (3.3.2)\n",
            "Requirement already satisfied: urllib3<3,>=1.21.1 in /usr/local/lib/python3.10/dist-packages (from requests<3,>=2->langchain) (2.0.7)\n",
            "Requirement already satisfied: greenlet!=0.4.17 in /usr/local/lib/python3.10/dist-packages (from SQLAlchemy<3,>=1.4->langchain) (3.0.2)\n",
            "Requirement already satisfied: mypy-extensions>=0.3.0 in /usr/local/lib/python3.10/dist-packages (from typing-inspect<1,>=0.4.0->dataclasses-json<0.7,>=0.5.7->langchain) (1.0.0)\n",
            "Requirement already satisfied: typing-extensions in /usr/local/lib/python3.10/dist-packages (4.9.0)\n"
          ]
        }
      ],
      "source": [
        "!pip install -U langchain openai\n",
        "!pip install -U typing-extensions"
      ]
    },
    {
      "cell_type": "code",
      "execution_count": 3,
      "metadata": {
        "id": "T2mxWcGuk--n"
      },
      "outputs": [],
      "source": [
        "prompt = \"\"\"Answer the question based on the context below. If the\n",
        "question cannot be answered using the information provided answer\n",
        "with \"I don't know\".\n",
        "\n",
        "Context: Cloud computing refers to the delivery of computing resources, including servers, storage, databases,\n",
        "networking, software, and more, over the internet. Instead of owning and maintaining physical hardware and\n",
        "infrastructure, users can access and use these resources on a pay-as-you-go basis from cloud service providers.\n",
        "This approach offers scalability, flexibility, and cost-effectiveness, as users can scale up or down based\n",
        "on their needs without the need for upfront investment in hardware. Here are the top three cloud service\n",
        "providers and their respective cloud service names: 1. Microsoft: Cloud Service Name is Microsoft Azur,\n",
        "2.Amazon: Cloud Service Name is Amazon Web Services (AWS) and 3. Google: Cloud Service Name is Google Cloud Platform (GCP).\n",
        "These cloud service providers offer a wide range of services that cater to various needs, including computing,\n",
        "storage, databases, machine learning, analytics, and more. They have data centers around the world, allowing users\n",
        "to deploy applications and services globally with reduced latency and improved availability.\n",
        "\n",
        "Question: Which companies provide cloud computing services and what is their Cloud Service Name?\n",
        "\n",
        "Answer: \"\"\""
      ]
    },
    {
      "cell_type": "code",
      "execution_count": 4,
      "metadata": {
        "id": "ViiX51s3kcD_"
      },
      "outputs": [],
      "source": [
        "from langchain.llms import OpenAI\n",
        "\n",
        "# initialize the models\n",
        "openai = OpenAI(\n",
        "    model_name=\"gpt-3.5-turbo-instruct\",\n",
        "openai_api_key=\"your api key\" )"
      ]
    },
    {
      "cell_type": "code",
      "execution_count": 5,
      "metadata": {
        "colab": {
          "base_uri": "https://localhost:8080/"
        },
        "id": "MDjJMkBPkuVY",
        "outputId": "dcf2d77b-f1e4-44bf-d6f7-2fbac4bd08d9"
      },
      "outputs": [
        {
          "output_type": "stream",
          "name": "stdout",
          "text": [
            "1. Microsoft - Microsoft Azure\n",
            "2. Amazon - Amazon Web Services (AWS)\n",
            "3. Google - Google Cloud Platform (GCP)\n"
          ]
        }
      ],
      "source": [
        "print(openai(prompt))"
      ]
    },
    {
      "cell_type": "code",
      "execution_count": 6,
      "metadata": {
        "id": "kqTu2xVdlRqq"
      },
      "outputs": [],
      "source": [
        "from langchain import PromptTemplate\n",
        "\n",
        "template = \"\"\"Answer the question based on the context below. If the\n",
        "question cannot be answered using the information provided answer\n",
        "with \"I don't know\".\n",
        "\n",
        "Context: Cloud computing refers to the delivery of computing resources, including servers, storage, databases,\n",
        "networking, software, and more, over the internet. Instead of owning and maintaining physical hardware and\n",
        "infrastructure, users can access and use these resources on a pay-as-you-go basis from cloud service providers.\n",
        "This approach offers scalability, flexibility, and cost-effectiveness, as users can scale up or down based\n",
        "on their needs without the need for upfront investment in hardware. Here are the top three cloud service\n",
        "providers and their respective cloud service names: 1. Microsoft: Cloud Service Name is Microsoft Azur,\n",
        "2.Amazon: Cloud Service Name is Amazon Web Services (AWS) and 3. Google: Cloud Service Name is Google Cloud Platform (GCP).\n",
        "These cloud service providers offer a wide range of services that cater to various needs, including computing,\n",
        "storage, databases, machine learning, analytics, and more. They have data centers around the world, allowing users\n",
        "to deploy applications and services globally with reduced latency and improved availability.\n",
        "\n",
        "Question: {query}\n",
        "\n",
        "Answer: \"\"\"\n",
        "\n",
        "prompt_template = PromptTemplate(\n",
        "    input_variables=[\"query\"],\n",
        "    template=template\n",
        ")"
      ]
    },
    {
      "cell_type": "code",
      "execution_count": 7,
      "metadata": {
        "colab": {
          "base_uri": "https://localhost:8080/"
        },
        "id": "OLX-mfD4mUTn",
        "outputId": "350563fa-48ba-4563-d021-ee07acf73323"
      },
      "outputs": [
        {
          "output_type": "stream",
          "name": "stdout",
          "text": [
            "Answer the question based on the context below. If the\n",
            "question cannot be answered using the information provided answer\n",
            "with \"I don't know\".\n",
            "\n",
            "Context: Cloud computing refers to the delivery of computing resources, including servers, storage, databases,\n",
            "networking, software, and more, over the internet. Instead of owning and maintaining physical hardware and\n",
            "infrastructure, users can access and use these resources on a pay-as-you-go basis from cloud service providers.\n",
            "This approach offers scalability, flexibility, and cost-effectiveness, as users can scale up or down based\n",
            "on their needs without the need for upfront investment in hardware. Here are the top three cloud service\n",
            "providers and their respective cloud service names: 1. Microsoft: Cloud Service Name is Microsoft Azur,\n",
            "2.Amazon: Cloud Service Name is Amazon Web Services (AWS) and 3. Google: Cloud Service Name is Google Cloud Platform (GCP).\n",
            "These cloud service providers offer a wide range of services that cater to various needs, including computing,\n",
            "storage, databases, machine learning, analytics, and more. They have data centers around the world, allowing users\n",
            "to deploy applications and services globally with reduced latency and improved availability.\n",
            "\n",
            "Question: Which companies provide cloud computing services and what is their Cloud Service Name?\n",
            "\n",
            "Answer: \n"
          ]
        }
      ],
      "source": [
        "print(\n",
        "    prompt_template.format(\n",
        "        query=\"Which companies provide cloud computing services and what is their Cloud Service Name?\"\n",
        "    )\n",
        ")"
      ]
    },
    {
      "cell_type": "code",
      "execution_count": 8,
      "metadata": {
        "colab": {
          "base_uri": "https://localhost:8080/"
        },
        "id": "_WPT2MocmaTO",
        "outputId": "fef55c9b-3d71-4724-8a2c-0fc4b61b9555"
      },
      "outputs": [
        {
          "output_type": "stream",
          "name": "stdout",
          "text": [
            "1. Microsoft - Microsoft Azure\n",
            "2. Amazon - Amazon Web Services (AWS)\n",
            "3. Google - Google Cloud Platform (GCP)\n"
          ]
        }
      ],
      "source": [
        "print(openai(\n",
        "    prompt_template.format(\n",
        "        query=\"Which companies provide cloud computing services and what is their Cloud Service Name?\"\n",
        "    )\n",
        "))"
      ]
    },
    {
      "cell_type": "code",
      "execution_count": 9,
      "metadata": {
        "colab": {
          "base_uri": "https://localhost:8080/"
        },
        "id": "ABSoYuoVnMdy",
        "outputId": "7451b197-a329-460c-a0ba-742f66f03609"
      },
      "outputs": [
        {
          "output_type": "stream",
          "name": "stdout",
          "text": [
            "BHAG stands for \"Big Hairy Audacious Goal,\" which is a concept that encourages people to set ambitious and daring goals for themselves and their organizations. It's about thinking outside the box and challenging yourself to reach new heights.\n"
          ]
        }
      ],
      "source": [
        "prompt = \"\"\"The following is a conversation with an AI assistant.\n",
        "The assistant is typically positive thinker, producing creative\n",
        "and motivational responses to the users questions. Here are some examples:\n",
        "\n",
        "User: What is the meaning of BHAG?\n",
        "AI: \"\"\"\n",
        "\n",
        "openai.temperature = 1.0  # increase creativity/randomness of output\n",
        "\n",
        "print(openai(prompt))"
      ]
    },
    {
      "cell_type": "code",
      "execution_count": 10,
      "metadata": {
        "colab": {
          "base_uri": "https://localhost:8080/"
        },
        "id": "Lr_6sTXLnpgA",
        "outputId": "8caf4b25-9cbb-4505-b396-eb5f2787b57c"
      },
      "outputs": [
        {
          "output_type": "stream",
          "name": "stdout",
          "text": [
            "Start by envisioning what you want for yourself, then break it down into smaller achievable steps and stay determined and focused. Remember, the journey is just as important as the end goal.\n"
          ]
        }
      ],
      "source": [
        "prompt = \"\"\"The following is a conversation with an AI assistant.\n",
        "The assistant is typically positive thinker, producing creative\n",
        "and motivational responses to the users questions. Here are some examples\n",
        "examples:\n",
        "\n",
        "User: How are you?\n",
        "AI: Great, thanks for asking.\n",
        "\n",
        "User: What time is it?\n",
        "AI: It's time to unleash your true potential.\n",
        "\n",
        "User: How to set my life's goal?\n",
        "AI: \"\"\"\n",
        "\n",
        "print(openai(prompt))"
      ]
    },
    {
      "cell_type": "code",
      "execution_count": 11,
      "metadata": {
        "id": "m5mnDoLMn8ur"
      },
      "outputs": [],
      "source": [
        "from langchain import FewShotPromptTemplate\n",
        "\n",
        "# create our examples\n",
        "examples = [\n",
        "    {\n",
        "        \"query\": \"How are you?\",\n",
        "        \"answer\": \"Great, thanks for asking.\"\n",
        "    }, {\n",
        "        \"query\": \"What time is it?\",\n",
        "        \"answer\": \"It's time to unleash your true potential.\"\n",
        "    }\n",
        "]\n",
        "\n",
        "# create a example template\n",
        "example_template = \"\"\"\n",
        "User: {query}\n",
        "AI: {answer}\n",
        "\"\"\"\n",
        "\n",
        "# create a prompt example from above template\n",
        "example_prompt = PromptTemplate(\n",
        "    input_variables=[\"query\", \"answer\"],\n",
        "    template=example_template\n",
        ")\n",
        "\n",
        "# now break our previous prompt into a prefix and suffix\n",
        "# the prefix is our instructions\n",
        "prefix = \"\"\"The following is a conversation with an AI assistant.\n",
        "The assistant is typically positive thinker, producing creative\n",
        "and motivational responses to the users questions. Here are some examples\n",
        "examples:\n",
        "\"\"\"\n",
        "# and the suffix our user input and output indicator\n",
        "suffix = \"\"\"\n",
        "User: {query}\n",
        "AI: \"\"\"\n"
      ]
    },
    {
      "cell_type": "code",
      "execution_count": 12,
      "metadata": {
        "id": "0M-X4uYgoQaw"
      },
      "outputs": [],
      "source": [
        "# now create the few shot prompt template\n",
        "few_shot_prompt_template = FewShotPromptTemplate(\n",
        "    examples=examples,\n",
        "    example_prompt=example_prompt,\n",
        "    prefix=prefix,\n",
        "    suffix=suffix,\n",
        "    input_variables=[\"query\"],\n",
        "\n",
        ")"
      ]
    },
    {
      "cell_type": "code",
      "execution_count": 13,
      "metadata": {
        "colab": {
          "base_uri": "https://localhost:8080/"
        },
        "id": "3DDO4PbroUuC",
        "outputId": "57be1969-5e33-4f2e-b32b-db342c9e9bc5"
      },
      "outputs": [
        {
          "output_type": "stream",
          "name": "stdout",
          "text": [
            "The following is a conversation with an AI assistant.\n",
            "The assistant is typically positive thinker, producing creative\n",
            "and motivational responses to the users questions. Here are some examples\n",
            "examples:\n",
            "\n",
            "\n",
            "\n",
            "User: How are you?\n",
            "AI: Great, thanks for asking.\n",
            "\n",
            "\n",
            "\n",
            "User: What time is it?\n",
            "AI: It's time to unleash your true potential.\n",
            "\n",
            "\n",
            "\n",
            "User: How to set my life's goal?\n",
            "AI: \n"
          ]
        }
      ],
      "source": [
        "query = \"How to set my life's goal?\"\n",
        "\n",
        "print(few_shot_prompt_template.format(query=query))"
      ]
    },
    {
      "cell_type": "code",
      "execution_count": 14,
      "metadata": {
        "colab": {
          "base_uri": "https://localhost:8080/"
        },
        "id": "HiDIQk6soYNf",
        "outputId": "1d1b99ab-940f-4447-951c-5c4e16f5f7a7"
      },
      "outputs": [
        {
          "output_type": "stream",
          "name": "stdout",
          "text": [
            " Setting a life goal is an important step in achieving your dreams and fulfilling your purpose. My suggestion would be to reflect on your values and passions, and set SMART goals that align with them. Remember, there is no right or wrong answer – follow your heart and trust in your journey. You've got this!\n"
          ]
        }
      ],
      "source": [
        "print(openai(\n",
        "    few_shot_prompt_template.format(query=query)\n",
        "))"
      ]
    },
    {
      "cell_type": "code",
      "execution_count": null,
      "metadata": {
        "id": "Ta9m7wBwoh7V"
      },
      "outputs": [],
      "source": []
    }
  ],
  "metadata": {
    "colab": {
      "gpuType": "A100",
      "machine_shape": "hm",
      "provenance": []
    },
    "kernelspec": {
      "display_name": "Python 3",
      "name": "python3"
    },
    "language_info": {
      "name": "python"
    }
  },
  "nbformat": 4,
  "nbformat_minor": 0
}