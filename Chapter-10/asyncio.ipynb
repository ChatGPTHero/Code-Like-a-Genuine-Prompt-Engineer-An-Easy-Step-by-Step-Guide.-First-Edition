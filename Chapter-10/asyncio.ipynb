{
  "nbformat": 4,
  "nbformat_minor": 0,
  "metadata": {
    "colab": {
      "provenance": []
    },
    "kernelspec": {
      "name": "python3",
      "display_name": "Python 3"
    },
    "language_info": {
      "name": "python"
    }
  },
  "cells": [
    {
      "cell_type": "code",
      "source": [
        "import asyncio\n",
        "import nest_asyncio\n",
        "\n",
        "nest_asyncio.apply()  # Patch the event loop\n",
        "\n",
        "async def say_hello():\n",
        "    await asyncio.sleep(1)  # Simulate a delay\n",
        "    print(\"Hello\")\n",
        "\n",
        "async def say_world():\n",
        "    await asyncio.sleep(2)  # Simulate a longer delay\n",
        "    print(\"World\")\n",
        "\n",
        "# Use asyncio.run() to run the asynchronous functions\n",
        "asyncio.run(say_hello())\n",
        "asyncio.run(say_world())\n"
      ],
      "metadata": {
        "colab": {
          "base_uri": "https://localhost:8080/"
        },
        "id": "KsslSQzBYfr9",
        "outputId": "f1d843eb-f28a-43ea-ac06-f4071c280f2f"
      },
      "execution_count": 1,
      "outputs": [
        {
          "output_type": "stream",
          "name": "stdout",
          "text": [
            "Hello\n",
            "World\n"
          ]
        }
      ]
    },
    {
      "cell_type": "code",
      "source": [],
      "metadata": {
        "id": "DtECYh6cYkSn"
      },
      "execution_count": null,
      "outputs": []
    }
  ]
}