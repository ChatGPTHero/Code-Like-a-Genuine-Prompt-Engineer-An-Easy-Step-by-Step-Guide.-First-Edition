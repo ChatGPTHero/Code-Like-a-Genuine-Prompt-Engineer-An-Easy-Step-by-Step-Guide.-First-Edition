{
  "cells": [
    {
      "cell_type": "code",
      "execution_count": 1,
      "metadata": {
        "colab": {
          "base_uri": "https://localhost:8080/"
        },
        "id": "3f-Fw3MuRxj5",
        "outputId": "666921b2-84c2-47a5-b6b4-db09ef61a7bb"
      },
      "outputs": [
        {
          "name": "stdout",
          "output_type": "stream",
          "text": [
            "Collecting openai\n",
            "  Downloading openai-1.3.8-py3-none-any.whl (221 kB)\n",
            "\u001b[?25l     \u001b[90m━━━━━━━━━━━━━━━━━━━━━━━━━━━━━━━━━━━━━━━━\u001b[0m \u001b[32m0.0/221.5 kB\u001b[0m \u001b[31m?\u001b[0m eta \u001b[36m-:--:--\u001b[0m\r\u001b[2K     \u001b[91m━━━━━━━━━━━━━━━━\u001b[0m\u001b[91m╸\u001b[0m\u001b[90m━━━━━━━━━━━━━━━━━━━━━━━\u001b[0m \u001b[32m92.2/221.5 kB\u001b[0m \u001b[31m3.0 MB/s\u001b[0m eta \u001b[36m0:00:01\u001b[0m\r\u001b[2K     \u001b[90m━━━━━━━━━━━━━━━━━━━━━━━━━━━━━━━━━━━━━━━━\u001b[0m \u001b[32m221.5/221.5 kB\u001b[0m \u001b[31m4.4 MB/s\u001b[0m eta \u001b[36m0:00:00\u001b[0m\n",
            "\u001b[?25hRequirement already satisfied: anyio<5,>=3.5.0 in /usr/local/lib/python3.10/dist-packages (from openai) (3.7.1)\n",
            "Requirement already satisfied: distro<2,>=1.7.0 in /usr/lib/python3/dist-packages (from openai) (1.7.0)\n",
            "Collecting httpx<1,>=0.23.0 (from openai)\n",
            "  Downloading httpx-0.25.2-py3-none-any.whl (74 kB)\n",
            "\u001b[2K     \u001b[90m━━━━━━━━━━━━━━━━━━━━━━━━━━━━━━━━━━━━━━━━\u001b[0m \u001b[32m75.0/75.0 kB\u001b[0m \u001b[31m10.2 MB/s\u001b[0m eta \u001b[36m0:00:00\u001b[0m\n",
            "\u001b[?25hRequirement already satisfied: pydantic<3,>=1.9.0 in /usr/local/lib/python3.10/dist-packages (from openai) (1.10.13)\n",
            "Requirement already satisfied: sniffio in /usr/local/lib/python3.10/dist-packages (from openai) (1.3.0)\n",
            "Requirement already satisfied: tqdm>4 in /usr/local/lib/python3.10/dist-packages (from openai) (4.66.1)\n",
            "Requirement already satisfied: typing-extensions<5,>=4.5 in /usr/local/lib/python3.10/dist-packages (from openai) (4.5.0)\n",
            "Requirement already satisfied: idna>=2.8 in /usr/local/lib/python3.10/dist-packages (from anyio<5,>=3.5.0->openai) (3.6)\n",
            "Requirement already satisfied: exceptiongroup in /usr/local/lib/python3.10/dist-packages (from anyio<5,>=3.5.0->openai) (1.2.0)\n",
            "Requirement already satisfied: certifi in /usr/local/lib/python3.10/dist-packages (from httpx<1,>=0.23.0->openai) (2023.11.17)\n",
            "Collecting httpcore==1.* (from httpx<1,>=0.23.0->openai)\n",
            "  Downloading httpcore-1.0.2-py3-none-any.whl (76 kB)\n",
            "\u001b[2K     \u001b[90m━━━━━━━━━━━━━━━━━━━━━━━━━━━━━━━━━━━━━━━━\u001b[0m \u001b[32m76.9/76.9 kB\u001b[0m \u001b[31m11.2 MB/s\u001b[0m eta \u001b[36m0:00:00\u001b[0m\n",
            "\u001b[?25hCollecting h11<0.15,>=0.13 (from httpcore==1.*->httpx<1,>=0.23.0->openai)\n",
            "  Downloading h11-0.14.0-py3-none-any.whl (58 kB)\n",
            "\u001b[2K     \u001b[90m━━━━━━━━━━━━━━━━━━━━━━━━━━━━━━━━━━━━━━━━\u001b[0m \u001b[32m58.3/58.3 kB\u001b[0m \u001b[31m8.6 MB/s\u001b[0m eta \u001b[36m0:00:00\u001b[0m\n",
            "\u001b[?25hInstalling collected packages: h11, httpcore, httpx, openai\n",
            "\u001b[31mERROR: pip's dependency resolver does not currently take into account all the packages that are installed. This behaviour is the source of the following dependency conflicts.\n",
            "llmx 0.0.15a0 requires cohere, which is not installed.\n",
            "llmx 0.0.15a0 requires tiktoken, which is not installed.\u001b[0m\u001b[31m\n",
            "\u001b[0mSuccessfully installed h11-0.14.0 httpcore-1.0.2 httpx-0.25.2 openai-1.3.8\n",
            "\n",
            "\n",
            "Apollo 13 is a movie about the true story of the ill-fated Apollo 13 mission to the moon. The mission is almost immediately put in jeopardy when an oxygen tank explodes, leaving the crew and mission control struggling to find a way to bring them home safely. The crew must use their ingenuity and resourcefulness to find a way to survive, while Mission Control must use all of its expertise to bring them home. The crew must battle time, limited resources, and the vastness of space to make it back to Earth.\n",
            "\n",
            "\n",
            "Apollo 13 is a movie about the true story of the ill-fated Apollo 13 mission to the moon. The mission is almost immediately put in jeopardy when an oxygen tank explodes, leaving the crew and mission control struggling to find a way to bring them home safely. The crew must use their ingenuity and resourcefulness to find a way to survive, while Mission Control must use all of its expertise to bring them home. The crew must battle time, limited resources, and the vastness of space to make it back to Earth.\n"
          ]
        }
      ],
      "source": [
        "!pip install openai\n",
        "# Import the 'requests' and 'json' modules to make API requests and handle JSON data, respectively\n",
        "import requests\n",
        "import json\n",
        "\n",
        "# Assign your API key to a variable\n",
        "secret_key = 'your api key'\n",
        "\n",
        "# Set the OpenAI API key, model name, prompt, and temperature\n",
        "api_key = secret_key\n",
        "model = \"text-davinci-003\"\n",
        "prompt = \"Summarize the plot of the movie 'Apolo 13'in no more than 5 sentences without revealing the ending\"\n",
        "temperature = 0.5\n",
        "\n",
        "# Send a POST request to the OpenAI API with the specified prompt and temperature\n",
        "# The 'json' parameter in the request payload is a dictionary containing the prompt and other parameters\n",
        "# The 'headers' parameter in the request payload is a dictionary containing the API key and content type\n",
        "response = requests.post('https://api.openai.com/v1/engines/' + model + '/completions',\n",
        "                         json={'prompt': prompt, 'max_tokens': 500, 'temperature': temperature, },\n",
        "                         headers={'Content-Type': 'application/json', 'Authorization': 'Bearer ' + api_key})\n",
        "\n",
        "# Parse the JSON data in the response into a dictionary using the 'json' module\n",
        "data = json.loads(response.text)\n",
        "\n",
        "# Extract the generated text from the 'choices' key in the parsed JSON data\n",
        "generated_text = data['choices'][0]['text']\n",
        "\n",
        "# Print the generated text\n",
        "print(generated_text)\n",
        "\n",
        "\n",
        "\n",
        "# Print the generated text\n",
        "print(generated_text)"
      ]
    },
    {
      "cell_type": "code",
      "execution_count": null,
      "metadata": {
        "id": "tUOCVEHvTkNQ"
      },
      "outputs": [],
      "source": []
    }
  ],
  "metadata": {
    "colab": {
      "provenance": []
    },
    "kernelspec": {
      "display_name": "Python 3",
      "name": "python3"
    },
    "language_info": {
      "name": "python"
    }
  },
  "nbformat": 4,
  "nbformat_minor": 0
}
